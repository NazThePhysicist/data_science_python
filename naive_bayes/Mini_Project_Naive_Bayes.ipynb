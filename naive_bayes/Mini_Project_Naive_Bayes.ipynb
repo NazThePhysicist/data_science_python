{
 "cells": [
  {
   "cell_type": "markdown",
   "metadata": {},
   "source": [
    "# Basic Text Classification with Naive Bayes\n",
    "***\n",
    "In the mini-project, you'll learn the basics of text analysis using a subset of movie reviews from the rotten tomatoes database. You'll also use a fundamental technique in Bayesian inference, called Naive Bayes. This mini-project is based on [Lab 10 of Harvard's CS109](https://github.com/cs109/2015lab10) class.  Please free to go to the original lab for additional exercises and solutions."
   ]
  },
  {
   "cell_type": "code",
   "execution_count": 1,
   "metadata": {},
   "outputs": [],
   "source": [
    "%matplotlib inline\n",
    "import numpy as np\n",
    "import scipy as sp\n",
    "import matplotlib as mpl\n",
    "import matplotlib.cm as cm\n",
    "import matplotlib.pyplot as plt\n",
    "import pandas as pd\n",
    "import seaborn as sns\n",
    "from six.moves import range\n",
    "\n",
    "# Setup Pandas\n",
    "pd.set_option('display.width', 500)\n",
    "pd.set_option('display.max_columns', 100)\n",
    "pd.set_option('display.notebook_repr_html', True)\n",
    "\n",
    "# Setup Seaborn\n",
    "sns.set_style(\"whitegrid\")\n",
    "sns.set_context(\"poster\")"
   ]
  },
  {
   "cell_type": "markdown",
   "metadata": {},
   "source": [
    "# Table of Contents\n",
    "\n",
    "* [Rotten Tomatoes Dataset](#Rotten-Tomatoes-Dataset)\n",
    "    * [Explore](#Explore)\n",
    "* [The Vector Space Model and a Search Engine](#The-Vector-Space-Model-and-a-Search-Engine)\n",
    "    * [In Code](#In-Code)\n",
    "* [Naive Bayes](#Naive-Bayes)\n",
    "    * [Multinomial Naive Bayes and Other Likelihood Functions](#Multinomial-Naive-Bayes-and-Other-Likelihood-Functions)\n",
    "    * [Picking Hyperparameters for Naive Bayes and Text Maintenance](#Picking-Hyperparameters-for-Naive-Bayes-and-Text-Maintenance)\n",
    "* [Interpretation](#Interpretation)\n"
   ]
  },
  {
   "cell_type": "markdown",
   "metadata": {},
   "source": [
    "## Rotten Tomatoes Dataset"
   ]
  },
  {
   "cell_type": "code",
   "execution_count": 2,
   "metadata": {},
   "outputs": [
    {
     "data": {
      "text/html": [
       "<div>\n",
       "<style scoped>\n",
       "    .dataframe tbody tr th:only-of-type {\n",
       "        vertical-align: middle;\n",
       "    }\n",
       "\n",
       "    .dataframe tbody tr th {\n",
       "        vertical-align: top;\n",
       "    }\n",
       "\n",
       "    .dataframe thead th {\n",
       "        text-align: right;\n",
       "    }\n",
       "</style>\n",
       "<table border=\"1\" class=\"dataframe\">\n",
       "  <thead>\n",
       "    <tr style=\"text-align: right;\">\n",
       "      <th></th>\n",
       "      <th>critic</th>\n",
       "      <th>fresh</th>\n",
       "      <th>imdb</th>\n",
       "      <th>publication</th>\n",
       "      <th>quote</th>\n",
       "      <th>review_date</th>\n",
       "      <th>rtid</th>\n",
       "      <th>title</th>\n",
       "    </tr>\n",
       "  </thead>\n",
       "  <tbody>\n",
       "    <tr>\n",
       "      <th>1</th>\n",
       "      <td>Derek Adams</td>\n",
       "      <td>fresh</td>\n",
       "      <td>114709</td>\n",
       "      <td>Time Out</td>\n",
       "      <td>So ingenious in concept, design and execution ...</td>\n",
       "      <td>2009-10-04</td>\n",
       "      <td>9559</td>\n",
       "      <td>Toy story</td>\n",
       "    </tr>\n",
       "    <tr>\n",
       "      <th>2</th>\n",
       "      <td>Richard Corliss</td>\n",
       "      <td>fresh</td>\n",
       "      <td>114709</td>\n",
       "      <td>TIME Magazine</td>\n",
       "      <td>The year's most inventive comedy.</td>\n",
       "      <td>2008-08-31</td>\n",
       "      <td>9559</td>\n",
       "      <td>Toy story</td>\n",
       "    </tr>\n",
       "    <tr>\n",
       "      <th>3</th>\n",
       "      <td>David Ansen</td>\n",
       "      <td>fresh</td>\n",
       "      <td>114709</td>\n",
       "      <td>Newsweek</td>\n",
       "      <td>A winning animated feature that has something ...</td>\n",
       "      <td>2008-08-18</td>\n",
       "      <td>9559</td>\n",
       "      <td>Toy story</td>\n",
       "    </tr>\n",
       "    <tr>\n",
       "      <th>4</th>\n",
       "      <td>Leonard Klady</td>\n",
       "      <td>fresh</td>\n",
       "      <td>114709</td>\n",
       "      <td>Variety</td>\n",
       "      <td>The film sports a provocative and appealing st...</td>\n",
       "      <td>2008-06-09</td>\n",
       "      <td>9559</td>\n",
       "      <td>Toy story</td>\n",
       "    </tr>\n",
       "    <tr>\n",
       "      <th>5</th>\n",
       "      <td>Jonathan Rosenbaum</td>\n",
       "      <td>fresh</td>\n",
       "      <td>114709</td>\n",
       "      <td>Chicago Reader</td>\n",
       "      <td>An entertaining computer-generated, hyperreali...</td>\n",
       "      <td>2008-03-10</td>\n",
       "      <td>9559</td>\n",
       "      <td>Toy story</td>\n",
       "    </tr>\n",
       "  </tbody>\n",
       "</table>\n",
       "</div>"
      ],
      "text/plain": [
       "               critic  fresh    imdb     publication                                              quote review_date  rtid      title\n",
       "1         Derek Adams  fresh  114709        Time Out  So ingenious in concept, design and execution ...  2009-10-04  9559  Toy story\n",
       "2     Richard Corliss  fresh  114709   TIME Magazine                  The year's most inventive comedy.  2008-08-31  9559  Toy story\n",
       "3         David Ansen  fresh  114709        Newsweek  A winning animated feature that has something ...  2008-08-18  9559  Toy story\n",
       "4       Leonard Klady  fresh  114709         Variety  The film sports a provocative and appealing st...  2008-06-09  9559  Toy story\n",
       "5  Jonathan Rosenbaum  fresh  114709  Chicago Reader  An entertaining computer-generated, hyperreali...  2008-03-10  9559  Toy story"
      ]
     },
     "execution_count": 2,
     "metadata": {},
     "output_type": "execute_result"
    }
   ],
   "source": [
    "critics = pd.read_csv('./critics.csv')\n",
    "#let's drop rows with missing quotes\n",
    "critics = critics[~critics.quote.isnull()]    # what does ~ mean???? it's \"not\"!\n",
    "critics.head()"
   ]
  },
  {
   "cell_type": "markdown",
   "metadata": {},
   "source": [
    "### Explore"
   ]
  },
  {
   "cell_type": "code",
   "execution_count": 3,
   "metadata": {},
   "outputs": [
    {
     "name": "stdout",
     "output_type": "stream",
     "text": [
      "Number of reviews: 15561\n",
      "Number of critics: 623\n",
      "Number of movies:  1921\n"
     ]
    }
   ],
   "source": [
    "n_reviews = len(critics)\n",
    "n_movies = critics.rtid.unique().size\n",
    "n_critics = critics.critic.unique().size\n",
    "\n",
    "\n",
    "print(\"Number of reviews: {:d}\".format(n_reviews))\n",
    "print(\"Number of critics: {:d}\".format(n_critics))\n",
    "print(\"Number of movies:  {:d}\".format(n_movies))"
   ]
  },
  {
   "cell_type": "code",
   "execution_count": 6,
   "metadata": {},
   "outputs": [
    {
     "data": {
      "text/plain": [
       "1921"
      ]
     },
     "execution_count": 6,
     "metadata": {},
     "output_type": "execute_result"
    }
   ],
   "source": [
    "len(critics.rtid.unique())"
   ]
  },
  {
   "cell_type": "code",
   "execution_count": 7,
   "metadata": {},
   "outputs": [
    {
     "data": {
      "text/plain": [
       "1921"
      ]
     },
     "execution_count": 7,
     "metadata": {},
     "output_type": "execute_result"
    }
   ],
   "source": [
    "critics.rtid.unique().size"
   ]
  },
  {
   "cell_type": "code",
   "execution_count": 4,
   "metadata": {},
   "outputs": [
    {
     "data": {
      "text/html": [
       "<div>\n",
       "<style scoped>\n",
       "    .dataframe tbody tr th:only-of-type {\n",
       "        vertical-align: middle;\n",
       "    }\n",
       "\n",
       "    .dataframe tbody tr th {\n",
       "        vertical-align: top;\n",
       "    }\n",
       "\n",
       "    .dataframe thead th {\n",
       "        text-align: right;\n",
       "    }\n",
       "</style>\n",
       "<table border=\"1\" class=\"dataframe\">\n",
       "  <thead>\n",
       "    <tr style=\"text-align: right;\">\n",
       "      <th></th>\n",
       "      <th>imdb</th>\n",
       "      <th>rtid</th>\n",
       "    </tr>\n",
       "  </thead>\n",
       "  <tbody>\n",
       "    <tr>\n",
       "      <th>count</th>\n",
       "      <td>1.556100e+04</td>\n",
       "      <td>1.556100e+04</td>\n",
       "    </tr>\n",
       "    <tr>\n",
       "      <th>mean</th>\n",
       "      <td>1.566739e+05</td>\n",
       "      <td>5.704018e+07</td>\n",
       "    </tr>\n",
       "    <tr>\n",
       "      <th>std</th>\n",
       "      <td>1.588589e+05</td>\n",
       "      <td>1.829727e+08</td>\n",
       "    </tr>\n",
       "    <tr>\n",
       "      <th>min</th>\n",
       "      <td>1.344200e+04</td>\n",
       "      <td>1.100000e+01</td>\n",
       "    </tr>\n",
       "    <tr>\n",
       "      <th>25%</th>\n",
       "      <td>9.905200e+04</td>\n",
       "      <td>1.130600e+04</td>\n",
       "    </tr>\n",
       "    <tr>\n",
       "      <th>50%</th>\n",
       "      <td>1.163670e+05</td>\n",
       "      <td>1.336900e+04</td>\n",
       "    </tr>\n",
       "    <tr>\n",
       "      <th>75%</th>\n",
       "      <td>1.375230e+05</td>\n",
       "      <td>1.641600e+04</td>\n",
       "    </tr>\n",
       "    <tr>\n",
       "      <th>max</th>\n",
       "      <td>1.190539e+06</td>\n",
       "      <td>7.710318e+08</td>\n",
       "    </tr>\n",
       "  </tbody>\n",
       "</table>\n",
       "</div>"
      ],
      "text/plain": [
       "               imdb          rtid\n",
       "count  1.556100e+04  1.556100e+04\n",
       "mean   1.566739e+05  5.704018e+07\n",
       "std    1.588589e+05  1.829727e+08\n",
       "min    1.344200e+04  1.100000e+01\n",
       "25%    9.905200e+04  1.130600e+04\n",
       "50%    1.163670e+05  1.336900e+04\n",
       "75%    1.375230e+05  1.641600e+04\n",
       "max    1.190539e+06  7.710318e+08"
      ]
     },
     "execution_count": 4,
     "metadata": {},
     "output_type": "execute_result"
    }
   ],
   "source": [
    "critics.describe()"
   ]
  },
  {
   "cell_type": "code",
   "execution_count": 7,
   "metadata": {},
   "outputs": [
    {
     "data": {
      "text/plain": [
       "Index(['critic', 'fresh', 'imdb', 'publication', 'quote', 'review_date', 'rtid', 'title'], dtype='object')"
      ]
     },
     "execution_count": 7,
     "metadata": {},
     "output_type": "execute_result"
    }
   ],
   "source": [
    "critics.columns"
   ]
  },
  {
   "cell_type": "code",
   "execution_count": 9,
   "metadata": {},
   "outputs": [
    {
     "data": {
      "text/plain": [
       "124488"
      ]
     },
     "execution_count": 9,
     "metadata": {},
     "output_type": "execute_result"
    }
   ],
   "source": [
    "critics.size\n"
   ]
  },
  {
   "cell_type": "code",
   "execution_count": 13,
   "metadata": {},
   "outputs": [
    {
     "data": {
      "text/plain": [
       "8"
      ]
     },
     "execution_count": 13,
     "metadata": {},
     "output_type": "execute_result"
    }
   ],
   "source": [
    "critics.columns.unique().size"
   ]
  },
  {
   "cell_type": "code",
   "execution_count": 21,
   "metadata": {},
   "outputs": [
    {
     "data": {
      "text/html": [
       "<div>\n",
       "<style scoped>\n",
       "    .dataframe tbody tr th:only-of-type {\n",
       "        vertical-align: middle;\n",
       "    }\n",
       "\n",
       "    .dataframe tbody tr th {\n",
       "        vertical-align: top;\n",
       "    }\n",
       "\n",
       "    .dataframe thead th {\n",
       "        text-align: right;\n",
       "    }\n",
       "</style>\n",
       "<table border=\"1\" class=\"dataframe\">\n",
       "  <thead>\n",
       "    <tr style=\"text-align: right;\">\n",
       "      <th></th>\n",
       "      <th>critic</th>\n",
       "      <th>fresh</th>\n",
       "      <th>imdb</th>\n",
       "      <th>publication</th>\n",
       "      <th>quote</th>\n",
       "      <th>review_date</th>\n",
       "      <th>rtid</th>\n",
       "      <th>title</th>\n",
       "    </tr>\n",
       "  </thead>\n",
       "  <tbody>\n",
       "    <tr>\n",
       "      <th>1</th>\n",
       "      <td>Derek Adams</td>\n",
       "      <td>fresh</td>\n",
       "      <td>114709</td>\n",
       "      <td>Time Out</td>\n",
       "      <td>So ingenious in concept, design and execution ...</td>\n",
       "      <td>2009-10-04</td>\n",
       "      <td>9559</td>\n",
       "      <td>Toy story</td>\n",
       "    </tr>\n",
       "    <tr>\n",
       "      <th>2</th>\n",
       "      <td>Richard Corliss</td>\n",
       "      <td>fresh</td>\n",
       "      <td>114709</td>\n",
       "      <td>TIME Magazine</td>\n",
       "      <td>The year's most inventive comedy.</td>\n",
       "      <td>2008-08-31</td>\n",
       "      <td>9559</td>\n",
       "      <td>Toy story</td>\n",
       "    </tr>\n",
       "    <tr>\n",
       "      <th>3</th>\n",
       "      <td>David Ansen</td>\n",
       "      <td>fresh</td>\n",
       "      <td>114709</td>\n",
       "      <td>Newsweek</td>\n",
       "      <td>A winning animated feature that has something ...</td>\n",
       "      <td>2008-08-18</td>\n",
       "      <td>9559</td>\n",
       "      <td>Toy story</td>\n",
       "    </tr>\n",
       "    <tr>\n",
       "      <th>4</th>\n",
       "      <td>Leonard Klady</td>\n",
       "      <td>fresh</td>\n",
       "      <td>114709</td>\n",
       "      <td>Variety</td>\n",
       "      <td>The film sports a provocative and appealing st...</td>\n",
       "      <td>2008-06-09</td>\n",
       "      <td>9559</td>\n",
       "      <td>Toy story</td>\n",
       "    </tr>\n",
       "    <tr>\n",
       "      <th>5</th>\n",
       "      <td>Jonathan Rosenbaum</td>\n",
       "      <td>fresh</td>\n",
       "      <td>114709</td>\n",
       "      <td>Chicago Reader</td>\n",
       "      <td>An entertaining computer-generated, hyperreali...</td>\n",
       "      <td>2008-03-10</td>\n",
       "      <td>9559</td>\n",
       "      <td>Toy story</td>\n",
       "    </tr>\n",
       "    <tr>\n",
       "      <th>6</th>\n",
       "      <td>Michael Booth</td>\n",
       "      <td>fresh</td>\n",
       "      <td>114709</td>\n",
       "      <td>Denver Post</td>\n",
       "      <td>As Lion King did before it, Toy Story revived ...</td>\n",
       "      <td>2007-05-03</td>\n",
       "      <td>9559</td>\n",
       "      <td>Toy story</td>\n",
       "    </tr>\n",
       "    <tr>\n",
       "      <th>7</th>\n",
       "      <td>Geoff Andrew</td>\n",
       "      <td>fresh</td>\n",
       "      <td>114709</td>\n",
       "      <td>Time Out</td>\n",
       "      <td>The film will probably be more fully appreciat...</td>\n",
       "      <td>2006-06-24</td>\n",
       "      <td>9559</td>\n",
       "      <td>Toy story</td>\n",
       "    </tr>\n",
       "    <tr>\n",
       "      <th>8</th>\n",
       "      <td>Janet Maslin</td>\n",
       "      <td>fresh</td>\n",
       "      <td>114709</td>\n",
       "      <td>New York Times</td>\n",
       "      <td>Children will enjoy a new take on the irresist...</td>\n",
       "      <td>2003-05-20</td>\n",
       "      <td>9559</td>\n",
       "      <td>Toy story</td>\n",
       "    </tr>\n",
       "    <tr>\n",
       "      <th>9</th>\n",
       "      <td>Kenneth Turan</td>\n",
       "      <td>fresh</td>\n",
       "      <td>114709</td>\n",
       "      <td>Los Angeles Times</td>\n",
       "      <td>Although its computer-generated imagery is imp...</td>\n",
       "      <td>2001-02-13</td>\n",
       "      <td>9559</td>\n",
       "      <td>Toy story</td>\n",
       "    </tr>\n",
       "    <tr>\n",
       "      <th>10</th>\n",
       "      <td>Susan Wloszczyna</td>\n",
       "      <td>fresh</td>\n",
       "      <td>114709</td>\n",
       "      <td>USA Today</td>\n",
       "      <td>How perfect that two of the most popular funny...</td>\n",
       "      <td>2000-01-01</td>\n",
       "      <td>9559</td>\n",
       "      <td>Toy story</td>\n",
       "    </tr>\n",
       "    <tr>\n",
       "      <th>11</th>\n",
       "      <td>Roger Ebert</td>\n",
       "      <td>fresh</td>\n",
       "      <td>114709</td>\n",
       "      <td>Chicago Sun-Times</td>\n",
       "      <td>The result is a visionary roller-coaster ride ...</td>\n",
       "      <td>2000-01-01</td>\n",
       "      <td>9559</td>\n",
       "      <td>Toy story</td>\n",
       "    </tr>\n",
       "    <tr>\n",
       "      <th>12</th>\n",
       "      <td>John Hartl</td>\n",
       "      <td>fresh</td>\n",
       "      <td>114709</td>\n",
       "      <td>Film.com</td>\n",
       "      <td>Disney's witty, wondrously imaginative, all-co...</td>\n",
       "      <td>2000-01-01</td>\n",
       "      <td>9559</td>\n",
       "      <td>Toy story</td>\n",
       "    </tr>\n",
       "    <tr>\n",
       "      <th>13</th>\n",
       "      <td>Susan Stark</td>\n",
       "      <td>fresh</td>\n",
       "      <td>114709</td>\n",
       "      <td>Detroit News</td>\n",
       "      <td>Disney's first computer-made animated feature ...</td>\n",
       "      <td>2000-01-01</td>\n",
       "      <td>9559</td>\n",
       "      <td>Toy story</td>\n",
       "    </tr>\n",
       "    <tr>\n",
       "      <th>14</th>\n",
       "      <td>Peter Stack</td>\n",
       "      <td>fresh</td>\n",
       "      <td>114709</td>\n",
       "      <td>San Francisco Chronicle</td>\n",
       "      <td>The script, by Lasseter, Pete Docter, Andrew S...</td>\n",
       "      <td>2000-01-01</td>\n",
       "      <td>9559</td>\n",
       "      <td>Toy story</td>\n",
       "    </tr>\n",
       "    <tr>\n",
       "      <th>15</th>\n",
       "      <td>James Berardinelli</td>\n",
       "      <td>fresh</td>\n",
       "      <td>114709</td>\n",
       "      <td>ReelViews</td>\n",
       "      <td>The one big negative about Toy Story involves ...</td>\n",
       "      <td>2000-01-01</td>\n",
       "      <td>9559</td>\n",
       "      <td>Toy story</td>\n",
       "    </tr>\n",
       "    <tr>\n",
       "      <th>16</th>\n",
       "      <td>Sean Means</td>\n",
       "      <td>fresh</td>\n",
       "      <td>114709</td>\n",
       "      <td>Film.com</td>\n",
       "      <td>Technically, Toy Story is nearly flawless.</td>\n",
       "      <td>2000-01-01</td>\n",
       "      <td>9559</td>\n",
       "      <td>Toy story</td>\n",
       "    </tr>\n",
       "    <tr>\n",
       "      <th>17</th>\n",
       "      <td>Rita Kempley</td>\n",
       "      <td>fresh</td>\n",
       "      <td>114709</td>\n",
       "      <td>Washington Post</td>\n",
       "      <td>It's a nice change of pace to see the studio d...</td>\n",
       "      <td>2000-01-01</td>\n",
       "      <td>9559</td>\n",
       "      <td>Toy story</td>\n",
       "    </tr>\n",
       "    <tr>\n",
       "      <th>18</th>\n",
       "      <td>NaN</td>\n",
       "      <td>fresh</td>\n",
       "      <td>114709</td>\n",
       "      <td>Entertainment Weekly</td>\n",
       "      <td>I can hardly imagine having more fun at the mo...</td>\n",
       "      <td>1995-11-22</td>\n",
       "      <td>9559</td>\n",
       "      <td>Toy story</td>\n",
       "    </tr>\n",
       "    <tr>\n",
       "      <th>19</th>\n",
       "      <td>Roger Moore</td>\n",
       "      <td>fresh</td>\n",
       "      <td>114709</td>\n",
       "      <td>Orlando Sentinel</td>\n",
       "      <td>The great voice acting, the visual puns, all a...</td>\n",
       "      <td>1995-11-22</td>\n",
       "      <td>9559</td>\n",
       "      <td>Toy story</td>\n",
       "    </tr>\n",
       "    <tr>\n",
       "      <th>30</th>\n",
       "      <td>Roger Ebert</td>\n",
       "      <td>rotten</td>\n",
       "      <td>113497</td>\n",
       "      <td>Chicago Sun-Times</td>\n",
       "      <td>A gloomy special-effects extravaganza filled w...</td>\n",
       "      <td>2000-01-01</td>\n",
       "      <td>12436</td>\n",
       "      <td>Jumanji</td>\n",
       "    </tr>\n",
       "  </tbody>\n",
       "</table>\n",
       "</div>"
      ],
      "text/plain": [
       "                critic   fresh    imdb              publication                                              quote review_date   rtid      title\n",
       "1          Derek Adams   fresh  114709                 Time Out  So ingenious in concept, design and execution ...  2009-10-04   9559  Toy story\n",
       "2      Richard Corliss   fresh  114709            TIME Magazine                  The year's most inventive comedy.  2008-08-31   9559  Toy story\n",
       "3          David Ansen   fresh  114709                 Newsweek  A winning animated feature that has something ...  2008-08-18   9559  Toy story\n",
       "4        Leonard Klady   fresh  114709                  Variety  The film sports a provocative and appealing st...  2008-06-09   9559  Toy story\n",
       "5   Jonathan Rosenbaum   fresh  114709           Chicago Reader  An entertaining computer-generated, hyperreali...  2008-03-10   9559  Toy story\n",
       "6        Michael Booth   fresh  114709              Denver Post  As Lion King did before it, Toy Story revived ...  2007-05-03   9559  Toy story\n",
       "7         Geoff Andrew   fresh  114709                 Time Out  The film will probably be more fully appreciat...  2006-06-24   9559  Toy story\n",
       "8         Janet Maslin   fresh  114709           New York Times  Children will enjoy a new take on the irresist...  2003-05-20   9559  Toy story\n",
       "9        Kenneth Turan   fresh  114709        Los Angeles Times  Although its computer-generated imagery is imp...  2001-02-13   9559  Toy story\n",
       "10    Susan Wloszczyna   fresh  114709                USA Today  How perfect that two of the most popular funny...  2000-01-01   9559  Toy story\n",
       "11         Roger Ebert   fresh  114709        Chicago Sun-Times  The result is a visionary roller-coaster ride ...  2000-01-01   9559  Toy story\n",
       "12          John Hartl   fresh  114709                 Film.com  Disney's witty, wondrously imaginative, all-co...  2000-01-01   9559  Toy story\n",
       "13         Susan Stark   fresh  114709             Detroit News  Disney's first computer-made animated feature ...  2000-01-01   9559  Toy story\n",
       "14         Peter Stack   fresh  114709  San Francisco Chronicle  The script, by Lasseter, Pete Docter, Andrew S...  2000-01-01   9559  Toy story\n",
       "15  James Berardinelli   fresh  114709                ReelViews  The one big negative about Toy Story involves ...  2000-01-01   9559  Toy story\n",
       "16          Sean Means   fresh  114709                 Film.com         Technically, Toy Story is nearly flawless.  2000-01-01   9559  Toy story\n",
       "17        Rita Kempley   fresh  114709          Washington Post  It's a nice change of pace to see the studio d...  2000-01-01   9559  Toy story\n",
       "18                 NaN   fresh  114709     Entertainment Weekly  I can hardly imagine having more fun at the mo...  1995-11-22   9559  Toy story\n",
       "19         Roger Moore   fresh  114709         Orlando Sentinel  The great voice acting, the visual puns, all a...  1995-11-22   9559  Toy story\n",
       "30         Roger Ebert  rotten  113497        Chicago Sun-Times  A gloomy special-effects extravaganza filled w...  2000-01-01  12436    Jumanji"
      ]
     },
     "execution_count": 21,
     "metadata": {},
     "output_type": "execute_result"
    }
   ],
   "source": [
    "critics.head(20)"
   ]
  },
  {
   "cell_type": "code",
   "execution_count": 23,
   "metadata": {},
   "outputs": [
    {
     "data": {
      "text/html": [
       "<div>\n",
       "<style scoped>\n",
       "    .dataframe tbody tr th:only-of-type {\n",
       "        vertical-align: middle;\n",
       "    }\n",
       "\n",
       "    .dataframe tbody tr th {\n",
       "        vertical-align: top;\n",
       "    }\n",
       "\n",
       "    .dataframe thead th {\n",
       "        text-align: right;\n",
       "    }\n",
       "</style>\n",
       "<table border=\"1\" class=\"dataframe\">\n",
       "  <thead>\n",
       "    <tr style=\"text-align: right;\">\n",
       "      <th></th>\n",
       "      <th>fresh</th>\n",
       "      <th>imdb</th>\n",
       "      <th>publication</th>\n",
       "      <th>quote</th>\n",
       "      <th>review_date</th>\n",
       "      <th>rtid</th>\n",
       "      <th>title</th>\n",
       "    </tr>\n",
       "    <tr>\n",
       "      <th>critic</th>\n",
       "      <th></th>\n",
       "      <th></th>\n",
       "      <th></th>\n",
       "      <th></th>\n",
       "      <th></th>\n",
       "      <th></th>\n",
       "      <th></th>\n",
       "    </tr>\n",
       "  </thead>\n",
       "  <tbody>\n",
       "    <tr>\n",
       "      <th>A.D. Murphy</th>\n",
       "      <td>13</td>\n",
       "      <td>13</td>\n",
       "      <td>13</td>\n",
       "      <td>13</td>\n",
       "      <td>13</td>\n",
       "      <td>13</td>\n",
       "      <td>13</td>\n",
       "    </tr>\n",
       "    <tr>\n",
       "      <th>A.H. Weiler</th>\n",
       "      <td>17</td>\n",
       "      <td>17</td>\n",
       "      <td>17</td>\n",
       "      <td>17</td>\n",
       "      <td>17</td>\n",
       "      <td>17</td>\n",
       "      <td>17</td>\n",
       "    </tr>\n",
       "    <tr>\n",
       "      <th>A.O. Scott</th>\n",
       "      <td>19</td>\n",
       "      <td>19</td>\n",
       "      <td>19</td>\n",
       "      <td>19</td>\n",
       "      <td>19</td>\n",
       "      <td>19</td>\n",
       "      <td>19</td>\n",
       "    </tr>\n",
       "    <tr>\n",
       "      <th>Aaron Hillis</th>\n",
       "      <td>2</td>\n",
       "      <td>2</td>\n",
       "      <td>2</td>\n",
       "      <td>2</td>\n",
       "      <td>2</td>\n",
       "      <td>2</td>\n",
       "      <td>2</td>\n",
       "    </tr>\n",
       "    <tr>\n",
       "      <th>Abel Green</th>\n",
       "      <td>5</td>\n",
       "      <td>5</td>\n",
       "      <td>5</td>\n",
       "      <td>5</td>\n",
       "      <td>5</td>\n",
       "      <td>5</td>\n",
       "      <td>5</td>\n",
       "    </tr>\n",
       "  </tbody>\n",
       "</table>\n",
       "</div>"
      ],
      "text/plain": [
       "              fresh  imdb  publication  quote  review_date  rtid  title\n",
       "critic                                                                 \n",
       "A.D. Murphy      13    13           13     13           13    13     13\n",
       "A.H. Weiler      17    17           17     17           17    17     17\n",
       "A.O. Scott       19    19           19     19           19    19     19\n",
       "Aaron Hillis      2     2            2      2            2     2      2\n",
       "Abel Green        5     5            5      5            5     5      5"
      ]
     },
     "execution_count": 23,
     "metadata": {},
     "output_type": "execute_result"
    }
   ],
   "source": [
    "grp.count().head()"
   ]
  },
  {
   "cell_type": "code",
   "execution_count": 25,
   "metadata": {},
   "outputs": [
    {
     "data": {
      "text/plain": [
       "critic\n",
       "A.D. Murphy     13\n",
       "A.H. Weiler     17\n",
       "A.O. Scott      19\n",
       "Aaron Hillis     2\n",
       "Abel Green       5\n",
       "Name: critic, dtype: int64"
      ]
     },
     "execution_count": 25,
     "metadata": {},
     "output_type": "execute_result"
    }
   ],
   "source": [
    "grp.critic.count().head()"
   ]
  },
  {
   "cell_type": "code",
   "execution_count": 27,
   "metadata": {},
   "outputs": [
    {
     "data": {
      "text/plain": [
       "critic\n",
       "A.D. Murphy     1.000000\n",
       "A.H. Weiler     0.705882\n",
       "A.O. Scott      0.368421\n",
       "Aaron Hillis    1.000000\n",
       "Abel Green      1.000000\n",
       "Name: fresh, dtype: float64"
      ]
     },
     "execution_count": 27,
     "metadata": {},
     "output_type": "execute_result"
    }
   ],
   "source": [
    "grp.fresh.mean().head()"
   ]
  },
  {
   "cell_type": "code",
   "execution_count": 29,
   "metadata": {},
   "outputs": [
    {
     "data": {
      "text/plain": [
       "critic\n",
       "Bosley Crowther    0.695035\n",
       "Dave Kehr          0.591716\n",
       "Derek Adams        0.615894\n",
       "Desson Thomson     0.588235\n",
       "Edward Guthmann    0.638655\n",
       "Name: fresh, dtype: float64"
      ]
     },
     "execution_count": 29,
     "metadata": {},
     "output_type": "execute_result"
    }
   ],
   "source": [
    "means[counts > 100].head()   #meaning?????? aveg of all the revirerw s who have reviewd more than 100 movies"
   ]
  },
  {
   "cell_type": "code",
   "execution_count": 10,
   "metadata": {},
   "outputs": [
    {
     "data": {
      "text/plain": [
       "Index(['critic', 'fresh', 'imdb', 'publication', 'quote', 'review_date', 'rtid', 'title'], dtype='object')"
      ]
     },
     "execution_count": 10,
     "metadata": {},
     "output_type": "execute_result"
    }
   ],
   "source": [
    "df.columns"
   ]
  },
  {
   "cell_type": "code",
   "execution_count": 13,
   "metadata": {},
   "outputs": [
    {
     "data": {
      "text/plain": [
       "True     9482\n",
       "False    6079\n",
       "Name: fresh, dtype: int64"
      ]
     },
     "execution_count": 13,
     "metadata": {},
     "output_type": "execute_result"
    }
   ],
   "source": [
    "df.fresh.value_counts()"
   ]
  },
  {
   "cell_type": "code",
   "execution_count": 4,
   "metadata": {},
   "outputs": [
    {
     "data": {
      "image/png": "[encoded data removed]",
      "text/plain": [
       "<Figure size 432x288 with 1 Axes>"
      ]
     },
     "metadata": {
      "needs_background": "light"
     },
     "output_type": "display_data"
    }
   ],
   "source": [
    "df = critics.copy()       #makes a shallow copy so the original data is intact\n",
    "df['fresh'] = df.fresh == 'fresh'\n",
    "grp = df.groupby('critic')    # groups by the critics (the individuals)\n",
    "counts = grp.critic.count()  # number of reviews by each critic\n",
    "means = grp.fresh.mean()     # average freshness for each critic\n",
    "\n",
    "means[counts > 100].hist(bins=10, edgecolor='w', lw=1)\n",
    "plt.xlabel(\"Average Rating per critic\")\n",
    "plt.ylabel(\"Number of Critics\")\n",
    "plt.yticks([0, 2, 4, 6, 8, 10]);"
   ]
  },
  {
   "cell_type": "code",
   "execution_count": 31,
   "metadata": {
    "scrolled": true
   },
   "outputs": [
    {
     "data": {
      "image/png": "[encoded data removed]",
      "text/plain": [
       "<Figure size 432x288 with 1 Axes>"
      ]
     },
     "metadata": {
      "needs_background": "light"
     },
     "output_type": "display_data"
    }
   ],
   "source": [
    "means[counts > 100].hist(bins=4, edgecolor='w', lw=1)\n",
    "plt.xlabel(\"Average Rating per critic\")\n",
    "plt.ylabel(\"Number of Critics\")\n",
    "plt.yticks([0, 2, 4, 6, 8, 10]);"
   ]
  },
  {
   "cell_type": "code",
   "execution_count": 32,
   "metadata": {},
   "outputs": [],
   "source": [
    "df = df.drop(['large_counts'], axis=1)"
   ]
  },
  {
   "cell_type": "code",
   "execution_count": 33,
   "metadata": {},
   "outputs": [
    {
     "data": {
      "text/plain": [
       "Index(['critic', 'fresh', 'imdb', 'publication', 'quote', 'review_date', 'rtid', 'title'], dtype='object')"
      ]
     },
     "execution_count": 33,
     "metadata": {},
     "output_type": "execute_result"
    }
   ],
   "source": [
    "df.columns"
   ]
  },
  {
   "cell_type": "code",
   "execution_count": 19,
   "metadata": {},
   "outputs": [
    {
     "name": "stdout",
     "output_type": "stream",
     "text": [
      "critic\n",
      "A.D. Murphy                1.000000\n",
      "A.H. Weiler                0.705882\n",
      "A.O. Scott                 0.368421\n",
      "Aaron Hillis               1.000000\n",
      "Abel Green                 1.000000\n",
      "Achy Obejas                0.000000\n",
      "Adam Graham                0.166667\n",
      "Adam Markovitz             0.000000\n",
      "Akiva Gottlieb             0.000000\n",
      "Al Brumley                 0.333333\n",
      "Al Finestone               1.000000\n",
      "Alan Scherstuhl            1.000000\n",
      "Alfred Rushford Greason    1.000000\n",
      "Alissa Simon               0.000000\n",
      "Allan Johnson              1.000000\n",
      "Name: fresh, dtype: float64\n"
     ]
    }
   ],
   "source": [
    "print(means.head(15))"
   ]
  },
  {
   "cell_type": "markdown",
   "metadata": {},
   "source": [
    "<div class=\"span5 alert alert-info\">\n",
    "<h3>Exercise Set I</h3>\n",
    "<br/>\n",
    "<b>Exercise:</b> Look at the histogram above. Tell a story about the average ratings per critic. What shape does the distribution look like? What is interesting about the distribution? What might explain these interesting things?\n",
    "</div>"
   ]
  },
  {
   "cell_type": "markdown",
   "metadata": {},
   "source": [
    "+ The average ratings per critic seems to have it's highest occurance at 0.6, meaning that a lot of critics ranked 0.6 on average. \n",
    "+ bi modal it has 2 peaks\n",
    "+ It almost looks normal, except for a dip right before the max value. This will be washed away if we reduce the number of bins"
   ]
  },
  {
   "cell_type": "markdown",
   "metadata": {},
   "source": [
    "## The Vector Space Model and a Search Engine"
   ]
  },
  {
   "cell_type": "markdown",
   "metadata": {},
   "source": [
    "All the diagrams here are snipped from [*Introduction to Information Retrieval* by Manning et. al.]( http://nlp.stanford.edu/IR-book/) which is a great resource on text processing. For additional information on text mining and natural language processing, see [*Foundations of Statistical Natural Language Processing* by Manning and Schutze](http://nlp.stanford.edu/fsnlp/).\n",
    "\n",
    "Also check out Python packages [`nltk`](http://www.nltk.org/), [`spaCy`](https://spacy.io/), [`pattern`](http://www.clips.ua.ac.be/pattern), and their associated resources. Also see [`word2vec`](https://en.wikipedia.org/wiki/Word2vec).\n",
    "\n",
    "Let us define the vector derived from document $d$ by $\\bar V(d)$. What does this mean? Each document is treated as a vector containing information about the words contained in it. Each vector has the same length and each entry \"slot\" in the vector contains some kind of data about the words that appear in the document such as presence/absence (1/0), count (an integer) or some other statistic. Each vector has the same length because each document shared the same vocabulary across the full collection of documents -- this collection is called a *corpus*.\n",
    "\n",
    "To define the vocabulary, we take a union of all words we have seen in all documents. We then just associate an array index with them. So \"hello\" may be at index 5 and \"world\" at index 99.\n",
    "\n",
    "Suppose we have the following corpus:\n",
    "\n",
    "`A Fox one day spied a beautiful bunch of ripe grapes hanging from a vine trained along the branches of a tree. The grapes seemed ready to burst with juice, and the Fox's mouth watered as he gazed longingly at them.`\n",
    "\n",
    "Suppose we treat each sentence as a document $d$. The vocabulary (often called the *lexicon*) is the following:\n",
    "\n",
    "$V = \\left\\{\\right.$ `a, along, and, as, at, beautiful, branches, bunch, burst, day, fox, fox's, from, gazed, grapes, hanging, he, juice, longingly, mouth, of, one, ready, ripe, seemed, spied, the, them, to, trained, tree, vine, watered, with`$\\left.\\right\\}$\n",
    "\n",
    "Then the document\n",
    "\n",
    "`A Fox one day spied a beautiful bunch of ripe grapes hanging from a vine trained along the branches of a tree`\n",
    "\n",
    "may be represented as the following sparse vector of word counts:\n",
    "\n",
    "$$\\bar V(d) = \\left( 4,1,0,0,0,1,1,1,0,1,1,0,1,0,1,1,0,0,0,0,2,1,0,1,0,0,1,0,0,1,1,1,0,0 \\right)$$\n",
    "\n",
    "or more succinctly as\n",
    "\n",
    "`[(0, 4), (1, 1), (5, 1), (6, 1), (7, 1), (9, 1), (10, 1), (12, 1), (14, 1), (15, 1), (20, 2), (21, 1), (23, 1),`\n",
    "`(26, 1), (29,1), (30, 1), (31, 1)]`\n",
    "\n",
    "along with a dictionary\n",
    "\n",
    "``\n",
    "{\n",
    "    0: a, 1: along, 5: beautiful, 6: branches, 7: bunch, 9: day, 10: fox, 12: from, 14: grapes, 15: hanging, 19: mouth, 20: of, 21: one, 23: ripe, 24: seemed, 25: spied, 26: the, 29:trained, 30: tree, 31: vine, \n",
    "}\n",
    "``\n",
    "\n",
    "Then, a set of documents becomes, in the usual `sklearn` style, a sparse matrix with rows being sparse arrays representing documents and columns representing the features/words in the vocabulary.\n",
    "\n",
    "Notice that this representation loses the relative ordering of the terms in the document. That is \"cat ate rat\" and \"rat ate cat\" are the same. Thus, this representation is also known as the Bag-Of-Words representation.\n",
    "\n",
    "Here is another example, from the book quoted above, although the matrix is transposed here so that documents are columns:\n",
    "\n",
    "![novel terms](terms.png)\n",
    "\n",
    "Such a matrix is also catted a Term-Document Matrix. Here, the terms being indexed could be stemmed before indexing; for instance, `jealous` and `jealousy` after stemming are the same feature. One could also make use of other \"Natural Language Processing\" transformations in constructing the vocabulary. We could use Lemmatization, which reduces words to lemmas: work, working, worked would all reduce to work. We could remove \"stopwords\" from our vocabulary, such as common words like \"the\". We could look for particular parts of speech, such as adjectives. This is often done in Sentiment Analysis. And so on. It all depends on our application.\n",
    "\n",
    "From the book:\n",
    ">The standard way of quantifying the similarity between two documents $d_1$ and $d_2$  is to compute the cosine similarity of their vector representations $\\bar V(d_1)$ and $\\bar V(d_2)$:\n",
    "\n",
    "$$S_{12} = \\frac{\\bar V(d_1) \\cdot \\bar V(d_2)}{|\\bar V(d_1)| \\times |\\bar V(d_2)|}$$\n",
    "\n",
    "![Vector Space Model](vsm.png)\n",
    "\n",
    "\n",
    ">There is a far more compelling reason to represent documents as vectors: we can also view a query as a vector. Consider the query q = jealous gossip. This query turns into the unit vector $\\bar V(q)$ = (0, 0.707, 0.707) on the three coordinates below. \n",
    "\n",
    "![novel terms](terms2.png)\n",
    "\n",
    ">The key idea now: to assign to each document d a score equal to the dot product:\n",
    "\n",
    "$$\\bar V(q) \\cdot \\bar V(d)$$\n",
    "\n",
    "Then we can use this simple Vector Model as a Search engine."
   ]
  },
  {
   "cell_type": "markdown",
   "metadata": {},
   "source": [
    "### In Code"
   ]
  },
  {
   "cell_type": "code",
   "execution_count": 25,
   "metadata": {},
   "outputs": [
    {
     "name": "stdout",
     "output_type": "stream",
     "text": [
      "Original text is\n",
      "Hop on pop\n",
      "Hop off pop\n",
      "Hop Hop hop\n",
      "\n",
      "Transformed text vector is \n",
      "  (0, 0)\t1\n",
      "  (0, 2)\t1\n",
      "  (0, 3)\t1\n",
      "  (1, 0)\t1\n",
      "  (1, 1)\t1\n",
      "  (1, 3)\t1\n",
      "  (2, 0)\t3\n",
      "  (0, 0)\t1\n",
      "  (0, 2)\t1\n",
      "  (0, 3)\t1\n",
      "  (1, 0)\t1\n",
      "  (1, 1)\t1\n",
      "  (1, 3)\t1\n",
      "  (2, 0)\t3\n",
      "\n",
      "Words for each feature:\n",
      "['hop', 'off', 'on', 'pop']\n"
     ]
    }
   ],
   "source": [
    "from sklearn.feature_extraction.text import CountVectorizer\n",
    "\n",
    "text = ['Hop on pop', 'Hop off pop', 'Hop Hop hop']\n",
    "print(\"Original text is\\n{}\".format('\\n'.join(text)))\n",
    "\n",
    "vectorizer = CountVectorizer(min_df=0)\n",
    "\n",
    "# call `fit` to build the vocabulary\n",
    "vectorizer.fit(text)\n",
    "\n",
    "# call `transform` to convert text to a bag of words\n",
    "x = vectorizer.transform(text)\n",
    "\n",
    "# CountVectorizer uses a sparse array to save memory, but it's easier in this assignment to \n",
    "# convert back to a \"normal\" numpy array\n",
    "#x = x.toarray()\n",
    "\n",
    "print(\"\")\n",
    "print(\"Transformed text vector is \\n{}\".format(x))\n",
    "print(x)\n",
    "# `get_feature_names` tracks which word is associated with each column of the transformed x\n",
    "print(\"\")\n",
    "print(\"Words for each feature:\")\n",
    "print(vectorizer.get_feature_names())  #Array mapping from feature integer indices to feature name\n",
    "# Notice that the bag of words treatment doesn't preserve information about the *order* of words, \n",
    "# just their frequency"
   ]
  },
  {
   "cell_type": "code",
   "execution_count": 27,
   "metadata": {},
   "outputs": [
    {
     "data": {
      "text/plain": [
       "<3x4 sparse matrix of type '<class 'numpy.int64'>'\n",
       "\twith 7 stored elements in Compressed Sparse Column format>"
      ]
     },
     "execution_count": 27,
     "metadata": {},
     "output_type": "execute_result"
    }
   ],
   "source": [
    "x =x.tocsc() \n",
    "x"
   ]
  },
  {
   "cell_type": "code",
   "execution_count": 73,
   "metadata": {},
   "outputs": [
    {
     "name": "stdout",
     "output_type": "stream",
     "text": [
      "CountVectorizer(analyzer='word', binary=False, decode_error='strict',\n",
      "        dtype=<class 'numpy.int64'>, encoding='utf-8', input='content',\n",
      "        lowercase=True, max_df=49, max_features=None, min_df=1,\n",
      "        ngram_range=(1, 1), preprocessor=None, stop_words=None,\n",
      "        strip_accents=None, token_pattern='(?u)\\\\b\\\\w\\\\w+\\\\b',\n",
      "        tokenizer=None, vocabulary=None)\n"
     ]
    }
   ],
   "source": [
    "print(vectorizer)"
   ]
  },
  {
   "cell_type": "code",
   "execution_count": 6,
   "metadata": {},
   "outputs": [],
   "source": [
    "def make_xy(critics, vectorizer=None):  # STILL QUESTION\n",
    "    #Your code here    \n",
    "    if vectorizer is None:     # what if we say 0 ?????? None means Null. 0 is an integer \n",
    "        vectorizer = CountVectorizer()\n",
    "#when to know to have CountVectorizer(min_df=0) and when not ot have min_df???? it is set to zero by default\n",
    "    X = vectorizer.fit_transform(critics.quote) #fits and transforms??? transform to the numeric representation \n",
    "#fit_transform() joins these two steps and is used for the initial fitting of parameters on the training set x, \n",
    "#but it also returns a transformed x′. Internally, it just calls first fit() and then transform() on the same data.\n",
    "    X = X.tocsc()  # some versions of sklearn return COO format #compressed column sparse \n",
    "    #Return a copy of this matrix in Compressed Sparse Column format ????????????????\n",
    "    y = (critics.fresh == 'fresh').values.astype(np.int) # if fresh it becomes 1 and it's rotten it becomes 0. \n",
    "    return X, y\n",
    "X, y = make_xy(critics)"
   ]
  },
  {
   "cell_type": "code",
   "execution_count": 74,
   "metadata": {},
   "outputs": [
    {
     "data": {
      "text/plain": [
       "(15561, 8)"
      ]
     },
     "execution_count": 74,
     "metadata": {},
     "output_type": "execute_result"
    }
   ],
   "source": [
    "critics.shape"
   ]
  },
  {
   "cell_type": "code",
   "execution_count": 50,
   "metadata": {},
   "outputs": [
    {
     "name": "stdout",
     "output_type": "stream",
     "text": [
      "  (1028, 0)\t1\n",
      "  (3215, 0)\t1\n",
      "  (4740, 0)\t1\n",
      "  (4741, 0)\t1\n",
      "  (8722, 0)\t2\n",
      "  (8820, 0)\t1\n",
      "  (12118, 0)\t1\n",
      "  (4031, 1)\t1\n",
      "  (74, 2)\t1\n",
      "  (76, 2)\t1\n",
      "  (3653, 2)\t1\n",
      "  (4031, 2)\t1\n",
      "  (8023, 2)\t1\n",
      "  (10704, 2)\t1\n",
      "  (13425, 2)\t1\n",
      "  (13435, 2)\t1\n",
      "  (13668, 2)\t1\n",
      "  (13693, 2)\t1\n",
      "  (8647, 3)\t1\n",
      "  (369, 4)\t1\n",
      "  (24, 5)\t1\n",
      "  (65, 5)\t1\n",
      "  (472, 5)\t1\n",
      "  (625, 5)\t1\n",
      "  (731, 5)\t1\n",
      "  :\t:\n",
      "  (14548, 22402)\t1\n",
      "  (14551, 22402)\t1\n",
      "  (958, 22403)\t1\n",
      "  (10209, 22403)\t1\n",
      "  (6804, 22404)\t1\n",
      "  (8594, 22405)\t1\n",
      "  (14697, 22406)\t1\n",
      "  (6465, 22407)\t1\n",
      "  (4134, 22408)\t1\n",
      "  (8145, 22408)\t1\n",
      "  (4471, 22409)\t1\n",
      "  (4477, 22409)\t1\n",
      "  (4478, 22409)\t1\n",
      "  (4476, 22410)\t1\n",
      "  (8847, 22411)\t1\n",
      "  (1076, 22412)\t1\n",
      "  (3126, 22412)\t1\n",
      "  (3128, 22412)\t1\n",
      "  (9252, 22412)\t1\n",
      "  (2774, 22413)\t1\n",
      "  (3360, 22414)\t1\n",
      "  (5930, 22414)\t1\n",
      "  (10457, 22414)\t1\n",
      "  (4473, 22415)\t1\n",
      "  (8518, 22416)\t1 [1 1 1 ... 1 1 1]\n"
     ]
    }
   ],
   "source": [
    "print(X,y)  #row (row number of the quote) , col (the first word of the first col), and actual value of the count(frequnccy)"
   ]
  },
  {
   "cell_type": "code",
   "execution_count": 56,
   "metadata": {},
   "outputs": [
    {
     "data": {
      "text/plain": [
       "22417"
      ]
     },
     "execution_count": 56,
     "metadata": {},
     "output_type": "execute_result"
    }
   ],
   "source": [
    "X.shape[1]   #(, this one) number of columns  IS THIS SHOWING THE NUMBER OF UNIQUE WORDS across all the doc??yes "
   ]
  },
  {
   "cell_type": "code",
   "execution_count": 57,
   "metadata": {},
   "outputs": [
    {
     "data": {
      "text/plain": [
       "15561"
      ]
     },
     "execution_count": 57,
     "metadata": {},
     "output_type": "execute_result"
    }
   ],
   "source": [
    "X.shape[0]  #X.shape is (n,m). So X.shape[0] is n   (this one, )  number of rows"
   ]
  },
  {
   "cell_type": "code",
   "execution_count": 58,
   "metadata": {},
   "outputs": [
    {
     "data": {
      "text/plain": [
       "15561"
      ]
     },
     "execution_count": 58,
     "metadata": {},
     "output_type": "execute_result"
    }
   ],
   "source": [
    "len(y)"
   ]
  },
  {
   "cell_type": "code",
   "execution_count": 59,
   "metadata": {},
   "outputs": [
    {
     "name": "stdout",
     "output_type": "stream",
     "text": [
      "[1 1 1 ... 1 1 1]\n"
     ]
    }
   ],
   "source": [
    "print(y)"
   ]
  },
  {
   "cell_type": "code",
   "execution_count": 36,
   "metadata": {},
   "outputs": [
    {
     "data": {
      "text/plain": [
       "(15561, 22417)"
      ]
     },
     "execution_count": 36,
     "metadata": {},
     "output_type": "execute_result"
    }
   ],
   "source": [
    "X.shape"
   ]
  },
  {
   "cell_type": "code",
   "execution_count": 62,
   "metadata": {},
   "outputs": [
    {
     "name": "stdout",
     "output_type": "stream",
     "text": [
      "  (1028, 0)\t1\n",
      "  (3215, 0)\t1\n",
      "  (4740, 0)\t1\n",
      "  (4741, 0)\t1\n",
      "  (8722, 0)\t2\n",
      "  (8820, 0)\t1\n",
      "  (12118, 0)\t1\n",
      "  (4031, 1)\t1\n",
      "  (74, 2)\t1\n",
      "  (76, 2)\t1\n",
      "  (3653, 2)\t1\n",
      "  (4031, 2)\t1\n",
      "  (8023, 2)\t1\n",
      "  (10704, 2)\t1\n",
      "  (13425, 2)\t1\n",
      "  (13435, 2)\t1\n",
      "  (13668, 2)\t1\n",
      "  (13693, 2)\t1\n",
      "  (8647, 3)\t1\n",
      "  (369, 4)\t1\n",
      "  (24, 5)\t1\n",
      "  (65, 5)\t1\n",
      "  (472, 5)\t1\n",
      "  (625, 5)\t1\n",
      "  (731, 5)\t1\n",
      "  :\t:\n",
      "  (14548, 22402)\t1\n",
      "  (14551, 22402)\t1\n",
      "  (958, 22403)\t1\n",
      "  (10209, 22403)\t1\n",
      "  (6804, 22404)\t1\n",
      "  (8594, 22405)\t1\n",
      "  (14697, 22406)\t1\n",
      "  (6465, 22407)\t1\n",
      "  (4134, 22408)\t1\n",
      "  (8145, 22408)\t1\n",
      "  (4471, 22409)\t1\n",
      "  (4477, 22409)\t1\n",
      "  (4478, 22409)\t1\n",
      "  (4476, 22410)\t1\n",
      "  (8847, 22411)\t1\n",
      "  (1076, 22412)\t1\n",
      "  (3126, 22412)\t1\n",
      "  (3128, 22412)\t1\n",
      "  (9252, 22412)\t1\n",
      "  (2774, 22413)\t1\n",
      "  (3360, 22414)\t1\n",
      "  (5930, 22414)\t1\n",
      "  (10457, 22414)\t1\n",
      "  (4473, 22415)\t1\n",
      "  (8518, 22416)\t1\n"
     ]
    }
   ],
   "source": [
    "print(X)"
   ]
  },
  {
   "cell_type": "code",
   "execution_count": 63,
   "metadata": {},
   "outputs": [
    {
     "name": "stdout",
     "output_type": "stream",
     "text": [
      "  (0, 891)\t2\n",
      "  (0, 1767)\t1\n",
      "  (0, 2784)\t1\n",
      "  (0, 3248)\t1\n",
      "  (0, 4003)\t1\n",
      "  (0, 4386)\t1\n",
      "  (0, 5251)\t1\n",
      "  (0, 6494)\t1\n",
      "  (0, 6856)\t1\n",
      "  (0, 9950)\t1\n",
      "  (0, 10176)\t1\n",
      "  (0, 10555)\t1\n",
      "  (0, 10566)\t1\n",
      "  (0, 13657)\t1\n",
      "  (0, 14940)\t1\n",
      "  (0, 17231)\t1\n",
      "  (0, 17943)\t1\n",
      "  (0, 18252)\t1\n",
      "  (0, 18757)\t1\n",
      "  (0, 18904)\t1\n",
      "  (0, 19914)\t1\n",
      "  (0, 21732)\t1\n",
      "  (0, 22330)\t1\n"
     ]
    }
   ],
   "source": [
    "print(X[0])"
   ]
  },
  {
   "cell_type": "code",
   "execution_count": 64,
   "metadata": {},
   "outputs": [
    {
     "name": "stdout",
     "output_type": "stream",
     "text": [
      "  (0, 3835)\t1\n",
      "  (0, 10463)\t1\n",
      "  (0, 12878)\t1\n",
      "  (0, 19917)\t1\n",
      "  (0, 22292)\t1\n"
     ]
    }
   ],
   "source": [
    "print(X[1])"
   ]
  },
  {
   "cell_type": "code",
   "execution_count": 68,
   "metadata": {},
   "outputs": [
    {
     "data": {
      "text/plain": [
       "(15561, 21740)"
      ]
     },
     "execution_count": 68,
     "metadata": {},
     "output_type": "execute_result"
    }
   ],
   "source": [
    "X.shape   # what does this number of rows and columns mean?"
   ]
  },
  {
   "cell_type": "markdown",
   "metadata": {},
   "source": [
    "## Naive Bayes"
   ]
  },
  {
   "cell_type": "markdown",
   "metadata": {},
   "source": [
    "From Bayes' Theorem, we have that\n",
    "\n",
    "$$P(c \\vert f) = \\frac{P(c \\cap f)}{P(f)}$$\n",
    "\n",
    "where $c$ represents a *class* or category, and $f$ represents a feature vector, such as $\\bar V(d)$ as above. **We are computing the probability that a document (or whatever we are classifying) belongs to category *c* given the features in the document.** $P(f)$ is really just a normalization constant, so the literature usually writes Bayes' Theorem in context of Naive Bayes as\n",
    "\n",
    "$$P(c \\vert f) \\propto P(f \\vert c) P(c) $$\n",
    "\n",
    "$P(c)$ is called the *prior* and is simply the probability of seeing class $c$. But what is $P(f \\vert c)$? This is the probability that we see feature set $f$ given that this document is actually in class $c$. This is called the *likelihood* and comes from the data. One of the major assumptions of the Naive Bayes model is that the features are *conditionally independent* given the class. While the presence of a particular discriminative word may uniquely identify the document as being part of class $c$ and thus violate general feature independence, conditional independence means that the presence of that term is independent of all the other words that appear *within that class*. This is a very important distinction. Recall that if two events are independent, then:\n",
    "\n",
    "$$P(A \\cap B) = P(A) \\cdot P(B)$$\n",
    "\n",
    "Thus, conditional independence implies\n",
    "\n",
    "$$P(f \\vert c)  = \\prod_i P(f_i | c) $$\n",
    "\n",
    "where $f_i$ is an individual feature (a word in this example).\n",
    "\n",
    "To make a classification, we then choose the class $c$ such that $P(c \\vert f)$ is maximal.\n",
    "\n",
    "There is a small caveat when computing these probabilities. For [floating point underflow](http://nlp.stanford.edu/IR-book/html/htmledition/naive-bayes-text-classification-1.html) we change the product into a sum by going into log space. This is called the LogSumExp trick. So:\n",
    "\n",
    "$$\\log P(f \\vert c)  = \\sum_i \\log P(f_i \\vert c) $$\n",
    "\n",
    "There is another caveat. What if we see a term that didn't exist in the training data? This means that $P(f_i \\vert c) = 0$ for that term, and thus $P(f \\vert c)  = \\prod_i P(f_i | c) = 0$, which doesn't help us at all. Instead of using zeros, we add a small negligible value called $\\alpha$ to each count. This is called Laplace Smoothing.\n",
    "\n",
    "$$P(f_i \\vert c) = \\frac{N_{ic}+\\alpha}{N_c + \\alpha N_i}$$\n",
    "\n",
    "where $N_{ic}$ is the number of times feature $i$ was seen in class $c$, $N_c$ is the number of times class $c$ was seen and $N_i$ is the number of times feature $i$ was seen globally. $\\alpha$ is sometimes called a regularization parameter."
   ]
  },
  {
   "cell_type": "markdown",
   "metadata": {},
   "source": [
    "### Multinomial Naive Bayes and Other Likelihood Functions\n",
    "\n",
    "Since we are modeling word counts, we are using variation of Naive Bayes called Multinomial Naive Bayes. This is because the likelihood function actually takes the form of the multinomial distribution.\n",
    "\n",
    "$$P(f \\vert c) = \\frac{\\left( \\sum_i f_i \\right)!}{\\prod_i f_i!} \\prod_{f_i} P(f_i \\vert c)^{f_i} \\propto \\prod_{i} P(f_i \\vert c)$$\n",
    "\n",
    "where the nasty term out front is absorbed as a normalization constant such that probabilities sum to 1.\n",
    "\n",
    "There are many other variations of Naive Bayes, all which depend on what type of value $f_i$ takes. If $f_i$ is continuous, we may be able to use *Gaussian Naive Bayes*. First compute the mean and variance for each class $c$. Then the likelihood, $P(f \\vert c)$ is given as follows\n",
    "\n",
    "$$P(f_i = v \\vert c) = \\frac{1}{\\sqrt{2\\pi \\sigma^2_c}} e^{- \\frac{\\left( v - \\mu_c \\right)^2}{2 \\sigma^2_c}}$$"
   ]
  },
  {
   "cell_type": "markdown",
   "metadata": {},
   "source": [
    "<div class=\"span5 alert alert-info\">\n",
    "<h3>Exercise Set II</h3>\n",
    "\n",
    "<p><b>Exercise:</b> Implement a simple Naive Bayes classifier:</p>\n",
    "\n",
    "<ol>\n",
    "<li> split the data set into a training and test set\n",
    "<li> Use `scikit-learn`'s `MultinomialNB()` classifier with default parameters.\n",
    "<li> train the classifier over the training set and test on the test set\n",
    "<li> print the accuracy scores for both the training and the test sets\n",
    "</ol>\n",
    "\n",
    "What do you notice? Is this a good classifier? If not, why not?\n",
    "</div>"
   ]
  },
  {
   "cell_type": "code",
   "execution_count": 30,
   "metadata": {},
   "outputs": [
    {
     "name": "stdout",
     "output_type": "stream",
     "text": [
      "Accuracy on train data: 0.8650385604113111\n",
      "Accuracy on test data: 0.7779491133384734\n"
     ]
    }
   ],
   "source": [
    "from sklearn.model_selection import train_test_split\n",
    "from sklearn.naive_bayes import MultinomialNB\n",
    "from sklearn.metrics import accuracy_score\n",
    "\n",
    "X_train, X_test, y_train, y_test = train_test_split(X, y, random_state=42) #test_size=0.33, random_state=42\n",
    "clf = MultinomialNB(alpha=1.0, fit_prior=True, class_prior=None) #(alpha=1.0, fit_prior=True, class_prior=None) alpha = 0 is for no smoothing \n",
    "model = clf.fit(X_train, y_train)\n",
    "preds = clf.predict(X_test)    # STILL QUESTION about predict. should I comment or not????\n",
    "# I am using  score so it predicts as well and then checks the acuracy with the actual values\n",
    "\n",
    "# Evaluate accuracy\n",
    "print('Accuracy on train data: ' + str(model.score(X_train, y_train)))\n",
    "print('Accuracy on test data: ' + str(model.score(X_test, y_test)))\n",
    "\n",
    "#print(accuracy_score(y_test, preds))"
   ]
  },
  {
   "cell_type": "markdown",
   "metadata": {},
   "source": [
    "+ Apparently, overfitting means the train and test are having a huge difference "
   ]
  },
  {
   "cell_type": "markdown",
   "metadata": {},
   "source": [
    "### Picking Hyperparameters for Naive Bayes and Text Maintenance"
   ]
  },
  {
   "cell_type": "markdown",
   "metadata": {},
   "source": [
    "We need to know what value to use for $\\alpha$, and we also need to know which words to include in the vocabulary. As mentioned earlier, some words are obvious stopwords. Other words appear so infrequently that they serve as noise, and other words in addition to stopwords appear so frequently that they may also serve as noise."
   ]
  },
  {
   "cell_type": "markdown",
   "metadata": {},
   "source": [
    "First, let's find an appropriate value for `min_df` for the `CountVectorizer`. `min_df` can be either an integer or a float/decimal. If it is an integer, `min_df` represents the minimum number of documents a word must appear in for it to be included in the vocabulary. If it is a float, it represents the minimum *percentage* of documents a word must appear in to be included in the vocabulary. From the documentation:"
   ]
  },
  {
   "cell_type": "markdown",
   "metadata": {},
   "source": [
    ">min_df: When building the vocabulary ignore terms that have a document frequency strictly lower than the given threshold. This value is also called cut-off in the literature. If float, the parameter represents a proportion of documents, integer absolute counts. This parameter is ignored if vocabulary is not None."
   ]
  },
  {
   "cell_type": "markdown",
   "metadata": {},
   "source": [
    "<div class=\"span5 alert alert-info\">\n",
    "<h3>Exercise Set III</h3>\n",
    "\n",
    "<p><b>Exercise:</b> Construct the cumulative distribution of document frequencies (df). The $x$-axis is a document count $x_i$ and the $y$-axis is the percentage of words that appear less than $x_i$ times. For example, at $x=5$, plot a point representing the percentage or number of words that appear in 5 or fewer documents.</p>\n",
    "\n",
    "<p><b>Exercise:</b> Look for the point at which the curve begins climbing steeply. This may be a good value for `min_df`. If we were interested in also picking `max_df`, we would likely pick the value where the curve starts to plateau. What value did you choose?</p>\n",
    "</div>"
   ]
  },
  {
   "cell_type": "code",
   "execution_count": 8,
   "metadata": {},
   "outputs": [],
   "source": [
    "import numpy as np\n",
    "from statsmodels.distributions.empirical_distribution import ECDF\n",
    "import matplotlib.pyplot as plt\n"
   ]
  },
  {
   "cell_type": "code",
   "execution_count": 9,
   "metadata": {},
   "outputs": [
    {
     "data": {
      "image/png": "[encoded data removed]",
      "text/plain": [
       "<Figure size 432x288 with 1 Axes>"
      ]
     },
     "metadata": {
      "needs_background": "light"
     },
     "output_type": "display_data"
    }
   ],
   "source": [
    "vectorizer = CountVectorizer(min_df=1)  # comment this latter \n",
    "X, y = make_xy(critics, vectorizer)\n",
    "dfs = []\n",
    "for i in range(1,50):\n",
    "    vectorizer = CountVectorizer(max_df=i)\n",
    "    X,y = make_xy(critics,vectorizer=vectorizer)  \n",
    "    #what does this make_xy do exactly? you get the features from the text data \n",
    "    dfs.append(X.shape[1])\n",
    "dfs_percent = [df/X.shape[1] for df in dfs]\n",
    "plt.plot(range(1,50),dfs_percent)\n",
    "plt.title('CDF of document frequencies (df)', fontsize=18)\n",
    "plt.show()"
   ]
  },
  {
   "cell_type": "code",
   "execution_count": 8,
   "metadata": {},
   "outputs": [
    {
     "data": {
      "image/png": "[encoded data removed]",
      "text/plain": [
       "<Figure size 432x288 with 1 Axes>"
      ]
     },
     "metadata": {
      "needs_background": "light"
     },
     "output_type": "display_data"
    }
   ],
   "source": [
    "dfs = []\n",
    "for i in range(1,50):\n",
    "    vectorizer = CountVectorizer(max_df=i)\n",
    "    X,y = make_xy(critics,vectorizer=vectorizer)  \n",
    "    #what does this make_xy do exactly? you get the features from the text data \n",
    "    dfs.append(X.shape[1])\n",
    "dfs_percent = [df/X.shape[1] for df in dfs]  #list comprehension: [ expression for item in list if conditional ]\n",
    "plt.plot(range(1,50),dfs_percent)\n",
    "plt.title('CDF of document frequencies (df)', fontsize=18)\n",
    "plt.show()"
   ]
  },
  {
   "cell_type": "markdown",
   "metadata": {},
   "source": [
    "Look for the point at which the curve begins climbing steeply. This may be a good value for `min_df`. If we were interested in also picking `max_df`, we would likely pick the value where the curve starts to plateau. What value did you choose?"
   ]
  },
  {
   "cell_type": "markdown",
   "metadata": {},
   "source": [
    "+ This min_df = 5 and max_df = 40 "
   ]
  },
  {
   "cell_type": "code",
   "execution_count": 66,
   "metadata": {},
   "outputs": [
    {
     "name": "stdout",
     "output_type": "stream",
     "text": [
      "[0.4409383624655014, 0.6014259429622815, 0.6894204231830727, 0.747148114075437, 0.7884084636614536, 0.8174793008279668, 0.8423183072677093, 0.8611775528978841, 0.8772309107635694, 0.890754369825207, 0.9011959521619135, 0.911177552897884, 0.9195032198712052, 0.9276908923643055, 0.9336246550137994, 0.9387304507819687, 0.9432382704691812, 0.9472861085556578, 0.9515639374425023, 0.9553357865685372, 0.9594296228150874, 0.9624195032198712, 0.9650413983440662, 0.9675252989880405, 0.9695032198712051, 0.9719871205151794, 0.9738730450781968, 0.9764029438822447, 0.9787488500459982, 0.9804047838086477, 0.9819227230910763, 0.9832566697332107, 0.984820607175713, 0.9864305427782889, 0.9876724931002759, 0.9887764489420423, 0.9896964121435142, 0.9906163753449863, 0.9915823367065317, 0.9925942962281509, 0.99360625574977, 0.9945262189512419, 0.9955381784728611, 0.9964121435142594, 0.9971941122355106, 0.9979760809567617, 0.9988040478380865, 0.9993100275988961, 1.0]\n"
     ]
    }
   ],
   "source": [
    "print(dfs_percent) #the y values "
   ]
  },
  {
   "cell_type": "code",
   "execution_count": 67,
   "metadata": {},
   "outputs": [
    {
     "data": {
      "text/plain": [
       "49"
      ]
     },
     "execution_count": 67,
     "metadata": {},
     "output_type": "execute_result"
    }
   ],
   "source": [
    "len(dfs)"
   ]
  },
  {
   "cell_type": "markdown",
   "metadata": {},
   "source": [
    "The parameter $\\alpha$ is chosen to be a small value that simply avoids having zeros in the probability computations. This value can sometimes be chosen arbitrarily with domain expertise, but we will use K-fold cross validation. In K-fold cross-validation, we divide the data into $K$ non-overlapping parts. We train on $K-1$ of the folds and test on the remaining fold. We then iterate, so that each fold serves as the test fold exactly once. The function `cv_score` performs the K-fold cross-validation algorithm for us, but we need to pass a function that measures the performance of the algorithm on each fold. "
   ]
  },
  {
   "cell_type": "code",
   "execution_count": 10,
   "metadata": {},
   "outputs": [],
   "source": [
    "from sklearn.model_selection import KFold\n",
    "def cv_score(clf, X, y, scorefunc):    #where can I get scorefunc documentation ??? it s a dummy name \n",
    "    result = 0.\n",
    "    nfold = 5\n",
    "    for train, test in KFold(nfold).split(X): # split data into train/test groups, 5 times\n",
    "        clf.fit(X[train], y[train]) # fit the classifier, passed is as clf.\n",
    "        result += scorefunc(clf, X[test], y[test]) # evaluate score function on held-out data (test data)\n",
    "    return result / nfold # average"
   ]
  },
  {
   "cell_type": "markdown",
   "metadata": {},
   "source": [
    "We use the log-likelihood as the score here in `scorefunc`. The higher the log-likelihood, the better. Indeed, what we do in `cv_score` above is to implement the cross-validation part of `GridSearchCV`.\n",
    "\n",
    "The custom scoring function `scorefunc` allows us to use different metrics depending on the decision risk we care about (precision, accuracy, profit etc.) directly on the validation set. You will often find people using `roc_auc`, precision, recall, or `F1-score` as the scoring function."
   ]
  },
  {
   "cell_type": "code",
   "execution_count": 11,
   "metadata": {},
   "outputs": [],
   "source": [
    "def log_likelihood(clf, x, y):    #explain plssss   We use the log-likelihood as the score here in scorefunc\n",
    "    prob = clf.predict_log_proba(x)   #Return log-probability estimates for the test vector x\n",
    "    rotten = y == 0 #(if y is equal to 0) and rottten is a list \n",
    "    fresh = ~rotten   # why do we need to repeat this again? \n",
    "    return prob[rotten, 0].sum() + prob[fresh, 1].sum()\n",
    "#   ,0 get me the first column from the list of probabilities \n",
    "# meaning of the prob[ , ] ideially as max as possible "
   ]
  },
  {
   "cell_type": "markdown",
   "metadata": {},
   "source": [
    "We'll cross-validate over the regularization parameter $\\alpha$."
   ]
  },
  {
   "cell_type": "markdown",
   "metadata": {},
   "source": [
    "Let's set up the train and test masks first, and then we can run the cross-validation procedure."
   ]
  },
  {
   "cell_type": "code",
   "execution_count": 75,
   "metadata": {},
   "outputs": [
    {
     "data": {
      "text/plain": [
       "15561"
      ]
     },
     "execution_count": 75,
     "metadata": {},
     "output_type": "execute_result"
    }
   ],
   "source": [
    "critics.shape[0]"
   ]
  },
  {
   "cell_type": "code",
   "execution_count": 12,
   "metadata": {},
   "outputs": [
    {
     "name": "stderr",
     "output_type": "stream",
     "text": [
      "C:\\Users\\Nazanin\\Anaconda3\\lib\\site-packages\\sklearn\\model_selection\\_split.py:2179: FutureWarning: From version 0.21, test_size will always complement train_size unless both are specified.\n",
      "  FutureWarning)\n"
     ]
    }
   ],
   "source": [
    "from sklearn.model_selection import train_test_split \n",
    "#meaning? the split func splits the train 70% and features are the rows?!!! \n",
    "_, itest = train_test_split(range(critics.shape[0]), train_size=0.7)  #critics.shape[0] is the row numbers\n",
    "#which rows in the data is the train data \n",
    "mask = np.zeros(critics.shape[0], dtype=np.bool)  #what does this zeros function do? \n",
    "# it creates a list of zero rows  to true (training data) and the rest to false (test data)\n",
    "mask[itest] = True  # np.zaros(shape, dtype=float, order='C') = Array of zeros with the given shape, dtype, and order"
   ]
  },
  {
   "cell_type": "code",
   "execution_count": 31,
   "metadata": {},
   "outputs": [
    {
     "data": {
      "text/plain": [
       "[13733,\n",
       " 6083,\n",
       " 9011,\n",
       " 5982,\n",
       " 10390,\n",
       " 2512,\n",
       " 7309,\n",
       " 14166,\n",
       " 2031,\n",
       " 2052,\n",
       " 5109,\n",
       " 10893,\n",
       " 3812,\n",
       " 9170,\n",
       " 13138,\n",
       " 4169,\n",
       " 6164,\n",
       " 3346,\n",
       " 8932,\n",
       " 101,\n",
       " 13548,\n",
       " 11095,\n",
       " 6251,\n",
       " 13264,\n",
       " 12817,\n",
       " 8403,\n",
       " 1931,\n",
       " 274,\n",
       " 1398,\n",
       " 13936,\n",
       " 15243,\n",
       " 10586,\n",
       " 14404,\n",
       " 495,\n",
       " 10616,\n",
       " 2772,\n",
       " 8475,\n",
       " 3386,\n",
       " 12797,\n",
       " 8642,\n",
       " 4304,\n",
       " 7217,\n",
       " 10051,\n",
       " 1389,\n",
       " 514,\n",
       " 8962,\n",
       " 117,\n",
       " 6272,\n",
       " 5743,\n",
       " 1383,\n",
       " 12529,\n",
       " 2237,\n",
       " 5599,\n",
       " 12245,\n",
       " 2470,\n",
       " 1509,\n",
       " 15529,\n",
       " 8232,\n",
       " 2293,\n",
       " 5662,\n",
       " 1854,\n",
       " 9688,\n",
       " 7085,\n",
       " 5501,\n",
       " 2867,\n",
       " 7558,\n",
       " 2285,\n",
       " 1825,\n",
       " 14158,\n",
       " 8967,\n",
       " 12383,\n",
       " 8325,\n",
       " 6389,\n",
       " 3436,\n",
       " 7789,\n",
       " 7666,\n",
       " 897,\n",
       " 3344,\n",
       " 7409,\n",
       " 4179,\n",
       " 11572,\n",
       " 11525,\n",
       " 14838,\n",
       " 5510,\n",
       " 6415,\n",
       " 8669,\n",
       " 2529,\n",
       " 15102,\n",
       " 10553,\n",
       " 5742,\n",
       " 15503,\n",
       " 13285,\n",
       " 5397,\n",
       " 3195,\n",
       " 168,\n",
       " 79,\n",
       " 656,\n",
       " 14859,\n",
       " 3901,\n",
       " 4376,\n",
       " 5205,\n",
       " 7706,\n",
       " 10727,\n",
       " 1906,\n",
       " 13489,\n",
       " 13494,\n",
       " 12464,\n",
       " 54,\n",
       " 13446,\n",
       " 6984,\n",
       " 541,\n",
       " 8044,\n",
       " 14781,\n",
       " 14019,\n",
       " 11404,\n",
       " 12786,\n",
       " 3024,\n",
       " 15279,\n",
       " 6816,\n",
       " 4602,\n",
       " 4828,\n",
       " 5016,\n",
       " 3817,\n",
       " 7602,\n",
       " 7714,\n",
       " 10917,\n",
       " 5652,\n",
       " 7646,\n",
       " 6221,\n",
       " 12252,\n",
       " 10006,\n",
       " 8811,\n",
       " 11773,\n",
       " 5377,\n",
       " 1405,\n",
       " 15394,\n",
       " 8832,\n",
       " 2826,\n",
       " 13802,\n",
       " 9175,\n",
       " 2229,\n",
       " 3774,\n",
       " 7908,\n",
       " 3836,\n",
       " 11752,\n",
       " 13666,\n",
       " 7381,\n",
       " 6831,\n",
       " 2379,\n",
       " 1691,\n",
       " 5845,\n",
       " 8613,\n",
       " 3849,\n",
       " 13461,\n",
       " 7284,\n",
       " 11890,\n",
       " 2434,\n",
       " 5582,\n",
       " 4162,\n",
       " 9630,\n",
       " 13857,\n",
       " 5971,\n",
       " 4998,\n",
       " 91,\n",
       " 9315,\n",
       " 9776,\n",
       " 10560,\n",
       " 14737,\n",
       " 6745,\n",
       " 11775,\n",
       " 13622,\n",
       " 12967,\n",
       " 12898,\n",
       " 216,\n",
       " 5879,\n",
       " 11917,\n",
       " 4477,\n",
       " 396,\n",
       " 4552,\n",
       " 14449,\n",
       " 11943,\n",
       " 715,\n",
       " 1613,\n",
       " 2383,\n",
       " 4919,\n",
       " 12381,\n",
       " 14902,\n",
       " 10623,\n",
       " 12565,\n",
       " 8953,\n",
       " 11235,\n",
       " 1023,\n",
       " 1715,\n",
       " 80,\n",
       " 12796,\n",
       " 6417,\n",
       " 6503,\n",
       " 5508,\n",
       " 6140,\n",
       " 5796,\n",
       " 9394,\n",
       " 6161,\n",
       " 11696,\n",
       " 14287,\n",
       " 1864,\n",
       " 8521,\n",
       " 4771,\n",
       " 4196,\n",
       " 1954,\n",
       " 9991,\n",
       " 12863,\n",
       " 1492,\n",
       " 12587,\n",
       " 547,\n",
       " 13996,\n",
       " 10901,\n",
       " 3738,\n",
       " 1584,\n",
       " 3644,\n",
       " 1548,\n",
       " 668,\n",
       " 4666,\n",
       " 2204,\n",
       " 796,\n",
       " 12423,\n",
       " 13747,\n",
       " 364,\n",
       " 12007,\n",
       " 12233,\n",
       " 5656,\n",
       " 6666,\n",
       " 14095,\n",
       " 8143,\n",
       " 3089,\n",
       " 5240,\n",
       " 13358,\n",
       " 4574,\n",
       " 15056,\n",
       " 4301,\n",
       " 8646,\n",
       " 606,\n",
       " 8131,\n",
       " 3012,\n",
       " 4336,\n",
       " 2837,\n",
       " 4159,\n",
       " 8934,\n",
       " 12279,\n",
       " 13050,\n",
       " 6837,\n",
       " 2447,\n",
       " 15099,\n",
       " 2956,\n",
       " 6601,\n",
       " 6999,\n",
       " 8461,\n",
       " 7255,\n",
       " 1689,\n",
       " 15287,\n",
       " 4458,\n",
       " 8041,\n",
       " 7195,\n",
       " 12037,\n",
       " 8798,\n",
       " 4893,\n",
       " 474,\n",
       " 5981,\n",
       " 6606,\n",
       " 12651,\n",
       " 13841,\n",
       " 5194,\n",
       " 4622,\n",
       " 10617,\n",
       " 7200,\n",
       " 3025,\n",
       " 2363,\n",
       " 3010,\n",
       " 1907,\n",
       " 1417,\n",
       " 4127,\n",
       " 4156,\n",
       " 7486,\n",
       " 6206,\n",
       " 3281,\n",
       " 4501,\n",
       " 2523,\n",
       " 563,\n",
       " 2401,\n",
       " 11265,\n",
       " 155,\n",
       " 10655,\n",
       " 5934,\n",
       " 829,\n",
       " 11451,\n",
       " 9814,\n",
       " 6462,\n",
       " 6791,\n",
       " 507,\n",
       " 317,\n",
       " 12343,\n",
       " 11728,\n",
       " 6574,\n",
       " 651,\n",
       " 14951,\n",
       " 9951,\n",
       " 985,\n",
       " 12024,\n",
       " 15493,\n",
       " 8583,\n",
       " 3564,\n",
       " 13258,\n",
       " 9796,\n",
       " 12840,\n",
       " 4942,\n",
       " 6649,\n",
       " 13060,\n",
       " 4807,\n",
       " 12288,\n",
       " 6604,\n",
       " 3052,\n",
       " 14791,\n",
       " 3435,\n",
       " 10056,\n",
       " 5124,\n",
       " 6306,\n",
       " 4585,\n",
       " 3187,\n",
       " 3454,\n",
       " 1276,\n",
       " 3369,\n",
       " 6443,\n",
       " 12713,\n",
       " 5604,\n",
       " 8943,\n",
       " 843,\n",
       " 385,\n",
       " 7006,\n",
       " 14344,\n",
       " 869,\n",
       " 6729,\n",
       " 5830,\n",
       " 14753,\n",
       " 10360,\n",
       " 11166,\n",
       " 3498,\n",
       " 14744,\n",
       " 3231,\n",
       " 2460,\n",
       " 3752,\n",
       " 9817,\n",
       " 2235,\n",
       " 5803,\n",
       " 5128,\n",
       " 8609,\n",
       " 10548,\n",
       " 2011,\n",
       " 9600,\n",
       " 3724,\n",
       " 12185,\n",
       " 8292,\n",
       " 11788,\n",
       " 11134,\n",
       " 9636,\n",
       " 12151,\n",
       " 798,\n",
       " 1961,\n",
       " 4467,\n",
       " 4144,\n",
       " 6701,\n",
       " 10213,\n",
       " 1377,\n",
       " 13646,\n",
       " 4371,\n",
       " 602,\n",
       " 14592,\n",
       " 11986,\n",
       " 15142,\n",
       " 8394,\n",
       " 14099,\n",
       " 12162,\n",
       " 10270,\n",
       " 8736,\n",
       " 5469,\n",
       " 14359,\n",
       " 4843,\n",
       " 11902,\n",
       " 3712,\n",
       " 13143,\n",
       " 8181,\n",
       " 6850,\n",
       " 13327,\n",
       " 5533,\n",
       " 672,\n",
       " 14563,\n",
       " 11760,\n",
       " 2489,\n",
       " 3251,\n",
       " 9656,\n",
       " 6186,\n",
       " 14257,\n",
       " 8370,\n",
       " 5368,\n",
       " 14528,\n",
       " 14187,\n",
       " 15176,\n",
       " 9764,\n",
       " 2269,\n",
       " 14274,\n",
       " 8034,\n",
       " 2901,\n",
       " 1630,\n",
       " 233,\n",
       " 8004,\n",
       " 3446,\n",
       " 13261,\n",
       " 9398,\n",
       " 10658,\n",
       " 2869,\n",
       " 11505,\n",
       " 14496,\n",
       " 527,\n",
       " 1946,\n",
       " 9105,\n",
       " 11618,\n",
       " 1137,\n",
       " 9252,\n",
       " 11508,\n",
       " 5428,\n",
       " 14036,\n",
       " 7842,\n",
       " 9961,\n",
       " 162,\n",
       " 2143,\n",
       " 13784,\n",
       " 49,\n",
       " 1724,\n",
       " 3171,\n",
       " 8558,\n",
       " 12589,\n",
       " 2274,\n",
       " 13452,\n",
       " 58,\n",
       " 13237,\n",
       " 6377,\n",
       " 8600,\n",
       " 14823,\n",
       " 6318,\n",
       " 511,\n",
       " 1998,\n",
       " 1247,\n",
       " 12286,\n",
       " 2195,\n",
       " 10850,\n",
       " 4656,\n",
       " 5309,\n",
       " 688,\n",
       " 6138,\n",
       " 2490,\n",
       " 2315,\n",
       " 13457,\n",
       " 492,\n",
       " 15335,\n",
       " 4052,\n",
       " 15012,\n",
       " 13965,\n",
       " 4306,\n",
       " 1445,\n",
       " 9286,\n",
       " 3109,\n",
       " 8544,\n",
       " 2845,\n",
       " 9157,\n",
       " 13344,\n",
       " 3586,\n",
       " 13721,\n",
       " 8711,\n",
       " 13994,\n",
       " 9914,\n",
       " 6795,\n",
       " 4617,\n",
       " 2322,\n",
       " 14685,\n",
       " 6777,\n",
       " 8566,\n",
       " 12225,\n",
       " 13944,\n",
       " 14878,\n",
       " 12552,\n",
       " 2915,\n",
       " 14160,\n",
       " 2114,\n",
       " 9276,\n",
       " 12765,\n",
       " 10508,\n",
       " 7007,\n",
       " 13201,\n",
       " 17,\n",
       " 7186,\n",
       " 13369,\n",
       " 10089,\n",
       " 6719,\n",
       " 1740,\n",
       " 360,\n",
       " 14635,\n",
       " 7616,\n",
       " 13321,\n",
       " 6215,\n",
       " 7929,\n",
       " 5237,\n",
       " 9989,\n",
       " 11703,\n",
       " 12041,\n",
       " 2638,\n",
       " 3073,\n",
       " 5155,\n",
       " 6093,\n",
       " 3370,\n",
       " 9090,\n",
       " 15092,\n",
       " 13002,\n",
       " 3869,\n",
       " 11394,\n",
       " 11382,\n",
       " 1502,\n",
       " 1635,\n",
       " 1136,\n",
       " 14841,\n",
       " 12354,\n",
       " 15136,\n",
       " 3766,\n",
       " 2374,\n",
       " 5527,\n",
       " 12547,\n",
       " 11927,\n",
       " 12826,\n",
       " 15224,\n",
       " 7455,\n",
       " 6811,\n",
       " 6790,\n",
       " 5871,\n",
       " 9671,\n",
       " 6700,\n",
       " 11015,\n",
       " 1913,\n",
       " 5709,\n",
       " 15207,\n",
       " 13499,\n",
       " 12893,\n",
       " 144,\n",
       " 4064,\n",
       " 8607,\n",
       " 12953,\n",
       " 13818,\n",
       " 4553,\n",
       " 997,\n",
       " 7748,\n",
       " 7760,\n",
       " 3805,\n",
       " 182,\n",
       " 7014,\n",
       " 979,\n",
       " 4620,\n",
       " 275,\n",
       " 2863,\n",
       " 3006,\n",
       " 6156,\n",
       " 5557,\n",
       " 3382,\n",
       " 15183,\n",
       " 2410,\n",
       " 2974,\n",
       " 10515,\n",
       " 5715,\n",
       " 12115,\n",
       " 7457,\n",
       " 14245,\n",
       " 9223,\n",
       " 12656,\n",
       " 7120,\n",
       " 13277,\n",
       " 8049,\n",
       " 10111,\n",
       " 3048,\n",
       " 794,\n",
       " 15526,\n",
       " 8581,\n",
       " 18,\n",
       " 4687,\n",
       " 3338,\n",
       " 5028,\n",
       " 2861,\n",
       " 9304,\n",
       " 8038,\n",
       " 9805,\n",
       " 3212,\n",
       " 6089,\n",
       " 810,\n",
       " 10307,\n",
       " 13691,\n",
       " 10088,\n",
       " 1662,\n",
       " 7049,\n",
       " 14007,\n",
       " 6919,\n",
       " 1298,\n",
       " 14738,\n",
       " 6175,\n",
       " 3943,\n",
       " 11165,\n",
       " 10646,\n",
       " 3249,\n",
       " 5201,\n",
       " 14502,\n",
       " 4818,\n",
       " 382,\n",
       " 14096,\n",
       " 9813,\n",
       " 11188,\n",
       " 15101,\n",
       " 5044,\n",
       " 3093,\n",
       " 8650,\n",
       " 9831,\n",
       " 12834,\n",
       " 5039,\n",
       " 6620,\n",
       " 11108,\n",
       " 6375,\n",
       " 7356,\n",
       " 572,\n",
       " 5638,\n",
       " 14921,\n",
       " 8708,\n",
       " 15401,\n",
       " 552,\n",
       " 7541,\n",
       " 4941,\n",
       " 7286,\n",
       " 6392,\n",
       " 10097,\n",
       " 1869,\n",
       " 5911,\n",
       " 10159,\n",
       " 9169,\n",
       " 11143,\n",
       " 5052,\n",
       " 8309,\n",
       " 5160,\n",
       " 2591,\n",
       " 8240,\n",
       " 14837,\n",
       " 3988,\n",
       " 4444,\n",
       " 6292,\n",
       " 14088,\n",
       " 7059,\n",
       " 3453,\n",
       " 7958,\n",
       " 6749,\n",
       " 4661,\n",
       " 7545,\n",
       " 1572,\n",
       " 125,\n",
       " 6,\n",
       " 15147,\n",
       " 10810,\n",
       " 14226,\n",
       " 9130,\n",
       " 5319,\n",
       " 6416,\n",
       " 6457,\n",
       " 4176,\n",
       " 1583,\n",
       " 4910,\n",
       " 7236,\n",
       " 1769,\n",
       " 8236,\n",
       " 7193,\n",
       " 7153,\n",
       " 12425,\n",
       " 4286,\n",
       " 12206,\n",
       " 10853,\n",
       " 3635,\n",
       " 2580,\n",
       " 598,\n",
       " 12198,\n",
       " 10780,\n",
       " 10963,\n",
       " 14348,\n",
       " 7809,\n",
       " 14155,\n",
       " 4891,\n",
       " 14596,\n",
       " 10377,\n",
       " 10043,\n",
       " 113,\n",
       " 2254,\n",
       " 3083,\n",
       " 2752,\n",
       " 518,\n",
       " 5936,\n",
       " 8900,\n",
       " 5814,\n",
       " 12780,\n",
       " 1737,\n",
       " 4755,\n",
       " 14132,\n",
       " 8564,\n",
       " 7639,\n",
       " 6177,\n",
       " 12191,\n",
       " 6898,\n",
       " 1001,\n",
       " 3985,\n",
       " 8255,\n",
       " 600,\n",
       " 2005,\n",
       " 5585,\n",
       " 10465,\n",
       " 1323,\n",
       " 8716,\n",
       " 6289,\n",
       " 11748,\n",
       " 10027,\n",
       " 211,\n",
       " 14097,\n",
       " 4978,\n",
       " 8705,\n",
       " 10816,\n",
       " 8341,\n",
       " 3323,\n",
       " 11966,\n",
       " 10945,\n",
       " 282,\n",
       " 12613,\n",
       " 2810,\n",
       " 9180,\n",
       " 2728,\n",
       " 11839,\n",
       " 2392,\n",
       " 15182,\n",
       " 5930,\n",
       " 15365,\n",
       " 14614,\n",
       " 6320,\n",
       " 6667,\n",
       " 12910,\n",
       " 6942,\n",
       " 7218,\n",
       " 1753,\n",
       " 8294,\n",
       " 12616,\n",
       " 2557,\n",
       " 8178,\n",
       " 12105,\n",
       " 15008,\n",
       " 11899,\n",
       " 1554,\n",
       " 1638,\n",
       " 748,\n",
       " 4685,\n",
       " 5712,\n",
       " 13674,\n",
       " 15161,\n",
       " 8147,\n",
       " 15548,\n",
       " 8664,\n",
       " 10453,\n",
       " 7177,\n",
       " 1371,\n",
       " 14956,\n",
       " 3599,\n",
       " 11777,\n",
       " 1846,\n",
       " 8695,\n",
       " 14799,\n",
       " 12748,\n",
       " 5225,\n",
       " 13434,\n",
       " 9535,\n",
       " 3514,\n",
       " 9444,\n",
       " 442,\n",
       " 4983,\n",
       " 10997,\n",
       " 7491,\n",
       " 10158,\n",
       " 237,\n",
       " 5123,\n",
       " 5301,\n",
       " 14933,\n",
       " 9429,\n",
       " 6486,\n",
       " 4484,\n",
       " 3243,\n",
       " 9360,\n",
       " 3156,\n",
       " 5179,\n",
       " 13117,\n",
       " 13978,\n",
       " 6239,\n",
       " 15019,\n",
       " 1442,\n",
       " 13582,\n",
       " 6892,\n",
       " 6769,\n",
       " 6141,\n",
       " 297,\n",
       " 15559,\n",
       " 5938,\n",
       " 6504,\n",
       " 15100,\n",
       " 643,\n",
       " 14031,\n",
       " 9729,\n",
       " 10762,\n",
       " 9592,\n",
       " 9441,\n",
       " 3666,\n",
       " 4038,\n",
       " 8043,\n",
       " 12768,\n",
       " 15516,\n",
       " 4410,\n",
       " 3297,\n",
       " 4483,\n",
       " 7827,\n",
       " 10518,\n",
       " 3537,\n",
       " 8191,\n",
       " 6007,\n",
       " 924,\n",
       " 3731,\n",
       " 15349,\n",
       " 5070,\n",
       " 3627,\n",
       " 12937,\n",
       " 6310,\n",
       " 15459,\n",
       " 4040,\n",
       " 11857,\n",
       " 13119,\n",
       " 6172,\n",
       " 7775,\n",
       " 14919,\n",
       " 4513,\n",
       " 465,\n",
       " 4659,\n",
       " 5476,\n",
       " 7782,\n",
       " 2550,\n",
       " 86,\n",
       " 7664,\n",
       " 11523,\n",
       " 10681,\n",
       " 2953,\n",
       " 9070,\n",
       " 8337,\n",
       " 6857,\n",
       " 11617,\n",
       " 4221,\n",
       " 13439,\n",
       " 2909,\n",
       " 8066,\n",
       " 515,\n",
       " 14126,\n",
       " 14851,\n",
       " 7310,\n",
       " 4098,\n",
       " 5684,\n",
       " 777,\n",
       " 11985,\n",
       " 1937,\n",
       " 8508,\n",
       " 4639,\n",
       " 14576,\n",
       " 11631,\n",
       " 14758,\n",
       " 6698,\n",
       " 3642,\n",
       " 14974,\n",
       " 11915,\n",
       " 14366,\n",
       " 9765,\n",
       " 3179,\n",
       " 7681,\n",
       " 4532,\n",
       " 7215,\n",
       " 9177,\n",
       " 14267,\n",
       " 11083,\n",
       " 3392,\n",
       " 2894,\n",
       " 11219,\n",
       " 14241,\n",
       " 9983,\n",
       " 8398,\n",
       " 9015,\n",
       " 15454,\n",
       " 11589,\n",
       " 11330,\n",
       " 13,\n",
       " 7404,\n",
       " 2169,\n",
       " 6675,\n",
       " 7245,\n",
       " 4874,\n",
       " 14072,\n",
       " 13679,\n",
       " 5681,\n",
       " 9685,\n",
       " 7287,\n",
       " 6788,\n",
       " 6770,\n",
       " 10881,\n",
       " 14979,\n",
       " 5221,\n",
       " 11988,\n",
       " 13290,\n",
       " 8047,\n",
       " 11975,\n",
       " 15231,\n",
       " 7485,\n",
       " 9793,\n",
       " 14996,\n",
       " 4327,\n",
       " 9486,\n",
       " 2308,\n",
       " 7032,\n",
       " 1951,\n",
       " 1331,\n",
       " 2849,\n",
       " 2406,\n",
       " 6961,\n",
       " 8495,\n",
       " 13649,\n",
       " 8982,\n",
       " 12306,\n",
       " 3143,\n",
       " 3268,\n",
       " 7629,\n",
       " 14498,\n",
       " 11558,\n",
       " 5029,\n",
       " 14932,\n",
       " 1752,\n",
       " 5760,\n",
       " 3560,\n",
       " 3826,\n",
       " 15441,\n",
       " 8384,\n",
       " 5188,\n",
       " 9326,\n",
       " 5944,\n",
       " 3116,\n",
       " 9357,\n",
       " 3345,\n",
       " 7122,\n",
       " 11937,\n",
       " 6696,\n",
       " 5372,\n",
       " 13086,\n",
       " 12906,\n",
       " 14339,\n",
       " 12800,\n",
       " 6994,\n",
       " 5017,\n",
       " 6431,\n",
       " 1056,\n",
       " 11055,\n",
       " 9384,\n",
       " 316,\n",
       " 10661,\n",
       " 13361,\n",
       " 5223,\n",
       " 5180,\n",
       " 10639,\n",
       " 11885,\n",
       " 1517,\n",
       " 626,\n",
       " 8163,\n",
       " 5034,\n",
       " 2409,\n",
       " 4788,\n",
       " 9561,\n",
       " 427,\n",
       " 1851,\n",
       " 5495,\n",
       " 7446,\n",
       " 14269,\n",
       " 14262,\n",
       " 1994,\n",
       " 15551,\n",
       " 12885,\n",
       " 8456,\n",
       " 14017,\n",
       " 1034,\n",
       " 14976,\n",
       " 2405,\n",
       " ...]"
      ]
     },
     "execution_count": 31,
     "metadata": {},
     "output_type": "execute_result"
    }
   ],
   "source": [
    "itest"
   ]
  },
  {
   "cell_type": "markdown",
   "metadata": {},
   "source": [
    "<div class=\"span5 alert alert-info\">\n",
    "<h3>Exercise Set IV</h3>\n",
    "\n",
    "<p><b>Exercise:</b> What does using the function `log_likelihood` as the score mean? What are we trying to optimize for?</p>\n",
    "\n",
    "<p><b>Exercise:</b> Without writing any code, what do you think would happen if you choose a value of $\\alpha$ that is too high?</p>\n",
    "\n",
    "<p><b>Exercise:</b> Using the skeleton code below, find the best values of the parameter `alpha`, and use the value of `min_df` you chose in the previous exercise set. Use the `cv_score` function above with the `log_likelihood` function for scoring.</p>\n",
    "</div>"
   ]
  },
  {
   "cell_type": "markdown",
   "metadata": {},
   "source": [
    "+ The model is using the log loss as scoring rule. In the documentation, the log loss is defined \"as the negative log-likelihood of the true labels given a probabilistic classifier’s predictions\". \n",
    "\n",
    "+ Since log-likelihood is indeed negative, its negative will be a positive number.\n",
    "\n",
    "+ Here, α is often referred to as the \"learning rate\", and in many problems, is selected without strong justification (i.e. empirically seems to work well, but no proof that is optimal). Choosing a poor learning rate can lead to very poor performance.\n",
    "\n",
    "+ This means that as our sample size gets larger, we take larger steps when using the unnormalized log-likelihood, even when we are the same distance away from the optimal solution. With that in mind, we can see that it should be impossible to pick an α that is optimal for all sample sizes.\n",
    "\n",
    "+ The learning rate is a hyperparameter that controls how much to change the model in response to the estimated error each time the model weights are updated. A value too small may result in a long training process that could get stuck, whereas a value too large may result in learning a sub-optimal set of weights too fast or an unstable training process.\n"
   ]
  },
  {
   "cell_type": "markdown",
   "metadata": {},
   "source": [
    "+ #if alpha is big then the model overfits "
   ]
  },
  {
   "cell_type": "code",
   "execution_count": null,
   "metadata": {},
   "outputs": [],
   "source": [
    "from sklearn.naive_bayes import MultinomialNB\n",
    "\n",
    "#the grid of parameters to search over\n",
    "alphas = [.1, 1, 5, 10, 50]\n",
    "best_min_df = None # YOUR TURN: put your value of min_df here.\n",
    "\n",
    "#Find the best value for alpha and min_df, and the best classifier\n",
    "best_alpha = None\n",
    "maxscore=-np.inf\n",
    "for alpha in alphas:        \n",
    "    vectorizer = CountVectorizer(min_df=best_min_df)       \n",
    "    Xthis, ythis = make_xy(critics, vectorizer)\n",
    "    Xtrainthis = Xthis[mask]\n",
    "    ytrainthis = ythis[mask]\n",
    "    # your turn"
   ]
  },
  {
   "cell_type": "code",
   "execution_count": 14,
   "metadata": {},
   "outputs": [
    {
     "name": "stdout",
     "output_type": "stream",
     "text": [
      "score: -956.4705264834522and aplha: 0.1\n",
      "score: -615.3596345090724and aplha: 1\n",
      "score: -711.3672670629296and aplha: 5\n",
      "score: -913.647304727768and aplha: 10\n",
      "score: -1178.7701758476614and aplha: 50\n"
     ]
    }
   ],
   "source": [
    "#Using the skeleton code below, find the best values of the parameter `alpha`, and use the value of `min_df` \n",
    "#you chose in the previous exercise set. Use the `cv_score` function above with the `log_likelihood` function for scoring.\n",
    "from sklearn.naive_bayes import MultinomialNB\n",
    "\n",
    "#the grid of parameters to search over    \n",
    "alphas = [.1, 1, 5, 10, 50]\n",
    "best_min_df = 5 #[0.01, 0.05, 0.1]  # YOUR TURN: put your value of min_df here.  I am guessing we need to set min = 8???\n",
    "\n",
    "#Find the best value for alpha and min_df, and the best classifier\n",
    "best_alpha = 0   # can we set them to 0 than None???? isnce alpha would never be 0 None or 0 are interchangable\n",
    "#best_min_df = None\n",
    "maxscore=-np.inf\n",
    "for alpha in alphas:\n",
    "    #for min_df in min_dfs:\n",
    "    vectorizer = CountVectorizer(min_df= best_min_df)       \n",
    "    Xthis, ythis = make_xy(critics, vectorizer)\n",
    "    Xtrainthis = Xthis[mask]  \n",
    "    ytrainthis = ythis[mask]\n",
    "        # your turn\n",
    "    clf = MultinomialNB(alpha=alpha)\n",
    "    score = cv_score(clf, Xtrainthis, ytrainthis, log_likelihood) \n",
    "    print('score: ' + str(score) + 'and aplha: ' + str(alpha))\n",
    "    if score > maxscore:\n",
    "        maxscore = score\n",
    "        best_alpha = alpha  #, best_min_df  , , min_df\n",
    "#log_likelihood(cv_score, x, y)  \n",
    "#log_likelihood(clf, x, y)\n",
    "        \n",
    "#print('The value of best min_df: ' + str(min_df))    "
   ]
  },
  {
   "cell_type": "code",
   "execution_count": 15,
   "metadata": {},
   "outputs": [
    {
     "name": "stdout",
     "output_type": "stream",
     "text": [
      "alpha: 1\n"
     ]
    }
   ],
   "source": [
    "print(\"alpha: {}\".format(best_alpha))"
   ]
  },
  {
   "cell_type": "markdown",
   "metadata": {},
   "source": [
    "<div class=\"span5 alert alert-info\">\n",
    "<h3>Exercise Set V: Working with the Best Parameters</h3>\n",
    "\n",
    "<p><b>Exercise:</b> Using the best value of  `alpha` you just found, calculate the accuracy on the training and test sets. Is this classifier better? Why (not)?</p>\n",
    "\n",
    "</div>"
   ]
  },
  {
   "cell_type": "code",
   "execution_count": 16,
   "metadata": {},
   "outputs": [
    {
     "name": "stdout",
     "output_type": "stream",
     "text": [
      "Accuracy on training data: 0.906618\n",
      "Accuracy on test data:     0.741921\n"
     ]
    }
   ],
   "source": [
    "vectorizer = CountVectorizer(min_df=best_min_df)\n",
    "X, y = make_xy(critics, vectorizer)\n",
    "xtrain=X[mask] # mask is the row numbers and the \n",
    "ytrain=y[mask]\n",
    "xtest=X[~mask]\n",
    "ytest=y[~mask]\n",
    "\n",
    "clf = MultinomialNB(alpha=best_alpha).fit(xtrain, ytrain)\n",
    "\n",
    "#your turn. Print the accuracy on the test and training dataset\n",
    "training_accuracy = clf.score(xtrain, ytrain)\n",
    "test_accuracy = clf.score(xtest, ytest)\n",
    "\n",
    "print(\"Accuracy on training data: {:2f}\".format(training_accuracy))\n",
    "print(\"Accuracy on test data:     {:2f}\".format(test_accuracy))"
   ]
  },
  {
   "cell_type": "code",
   "execution_count": 17,
   "metadata": {},
   "outputs": [
    {
     "name": "stdout",
     "output_type": "stream",
     "text": [
      "[[2691 1540]\n",
      " [1271 5390]]\n"
     ]
    }
   ],
   "source": [
    "from sklearn.metrics import confusion_matrix\n",
    "print(confusion_matrix(ytest, clf.predict(xtest)))      #meaning of this confusion matrix?"
   ]
  },
  {
   "cell_type": "markdown",
   "metadata": {},
   "source": [
    "## Interpretation"
   ]
  },
  {
   "cell_type": "markdown",
   "metadata": {},
   "source": [
    "### What are the strongly predictive features?\n",
    "\n",
    "We use a neat trick to identify strongly predictive features (i.e. words). \n",
    "\n",
    "* first, create a data set such that each row has exactly one feature. This is represented by the identity matrix.\n",
    "* use the trained classifier to make predictions on this matrix\n",
    "* sort the rows by predicted probabilities, and pick the top and bottom $K$ rows"
   ]
  },
  {
   "cell_type": "code",
   "execution_count": 18,
   "metadata": {},
   "outputs": [
    {
     "name": "stdout",
     "output_type": "stream",
     "text": [
      "Good words\t     P(fresh | word)\n",
      "             perfect 0.96\n",
      "            pleasure 0.96\n",
      "             delight 0.95\n",
      "            touching 0.94\n",
      "            visually 0.94\n",
      "           wrenching 0.93\n",
      "               woman 0.93\n",
      "              dreams 0.93\n",
      "              warmth 0.93\n",
      "                 non 0.93\n",
      "Bad words\t     P(fresh | word)\n",
      "          schumacher 0.13\n",
      "         uninvolving 0.12\n",
      "            tiresome 0.12\n",
      "              parody 0.12\n",
      "              uneven 0.11\n",
      "                lame 0.10\n",
      "          uninspired 0.10\n",
      "             unfunny 0.10\n",
      "       unfortunately 0.09\n",
      "               bland 0.07\n"
     ]
    }
   ],
   "source": [
    "words = np.array(vectorizer.get_feature_names())\n",
    "\n",
    "x = np.eye(xtest.shape[1]) # Return a 2-D array with ones on the diagonal and zeros elsewhere.\n",
    "probs = clf.predict_log_proba(x)[:, 0] # all the rows of the first col???\n",
    "ind = np.argsort(probs) #Returns the indices that would sort an array.\n",
    "# ascenting order \n",
    "\n",
    "good_words = words[ind[:10]]  #first 10 of \n",
    "bad_words = words[ind[-10:]]    # last 10  of \n",
    "\n",
    "good_prob = probs[ind[:10]]\n",
    "bad_prob = probs[ind[-10:]]\n",
    "\n",
    "print(\"Good words\\t     P(fresh | word)\")\n",
    "for w, p in zip(good_words, good_prob): \n",
    "    print(\"{:>20}\".format(w), \"{:.2f}\".format(1 - np.exp(p)))\n",
    "#why to use this formula for the probablity? mat(1 - np.exp(p)))   (1 - np.exp(p)))\n",
    "    \n",
    "print(\"Bad words\\t     P(fresh | word)\")\n",
    "for w, p in zip(bad_words, bad_prob):\n",
    "    print(\"{:>20}\".format(w), \"{:.2f}\".format(1 - np.exp(p)))"
   ]
  },
  {
   "cell_type": "markdown",
   "metadata": {},
   "source": [
    "<div class=\"span5 alert alert-info\">\n",
    "<h3>Exercise Set VI</h3>\n",
    "\n",
    "<p><b>Exercise:</b> Why does this method work? What does the probability for each row in the identity matrix represent</p>\n",
    "\n",
    "</div>"
   ]
  },
  {
   "cell_type": "markdown",
   "metadata": {},
   "source": [
    "+ This method works because it is separating the predictive value of these words in the reviews that they exist out from the reviews where they do not. The probability in each row represents the probability that a review quote will be \"fresh\" given that word is in the review - P(fresh | word). It does not evaluate their ability to predict reviews in which they do not appear."
   ]
  },
  {
   "cell_type": "markdown",
   "metadata": {},
   "source": [
    "The above exercise is an example of *feature selection*. There are many other feature selection methods. A list of feature selection methods available in `sklearn` is [here](http://scikit-learn.org/stable/modules/classes.html#module-sklearn.feature_selection). The most common feature selection technique for text mining is the chi-squared $\\left( \\chi^2 \\right)$ [method](http://nlp.stanford.edu/IR-book/html/htmledition/feature-selectionchi2-feature-selection-1.html)."
   ]
  },
  {
   "cell_type": "markdown",
   "metadata": {},
   "source": [
    "### Prediction Errors\n",
    "\n",
    "We can see mis-predictions as well."
   ]
  },
  {
   "cell_type": "code",
   "execution_count": 19,
   "metadata": {},
   "outputs": [
    {
     "name": "stdout",
     "output_type": "stream",
     "text": [
      "Mis-predicted Rotten quotes\n",
      "---------------------------\n",
      "Like other Irvin films, this noir saga (more of an urban Western) is burdened with a philosophical layer that's incongruous with the basic tale, though acting by Keitel, Dorff, and others is good.\n",
      "\n",
      "What if this lesser-known chapter of German resistance had been more deeply captured? What if the moral conflicts running through this movie about love of country and revolt said more about Germany, war and, yes, genocide?\n",
      "\n",
      "With the exception of Miss Streep's performance, the pleasures of Out of Africa are all peripheral -- David Watkin's photography, the landscapes, the shots of animal life -all of which would fit neatly into a National Geographic layout.\n",
      "\n",
      "Part comedy, part family drama, part romance, part special-effects mystery-adventure, and not entirely satisfying on any of these levels.\n",
      "\n",
      "This pacifist spirit of brotherhood echoes the heroics in Princess Mononoke and other anime titles, but the artistic gap between the Miyazaki masterpiece and this project is huge.\n",
      "\n",
      "Mis-predicted Fresh quotes\n",
      "--------------------------\n",
      "Although it doesn't have Kate Beckinsale, her guns ablazin', vamped out in the latest vampire-slaying couture, Night Watch is vastly more fun than the similar-themed Underworld pics.\n",
      "\n",
      "It isn't without some zip, though you have to wonder why the producers bothered when the censors demanded that the dancers be shown only from the neck up.\n",
      "\n",
      "Writer-director Mathieu Kassovitz mines so much tension and pointed dialogue from a low budget and deceptively simple premise that you wonder why so much of current Hollywood's own social realism ends up shooting $50 million blanks.\n",
      "\n",
      "Dead Man Walking could easily be manipulative or exploitative, but it's neither. Instead, this is hard-hitting drama that neither accepts nor offers quarter.\n",
      "\n",
      "It's inanely-scripted exploitation, sure, but this 'Halloween' doesn't trivialise; it even returns with sympathy to one victim minutes after the attack that has left her bleeding on the floor.\n",
      "\n"
     ]
    }
   ],
   "source": [
    "x, y = make_xy(critics, vectorizer)\n",
    "\n",
    "prob = clf.predict_proba(x)[:, 0]\n",
    "predict = clf.predict(x)\n",
    "\n",
    "bad_rotten = np.argsort(prob[y == 0])[:5]\n",
    "bad_fresh = np.argsort(prob[y == 1])[-5:]\n",
    "\n",
    "print(\"Mis-predicted Rotten quotes\")\n",
    "print('---------------------------')\n",
    "for row in bad_rotten:\n",
    "    print(critics[y == 0].quote.iloc[row])\n",
    "    print(\"\")\n",
    "\n",
    "print(\"Mis-predicted Fresh quotes\")\n",
    "print('--------------------------')\n",
    "for row in bad_fresh:\n",
    "    print(critics[y == 1].quote.iloc[row])\n",
    "    print(\"\")"
   ]
  },
  {
   "cell_type": "markdown",
   "metadata": {},
   "source": [
    "<div class=\"span5 alert alert-info\">\n",
    "<h3>Exercise Set VII: Predicting the Freshness for a New Review</h3>\n",
    "<br/>\n",
    "<div>\n",
    "<b>Exercise:</b>\n",
    "<ul>\n",
    "<li> Using your best trained classifier, predict the freshness of the following sentence: *'This movie is not remarkable, touching, or superb in any way'*\n",
    "<li> Is the result what you'd expect? Why (not)?\n",
    "</ul>\n",
    "</div>\n",
    "</div>"
   ]
  },
  {
   "cell_type": "code",
   "execution_count": 20,
   "metadata": {},
   "outputs": [
    {
     "name": "stdout",
     "output_type": "stream",
     "text": [
      "fresh = [1]\n"
     ]
    },
    {
     "data": {
      "text/plain": [
       "'This movie is not remarkable, touching, or superb in any way'"
      ]
     },
     "execution_count": 20,
     "metadata": {},
     "output_type": "execute_result"
    }
   ],
   "source": [
    "#your turn\n",
    "best_clf = MultinomialNB(alpha=best_alpha).fit(xtrain, ytrain)\n",
    "\n",
    "#use clasifier on sentence above. \n",
    "test_quote = 'This movie is not remarkable, touching, or superb in any way'\n",
    "X_quote = vectorizer.transform([test_quote])\n",
    "\n",
    "predict = best_clf.predict(X_quote)\n",
    "print:('Test:',test_quote)\n",
    "print('fresh =', predict)\n",
    "\n",
    "'This movie is not remarkable, touching, or superb in any way'\n",
    "\n"
   ]
  },
  {
   "cell_type": "code",
   "execution_count": 21,
   "metadata": {},
   "outputs": [
    {
     "data": {
      "text/plain": [
       "array([[0.00657647, 0.99342353]])"
      ]
     },
     "execution_count": 21,
     "metadata": {},
     "output_type": "execute_result"
    }
   ],
   "source": [
    "clf.predict_proba(vectorizer.transform(['This movie is not remarkable, touching, or superb in any way']))\n",
    "#meaning????  rotten   fresh "
   ]
  },
  {
   "cell_type": "markdown",
   "metadata": {},
   "source": [
    "+ I would predict that even the best trained 'bag of words classifier' would not be able to successfully classify a sentence containing words with high likelihood of positive connotations in a grammatical structure that flips their meaning. We shoudl do the n-gram bundling of the words to make sure words like 'not' are bundled up together to keep their meanings."
   ]
  },
  {
   "cell_type": "markdown",
   "metadata": {},
   "source": [
    "### Aside: TF-IDF Weighting for Term Importance\n",
    "\n",
    "TF-IDF stands for \n",
    "\n",
    "`Term-Frequency X Inverse Document Frequency`.\n",
    "\n",
    "In the standard `CountVectorizer` model above, we used just the term frequency in a document of words in our vocabulary. In TF-IDF, we weight this term frequency by the inverse of its popularity in all documents. For example, if the word \"movie\" showed up in all the documents, it would not have much predictive value. It could actually be considered a stopword. By weighing its counts by 1 divided by its overall frequency, we downweight it. We can then use this TF-IDF weighted features as inputs to any classifier. **TF-IDF is essentially a measure of term importance, and of how discriminative a word is in a corpus.** There are a variety of nuances involved in computing TF-IDF, mainly involving where to add the smoothing term to avoid division by 0, or log of 0 errors. The formula for TF-IDF in `scikit-learn` differs from that of most textbooks: \n",
    "\n",
    "$$\\mbox{TF-IDF}(t, d) = \\mbox{TF}(t, d)\\times \\mbox{IDF}(t) = n_{td} \\log{\\left( \\frac{\\vert D \\vert}{\\vert d : t \\in d \\vert} + 1 \\right)}$$\n",
    "\n",
    "where $n_{td}$ is the number of times term $t$ occurs in document $d$, $\\vert D \\vert$ is the number of documents, and $\\vert d : t \\in d \\vert$ is the number of documents that contain $t$"
   ]
  },
  {
   "cell_type": "code",
   "execution_count": 22,
   "metadata": {},
   "outputs": [],
   "source": [
    "# http://scikit-learn.org/dev/modules/feature_extraction.html#text-feature-extraction\n",
    "# http://scikit-learn.org/dev/modules/classes.html#text-feature-extraction-ref\n",
    "from sklearn.feature_extraction.text import TfidfVectorizer\n",
    "tfidfvectorizer = TfidfVectorizer(min_df=1, stop_words='english')\n",
    "Xtfidf=tfidfvectorizer.fit_transform(critics.quote)"
   ]
  },
  {
   "cell_type": "markdown",
   "metadata": {},
   "source": [
    "<div class=\"span5 alert alert-info\">\n",
    "<h3>Exercise Set VIII: Enrichment <b>(Optional)</b></h3>\n",
    "\n",
    "<p>\n",
    "There are several additional things we could try. Try some of these as exercises:\n",
    "<ol>\n",
    "<li> Build a Naive Bayes model where the features are n-grams instead of words. N-grams are phrases containing n words next to each other: a bigram contains 2 words, a trigram contains 3 words, and 6-gram contains 6 words. This is useful because \"not good\" and \"so good\" mean very different things. On the other hand, as n increases, the model does not scale well since the feature set becomes more sparse.\n",
    "<li> Try a model besides Naive Bayes, one that would allow for interactions between words -- for example, a Random Forest classifier.\n",
    "<li> Try adding supplemental features -- information about genre, director, cast, etc.\n",
    "<li> Use word2vec or [Latent Dirichlet Allocation](https://en.wikipedia.org/wiki/Latent_Dirichlet_allocation) to group words into topics and use those topics for prediction.\n",
    "<li> Use TF-IDF weighting instead of word counts.\n",
    "</ol>\n",
    "</p>\n",
    "\n",
    "<b>Exercise:</b> Try at least one of these ideas to improve the model (or any other ideas of your own). Implement here and report on the result. \n",
    "</div>"
   ]
  },
  {
   "cell_type": "code",
   "execution_count": null,
   "metadata": {
    "collapsed": true
   },
   "outputs": [],
   "source": [
    "# Your turn"
   ]
  }
 ],
 "metadata": {
  "kernelspec": {
   "display_name": "Python 3",
   "language": "python",
   "name": "python3"
  },
  "language_info": {
   "codemirror_mode": {
    "name": "ipython",
    "version": 3
   },
   "file_extension": ".py",
   "mimetype": "text/x-python",
   "name": "python",
   "nbconvert_exporter": "python",
   "pygments_lexer": "ipython3",
   "version": "3.7.1"
  }
 },
 "nbformat": 4,
 "nbformat_minor": 1
}
