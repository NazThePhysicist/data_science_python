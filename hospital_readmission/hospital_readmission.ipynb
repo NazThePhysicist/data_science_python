{
 "cells": [
  {
   "cell_type": "markdown",
   "metadata": {},
   "source": [
    "# Hospital Readmissions Data Analysis and Recommendations for Reduction\n",
    "\n",
    "### Background\n",
    "In October 2012, the US government's Center for Medicare and Medicaid Services (CMS) began reducing Medicare payments for Inpatient Prospective Payment System hospitals with excess readmissions. Excess readmissions are measured by a ratio, by dividing a hospital’s number of “predicted” 30-day readmissions for heart attack, heart failure, and pneumonia by the number that would be “expected,” based on an average hospital with similar patients. A ratio greater than 1 indicates excess readmissions.\n",
    "\n",
    "### Exercise Directions\n",
    "\n",
    "In this exercise, you will:\n",
    "+ critique a preliminary analysis of readmissions data and recommendations (provided below) for reducing the readmissions rate\n",
    "+ construct a statistically sound analysis and make recommendations of your own \n",
    "\n",
    "More instructions provided below. Include your work **in this notebook and submit to your Github account**. \n",
    "\n",
    "### Resources\n",
    "+ Data source: https://data.medicare.gov/Hospital-Compare/Hospital-Readmission-Reduction/9n3s-kdb3\n",
    "+ More information: http://www.cms.gov/Medicare/medicare-fee-for-service-payment/acuteinpatientPPS/readmissions-reduction-program.html\n",
    "+ Markdown syntax: http://nestacms.com/docs/creating-content/markdown-cheat-sheet\n",
    "****"
   ]
  },
  {
   "cell_type": "code",
   "execution_count": 2,
   "metadata": {},
   "outputs": [],
   "source": [
    "%matplotlib inline\n",
    "import warnings\n",
    "warnings.filterwarnings('ignore')\n",
    "import pandas as pd\n",
    "import numpy as np\n",
    "import matplotlib.pyplot as plt\n",
    "import bokeh.plotting as bkp\n",
    "from mpl_toolkits.axes_grid1 import make_axes_locatable\n",
    "import seaborn as sns\n",
    "from scipy import stats\n",
    "from statsmodels.stats.weightstats import ztest\n",
    "from matplotlib import rcParams"
   ]
  },
  {
   "cell_type": "markdown",
   "metadata": {},
   "source": [
    "critique a preliminary analysis of readmissions data and recommendations (provided below) for reducing the readmissions rate and construct a statistically sound analysis and make recommendations of your own"
   ]
  },
  {
   "cell_type": "code",
   "execution_count": 3,
   "metadata": {},
   "outputs": [],
   "source": [
    "# read in readmissions data provided\n",
    "hospital_read_df = pd.read_csv('data/cms_hospital_readmissions.csv')"
   ]
  },
  {
   "cell_type": "code",
   "execution_count": 4,
   "metadata": {},
   "outputs": [
    {
     "data": {
      "text/html": [
       "<div>\n",
       "<style scoped>\n",
       "    .dataframe tbody tr th:only-of-type {\n",
       "        vertical-align: middle;\n",
       "    }\n",
       "\n",
       "    .dataframe tbody tr th {\n",
       "        vertical-align: top;\n",
       "    }\n",
       "\n",
       "    .dataframe thead th {\n",
       "        text-align: right;\n",
       "    }\n",
       "</style>\n",
       "<table border=\"1\" class=\"dataframe\">\n",
       "  <thead>\n",
       "    <tr style=\"text-align: right;\">\n",
       "      <th></th>\n",
       "      <th>Hospital Name</th>\n",
       "      <th>Provider Number</th>\n",
       "      <th>State</th>\n",
       "      <th>Measure Name</th>\n",
       "      <th>Number of Discharges</th>\n",
       "      <th>Footnote</th>\n",
       "      <th>Excess Readmission Ratio</th>\n",
       "      <th>Predicted Readmission Rate</th>\n",
       "      <th>Expected Readmission Rate</th>\n",
       "      <th>Number of Readmissions</th>\n",
       "      <th>Start Date</th>\n",
       "      <th>End Date</th>\n",
       "    </tr>\n",
       "  </thead>\n",
       "  <tbody>\n",
       "    <tr>\n",
       "      <th>0</th>\n",
       "      <td>FROEDTERT MEMORIAL LUTHERAN HOSPITAL</td>\n",
       "      <td>520177</td>\n",
       "      <td>WI</td>\n",
       "      <td>READM-30-HIP-KNEE-HRRP</td>\n",
       "      <td>242</td>\n",
       "      <td>NaN</td>\n",
       "      <td>1.9095</td>\n",
       "      <td>10.8</td>\n",
       "      <td>5.6</td>\n",
       "      <td>38.0</td>\n",
       "      <td>07/01/2010</td>\n",
       "      <td>06/30/2013</td>\n",
       "    </tr>\n",
       "    <tr>\n",
       "      <th>1</th>\n",
       "      <td>PROVIDENCE HOSPITAL</td>\n",
       "      <td>90006</td>\n",
       "      <td>DC</td>\n",
       "      <td>READM-30-HIP-KNEE-HRRP</td>\n",
       "      <td>247</td>\n",
       "      <td>NaN</td>\n",
       "      <td>1.7521</td>\n",
       "      <td>9.2</td>\n",
       "      <td>5.3</td>\n",
       "      <td>33.0</td>\n",
       "      <td>07/01/2010</td>\n",
       "      <td>06/30/2013</td>\n",
       "    </tr>\n",
       "    <tr>\n",
       "      <th>2</th>\n",
       "      <td>BEAUFORT COUNTY MEMORIAL HOSPITAL</td>\n",
       "      <td>420067</td>\n",
       "      <td>SC</td>\n",
       "      <td>READM-30-HIP-KNEE-HRRP</td>\n",
       "      <td>586</td>\n",
       "      <td>NaN</td>\n",
       "      <td>1.5836</td>\n",
       "      <td>7.6</td>\n",
       "      <td>4.8</td>\n",
       "      <td>53.0</td>\n",
       "      <td>07/01/2010</td>\n",
       "      <td>06/30/2013</td>\n",
       "    </tr>\n",
       "    <tr>\n",
       "      <th>3</th>\n",
       "      <td>ADVOCATE CHRIST HOSPITAL &amp; MEDICAL CENTER</td>\n",
       "      <td>140208</td>\n",
       "      <td>IL</td>\n",
       "      <td>READM-30-HIP-KNEE-HRRP</td>\n",
       "      <td>965</td>\n",
       "      <td>NaN</td>\n",
       "      <td>1.5760</td>\n",
       "      <td>9.0</td>\n",
       "      <td>5.7</td>\n",
       "      <td>95.0</td>\n",
       "      <td>07/01/2010</td>\n",
       "      <td>06/30/2013</td>\n",
       "    </tr>\n",
       "    <tr>\n",
       "      <th>4</th>\n",
       "      <td>BRAZOSPORT REGIONAL HEALTH SYSTEM</td>\n",
       "      <td>450072</td>\n",
       "      <td>TX</td>\n",
       "      <td>READM-30-HIP-KNEE-HRRP</td>\n",
       "      <td>149</td>\n",
       "      <td>NaN</td>\n",
       "      <td>1.5308</td>\n",
       "      <td>8.2</td>\n",
       "      <td>5.4</td>\n",
       "      <td>20.0</td>\n",
       "      <td>07/01/2010</td>\n",
       "      <td>06/30/2013</td>\n",
       "    </tr>\n",
       "  </tbody>\n",
       "</table>\n",
       "</div>"
      ],
      "text/plain": [
       "                               Hospital Name  Provider Number State  \\\n",
       "0       FROEDTERT MEMORIAL LUTHERAN HOSPITAL           520177    WI   \n",
       "1                        PROVIDENCE HOSPITAL            90006    DC   \n",
       "2          BEAUFORT COUNTY MEMORIAL HOSPITAL           420067    SC   \n",
       "3  ADVOCATE CHRIST HOSPITAL & MEDICAL CENTER           140208    IL   \n",
       "4          BRAZOSPORT REGIONAL HEALTH SYSTEM           450072    TX   \n",
       "\n",
       "             Measure Name Number of Discharges  Footnote  \\\n",
       "0  READM-30-HIP-KNEE-HRRP                  242       NaN   \n",
       "1  READM-30-HIP-KNEE-HRRP                  247       NaN   \n",
       "2  READM-30-HIP-KNEE-HRRP                  586       NaN   \n",
       "3  READM-30-HIP-KNEE-HRRP                  965       NaN   \n",
       "4  READM-30-HIP-KNEE-HRRP                  149       NaN   \n",
       "\n",
       "   Excess Readmission Ratio  Predicted Readmission Rate  \\\n",
       "0                    1.9095                        10.8   \n",
       "1                    1.7521                         9.2   \n",
       "2                    1.5836                         7.6   \n",
       "3                    1.5760                         9.0   \n",
       "4                    1.5308                         8.2   \n",
       "\n",
       "   Expected Readmission Rate  Number of Readmissions  Start Date    End Date  \n",
       "0                        5.6                    38.0  07/01/2010  06/30/2013  \n",
       "1                        5.3                    33.0  07/01/2010  06/30/2013  \n",
       "2                        4.8                    53.0  07/01/2010  06/30/2013  \n",
       "3                        5.7                    95.0  07/01/2010  06/30/2013  \n",
       "4                        5.4                    20.0  07/01/2010  06/30/2013  "
      ]
     },
     "execution_count": 4,
     "metadata": {},
     "output_type": "execute_result"
    }
   ],
   "source": [
    "hospital_read_df.head()"
   ]
  },
  {
   "cell_type": "code",
   "execution_count": 5,
   "metadata": {},
   "outputs": [
    {
     "name": "stdout",
     "output_type": "stream",
     "text": [
      "<class 'pandas.core.frame.DataFrame'>\n",
      "RangeIndex: 16860 entries, 0 to 16859\n",
      "Data columns (total 12 columns):\n",
      "Hospital Name                 16860 non-null object\n",
      "Provider Number               16860 non-null int64\n",
      "State                         16860 non-null object\n",
      "Measure Name                  16860 non-null object\n",
      "Number of Discharges          16860 non-null object\n",
      "Footnote                      3129 non-null float64\n",
      "Excess Readmission Ratio      13731 non-null float64\n",
      "Predicted Readmission Rate    13731 non-null float64\n",
      "Expected Readmission Rate     13731 non-null float64\n",
      "Number of Readmissions        11497 non-null float64\n",
      "Start Date                    16860 non-null object\n",
      "End Date                      16860 non-null object\n",
      "dtypes: float64(5), int64(1), object(6)\n",
      "memory usage: 1.5+ MB\n"
     ]
    }
   ],
   "source": [
    "hospital_read_df.info()"
   ]
  },
  {
   "cell_type": "code",
   "execution_count": 6,
   "metadata": {},
   "outputs": [
    {
     "data": {
      "text/html": [
       "<div>\n",
       "<style scoped>\n",
       "    .dataframe tbody tr th:only-of-type {\n",
       "        vertical-align: middle;\n",
       "    }\n",
       "\n",
       "    .dataframe tbody tr th {\n",
       "        vertical-align: top;\n",
       "    }\n",
       "\n",
       "    .dataframe thead th {\n",
       "        text-align: right;\n",
       "    }\n",
       "</style>\n",
       "<table border=\"1\" class=\"dataframe\">\n",
       "  <thead>\n",
       "    <tr style=\"text-align: right;\">\n",
       "      <th></th>\n",
       "      <th>Provider Number</th>\n",
       "      <th>Footnote</th>\n",
       "      <th>Excess Readmission Ratio</th>\n",
       "      <th>Predicted Readmission Rate</th>\n",
       "      <th>Expected Readmission Rate</th>\n",
       "      <th>Number of Readmissions</th>\n",
       "    </tr>\n",
       "  </thead>\n",
       "  <tbody>\n",
       "    <tr>\n",
       "      <th>count</th>\n",
       "      <td>16860.000000</td>\n",
       "      <td>3129.000000</td>\n",
       "      <td>13731.000000</td>\n",
       "      <td>13731.000000</td>\n",
       "      <td>13731.000000</td>\n",
       "      <td>11497.000000</td>\n",
       "    </tr>\n",
       "    <tr>\n",
       "      <th>mean</th>\n",
       "      <td>263516.943654</td>\n",
       "      <td>2.905401</td>\n",
       "      <td>1.002582</td>\n",
       "      <td>16.916532</td>\n",
       "      <td>16.866135</td>\n",
       "      <td>63.633731</td>\n",
       "    </tr>\n",
       "    <tr>\n",
       "      <th>std</th>\n",
       "      <td>160146.191702</td>\n",
       "      <td>2.074384</td>\n",
       "      <td>0.091088</td>\n",
       "      <td>6.197542</td>\n",
       "      <td>5.989652</td>\n",
       "      <td>59.540296</td>\n",
       "    </tr>\n",
       "    <tr>\n",
       "      <th>min</th>\n",
       "      <td>10001.000000</td>\n",
       "      <td>1.000000</td>\n",
       "      <td>0.549500</td>\n",
       "      <td>2.700000</td>\n",
       "      <td>2.900000</td>\n",
       "      <td>11.000000</td>\n",
       "    </tr>\n",
       "    <tr>\n",
       "      <th>25%</th>\n",
       "      <td>110181.500000</td>\n",
       "      <td>1.000000</td>\n",
       "      <td>0.949500</td>\n",
       "      <td>15.200000</td>\n",
       "      <td>15.800000</td>\n",
       "      <td>24.000000</td>\n",
       "    </tr>\n",
       "    <tr>\n",
       "      <th>50%</th>\n",
       "      <td>250157.000000</td>\n",
       "      <td>1.000000</td>\n",
       "      <td>0.997100</td>\n",
       "      <td>18.500000</td>\n",
       "      <td>18.500000</td>\n",
       "      <td>45.000000</td>\n",
       "    </tr>\n",
       "    <tr>\n",
       "      <th>75%</th>\n",
       "      <td>390138.250000</td>\n",
       "      <td>5.000000</td>\n",
       "      <td>1.052350</td>\n",
       "      <td>21.100000</td>\n",
       "      <td>21.100000</td>\n",
       "      <td>82.000000</td>\n",
       "    </tr>\n",
       "    <tr>\n",
       "      <th>max</th>\n",
       "      <td>670091.000000</td>\n",
       "      <td>7.000000</td>\n",
       "      <td>1.909500</td>\n",
       "      <td>32.800000</td>\n",
       "      <td>29.400000</td>\n",
       "      <td>879.000000</td>\n",
       "    </tr>\n",
       "  </tbody>\n",
       "</table>\n",
       "</div>"
      ],
      "text/plain": [
       "       Provider Number     Footnote  Excess Readmission Ratio  \\\n",
       "count     16860.000000  3129.000000              13731.000000   \n",
       "mean     263516.943654     2.905401                  1.002582   \n",
       "std      160146.191702     2.074384                  0.091088   \n",
       "min       10001.000000     1.000000                  0.549500   \n",
       "25%      110181.500000     1.000000                  0.949500   \n",
       "50%      250157.000000     1.000000                  0.997100   \n",
       "75%      390138.250000     5.000000                  1.052350   \n",
       "max      670091.000000     7.000000                  1.909500   \n",
       "\n",
       "       Predicted Readmission Rate  Expected Readmission Rate  \\\n",
       "count                13731.000000               13731.000000   \n",
       "mean                    16.916532                  16.866135   \n",
       "std                      6.197542                   5.989652   \n",
       "min                      2.700000                   2.900000   \n",
       "25%                     15.200000                  15.800000   \n",
       "50%                     18.500000                  18.500000   \n",
       "75%                     21.100000                  21.100000   \n",
       "max                     32.800000                  29.400000   \n",
       "\n",
       "       Number of Readmissions  \n",
       "count            11497.000000  \n",
       "mean                63.633731  \n",
       "std                 59.540296  \n",
       "min                 11.000000  \n",
       "25%                 24.000000  \n",
       "50%                 45.000000  \n",
       "75%                 82.000000  \n",
       "max                879.000000  "
      ]
     },
     "execution_count": 6,
     "metadata": {},
     "output_type": "execute_result"
    }
   ],
   "source": [
    "hospital_read_df.describe()"
   ]
  },
  {
   "cell_type": "code",
   "execution_count": 7,
   "metadata": {},
   "outputs": [],
   "source": [
    "clean_hospital_read_df = hospital_read_df[hospital_read_df['Number of Discharges'] != 'Not Available']"
   ]
  },
  {
   "cell_type": "code",
   "execution_count": 8,
   "metadata": {},
   "outputs": [
    {
     "data": {
      "text/plain": [
       "Hospital Name                 DOCTORS HOSPITAL AT DEER CREEK LLCPARK RIDGE H...\n",
       "Provider Number                                                      1459458832\n",
       "State                         LANCGAWIMACAPAINPAGAMNINNYNMMIGAMATXWIVAMACAVA...\n",
       "Measure Name                  READM-30-HIP-KNEE-HRRPREADM-30-HIP-KNEE-HRRPRE...\n",
       "Number of Discharges          Not AvailableNot AvailableNot AvailableNot Ava...\n",
       "Footnote                                                                   8524\n",
       "Excess Readmission Ratio                                                2183.19\n",
       "Predicted Readmission Rate                                              25515.5\n",
       "Expected Readmission Rate                                                 26187\n",
       "Number of Readmissions                                                        0\n",
       "Start Date                    07/01/201007/01/201007/01/201007/01/201007/01/...\n",
       "End Date                      06/30/201306/30/201306/30/201306/30/201306/30/...\n",
       "dtype: object"
      ]
     },
     "execution_count": 8,
     "metadata": {},
     "output_type": "execute_result"
    }
   ],
   "source": [
    "hospital_read_df[hospital_read_df['Number of Discharges']== 'Not Available'].sum() "
   ]
  },
  {
   "cell_type": "code",
   "execution_count": 9,
   "metadata": {},
   "outputs": [],
   "source": [
    "clean_hospital_read_df.loc[:, 'Number of Discharges']=clean_hospital_read_df['Number of Discharges'].astype(int) \n",
    " #meaning?iloc? "
   ]
  },
  {
   "cell_type": "code",
   "execution_count": 10,
   "metadata": {},
   "outputs": [],
   "source": [
    "clean_hospital_read_df = clean_hospital_read_df.sort_values('Number of Discharges')\n",
    "# print(clean_hospital_read_df)\n",
    "# I made the switch to ascending = False from the one given on the problem , ascending = False"
   ]
  },
  {
   "cell_type": "code",
   "execution_count": 11,
   "metadata": {},
   "outputs": [
    {
     "data": {
      "text/html": [
       "<div>\n",
       "<style scoped>\n",
       "    .dataframe tbody tr th:only-of-type {\n",
       "        vertical-align: middle;\n",
       "    }\n",
       "\n",
       "    .dataframe tbody tr th {\n",
       "        vertical-align: top;\n",
       "    }\n",
       "\n",
       "    .dataframe thead th {\n",
       "        text-align: right;\n",
       "    }\n",
       "</style>\n",
       "<table border=\"1\" class=\"dataframe\">\n",
       "  <thead>\n",
       "    <tr style=\"text-align: right;\">\n",
       "      <th></th>\n",
       "      <th>Hospital Name</th>\n",
       "      <th>Provider Number</th>\n",
       "      <th>State</th>\n",
       "      <th>Measure Name</th>\n",
       "      <th>Number of Discharges</th>\n",
       "      <th>Footnote</th>\n",
       "      <th>Excess Readmission Ratio</th>\n",
       "      <th>Predicted Readmission Rate</th>\n",
       "      <th>Expected Readmission Rate</th>\n",
       "      <th>Number of Readmissions</th>\n",
       "      <th>Start Date</th>\n",
       "      <th>End Date</th>\n",
       "    </tr>\n",
       "  </thead>\n",
       "  <tbody>\n",
       "    <tr>\n",
       "      <th>16857</th>\n",
       "      <td>THREE RIVERS MEDICAL CENTER</td>\n",
       "      <td>180128</td>\n",
       "      <td>KY</td>\n",
       "      <td>READM-30-HIP-KNEE-HRRP</td>\n",
       "      <td>0</td>\n",
       "      <td>7.0</td>\n",
       "      <td>NaN</td>\n",
       "      <td>NaN</td>\n",
       "      <td>NaN</td>\n",
       "      <td>NaN</td>\n",
       "      <td>07/01/2010</td>\n",
       "      <td>06/30/2013</td>\n",
       "    </tr>\n",
       "    <tr>\n",
       "      <th>14582</th>\n",
       "      <td>SELLS INDIAN HEALTH SERVICE HOSPITAL</td>\n",
       "      <td>30074</td>\n",
       "      <td>AZ</td>\n",
       "      <td>READM-30-COPD-HRRP</td>\n",
       "      <td>0</td>\n",
       "      <td>7.0</td>\n",
       "      <td>NaN</td>\n",
       "      <td>NaN</td>\n",
       "      <td>NaN</td>\n",
       "      <td>NaN</td>\n",
       "      <td>07/01/2010</td>\n",
       "      <td>06/30/2013</td>\n",
       "    </tr>\n",
       "    <tr>\n",
       "      <th>15606</th>\n",
       "      <td>PHS INDIAN HOSPITAL AT PINE RIDGE</td>\n",
       "      <td>430081</td>\n",
       "      <td>SD</td>\n",
       "      <td>READM-30-AMI-HRRP</td>\n",
       "      <td>0</td>\n",
       "      <td>7.0</td>\n",
       "      <td>NaN</td>\n",
       "      <td>NaN</td>\n",
       "      <td>NaN</td>\n",
       "      <td>NaN</td>\n",
       "      <td>07/01/2010</td>\n",
       "      <td>06/30/2013</td>\n",
       "    </tr>\n",
       "    <tr>\n",
       "      <th>15615</th>\n",
       "      <td>FLORIDA STATE HOSPITAL UNIT 31 MED</td>\n",
       "      <td>100298</td>\n",
       "      <td>FL</td>\n",
       "      <td>READM-30-COPD-HRRP</td>\n",
       "      <td>0</td>\n",
       "      <td>7.0</td>\n",
       "      <td>NaN</td>\n",
       "      <td>NaN</td>\n",
       "      <td>NaN</td>\n",
       "      <td>NaN</td>\n",
       "      <td>07/01/2010</td>\n",
       "      <td>06/30/2013</td>\n",
       "    </tr>\n",
       "    <tr>\n",
       "      <th>14551</th>\n",
       "      <td>GREENE COUNTY HOSPITAL</td>\n",
       "      <td>10051</td>\n",
       "      <td>AL</td>\n",
       "      <td>READM-30-AMI-HRRP</td>\n",
       "      <td>0</td>\n",
       "      <td>7.0</td>\n",
       "      <td>NaN</td>\n",
       "      <td>NaN</td>\n",
       "      <td>NaN</td>\n",
       "      <td>NaN</td>\n",
       "      <td>07/01/2010</td>\n",
       "      <td>06/30/2013</td>\n",
       "    </tr>\n",
       "  </tbody>\n",
       "</table>\n",
       "</div>"
      ],
      "text/plain": [
       "                              Hospital Name  Provider Number State  \\\n",
       "16857           THREE RIVERS MEDICAL CENTER           180128    KY   \n",
       "14582  SELLS INDIAN HEALTH SERVICE HOSPITAL            30074    AZ   \n",
       "15606     PHS INDIAN HOSPITAL AT PINE RIDGE           430081    SD   \n",
       "15615    FLORIDA STATE HOSPITAL UNIT 31 MED           100298    FL   \n",
       "14551                GREENE COUNTY HOSPITAL            10051    AL   \n",
       "\n",
       "                 Measure Name  Number of Discharges  Footnote  \\\n",
       "16857  READM-30-HIP-KNEE-HRRP                     0       7.0   \n",
       "14582      READM-30-COPD-HRRP                     0       7.0   \n",
       "15606       READM-30-AMI-HRRP                     0       7.0   \n",
       "15615      READM-30-COPD-HRRP                     0       7.0   \n",
       "14551       READM-30-AMI-HRRP                     0       7.0   \n",
       "\n",
       "       Excess Readmission Ratio  Predicted Readmission Rate  \\\n",
       "16857                       NaN                         NaN   \n",
       "14582                       NaN                         NaN   \n",
       "15606                       NaN                         NaN   \n",
       "15615                       NaN                         NaN   \n",
       "14551                       NaN                         NaN   \n",
       "\n",
       "       Expected Readmission Rate  Number of Readmissions  Start Date  \\\n",
       "16857                        NaN                     NaN  07/01/2010   \n",
       "14582                        NaN                     NaN  07/01/2010   \n",
       "15606                        NaN                     NaN  07/01/2010   \n",
       "15615                        NaN                     NaN  07/01/2010   \n",
       "14551                        NaN                     NaN  07/01/2010   \n",
       "\n",
       "         End Date  \n",
       "16857  06/30/2013  \n",
       "14582  06/30/2013  \n",
       "15606  06/30/2013  \n",
       "15615  06/30/2013  \n",
       "14551  06/30/2013  "
      ]
     },
     "execution_count": 11,
     "metadata": {},
     "output_type": "execute_result"
    }
   ],
   "source": [
    "clean_hospital_read_df.head()"
   ]
  },
  {
   "cell_type": "code",
   "execution_count": 12,
   "metadata": {},
   "outputs": [
    {
     "data": {
      "text/html": [
       "<div>\n",
       "<style scoped>\n",
       "    .dataframe tbody tr th:only-of-type {\n",
       "        vertical-align: middle;\n",
       "    }\n",
       "\n",
       "    .dataframe tbody tr th {\n",
       "        vertical-align: top;\n",
       "    }\n",
       "\n",
       "    .dataframe thead th {\n",
       "        text-align: right;\n",
       "    }\n",
       "</style>\n",
       "<table border=\"1\" class=\"dataframe\">\n",
       "  <thead>\n",
       "    <tr style=\"text-align: right;\">\n",
       "      <th></th>\n",
       "      <th>Provider Number</th>\n",
       "      <th>Number of Discharges</th>\n",
       "      <th>Footnote</th>\n",
       "      <th>Excess Readmission Ratio</th>\n",
       "      <th>Predicted Readmission Rate</th>\n",
       "      <th>Expected Readmission Rate</th>\n",
       "      <th>Number of Readmissions</th>\n",
       "    </tr>\n",
       "  </thead>\n",
       "  <tbody>\n",
       "    <tr>\n",
       "      <th>count</th>\n",
       "      <td>11578.000000</td>\n",
       "      <td>11578.000000</td>\n",
       "      <td>81.0</td>\n",
       "      <td>11497.000000</td>\n",
       "      <td>11497.000000</td>\n",
       "      <td>11497.000000</td>\n",
       "      <td>11497.000000</td>\n",
       "    </tr>\n",
       "    <tr>\n",
       "      <th>mean</th>\n",
       "      <td>257681.537226</td>\n",
       "      <td>362.909397</td>\n",
       "      <td>7.0</td>\n",
       "      <td>1.007504</td>\n",
       "      <td>17.984292</td>\n",
       "      <td>17.865695</td>\n",
       "      <td>63.633731</td>\n",
       "    </tr>\n",
       "    <tr>\n",
       "      <th>std</th>\n",
       "      <td>154542.645531</td>\n",
       "      <td>309.176945</td>\n",
       "      <td>0.0</td>\n",
       "      <td>0.091964</td>\n",
       "      <td>5.487651</td>\n",
       "      <td>5.240749</td>\n",
       "      <td>59.540296</td>\n",
       "    </tr>\n",
       "    <tr>\n",
       "      <th>min</th>\n",
       "      <td>10001.000000</td>\n",
       "      <td>0.000000</td>\n",
       "      <td>7.0</td>\n",
       "      <td>0.549500</td>\n",
       "      <td>2.700000</td>\n",
       "      <td>3.900000</td>\n",
       "      <td>11.000000</td>\n",
       "    </tr>\n",
       "    <tr>\n",
       "      <th>25%</th>\n",
       "      <td>110129.750000</td>\n",
       "      <td>157.000000</td>\n",
       "      <td>7.0</td>\n",
       "      <td>0.952600</td>\n",
       "      <td>16.300000</td>\n",
       "      <td>16.600000</td>\n",
       "      <td>24.000000</td>\n",
       "    </tr>\n",
       "    <tr>\n",
       "      <th>50%</th>\n",
       "      <td>250040.000000</td>\n",
       "      <td>280.000000</td>\n",
       "      <td>7.0</td>\n",
       "      <td>1.003500</td>\n",
       "      <td>19.000000</td>\n",
       "      <td>19.000000</td>\n",
       "      <td>45.000000</td>\n",
       "    </tr>\n",
       "    <tr>\n",
       "      <th>75%</th>\n",
       "      <td>390041.000000</td>\n",
       "      <td>472.750000</td>\n",
       "      <td>7.0</td>\n",
       "      <td>1.058100</td>\n",
       "      <td>21.500000</td>\n",
       "      <td>21.400000</td>\n",
       "      <td>82.000000</td>\n",
       "    </tr>\n",
       "    <tr>\n",
       "      <th>max</th>\n",
       "      <td>670082.000000</td>\n",
       "      <td>6793.000000</td>\n",
       "      <td>7.0</td>\n",
       "      <td>1.909500</td>\n",
       "      <td>32.800000</td>\n",
       "      <td>28.000000</td>\n",
       "      <td>879.000000</td>\n",
       "    </tr>\n",
       "  </tbody>\n",
       "</table>\n",
       "</div>"
      ],
      "text/plain": [
       "       Provider Number  Number of Discharges  Footnote  \\\n",
       "count     11578.000000          11578.000000      81.0   \n",
       "mean     257681.537226            362.909397       7.0   \n",
       "std      154542.645531            309.176945       0.0   \n",
       "min       10001.000000              0.000000       7.0   \n",
       "25%      110129.750000            157.000000       7.0   \n",
       "50%      250040.000000            280.000000       7.0   \n",
       "75%      390041.000000            472.750000       7.0   \n",
       "max      670082.000000           6793.000000       7.0   \n",
       "\n",
       "       Excess Readmission Ratio  Predicted Readmission Rate  \\\n",
       "count              11497.000000                11497.000000   \n",
       "mean                   1.007504                   17.984292   \n",
       "std                    0.091964                    5.487651   \n",
       "min                    0.549500                    2.700000   \n",
       "25%                    0.952600                   16.300000   \n",
       "50%                    1.003500                   19.000000   \n",
       "75%                    1.058100                   21.500000   \n",
       "max                    1.909500                   32.800000   \n",
       "\n",
       "       Expected Readmission Rate  Number of Readmissions  \n",
       "count               11497.000000            11497.000000  \n",
       "mean                   17.865695               63.633731  \n",
       "std                     5.240749               59.540296  \n",
       "min                     3.900000               11.000000  \n",
       "25%                    16.600000               24.000000  \n",
       "50%                    19.000000               45.000000  \n",
       "75%                    21.400000               82.000000  \n",
       "max                    28.000000              879.000000  "
      ]
     },
     "execution_count": 12,
     "metadata": {},
     "output_type": "execute_result"
    }
   ],
   "source": [
    "clean_hospital_read_df.describe()"
   ]
  },
  {
   "cell_type": "code",
   "execution_count": 13,
   "metadata": {},
   "outputs": [
    {
     "name": "stdout",
     "output_type": "stream",
     "text": [
      "<class 'pandas.core.frame.DataFrame'>\n",
      "Int64Index: 11578 entries, 16857 to 13666\n",
      "Data columns (total 12 columns):\n",
      "Hospital Name                 11578 non-null object\n",
      "Provider Number               11578 non-null int64\n",
      "State                         11578 non-null object\n",
      "Measure Name                  11578 non-null object\n",
      "Number of Discharges          11578 non-null int32\n",
      "Footnote                      81 non-null float64\n",
      "Excess Readmission Ratio      11497 non-null float64\n",
      "Predicted Readmission Rate    11497 non-null float64\n",
      "Expected Readmission Rate     11497 non-null float64\n",
      "Number of Readmissions        11497 non-null float64\n",
      "Start Date                    11578 non-null object\n",
      "End Date                      11578 non-null object\n",
      "dtypes: float64(5), int32(1), int64(1), object(5)\n",
      "memory usage: 1.1+ MB\n"
     ]
    }
   ],
   "source": [
    "clean_hospital_read_df.info()"
   ]
  },
  {
   "cell_type": "markdown",
   "metadata": {},
   "source": [
    "****\n",
    "## Preliminary Analysis"
   ]
  },
  {
   "cell_type": "code",
   "execution_count": 14,
   "metadata": {},
   "outputs": [
    {
     "data": {
      "image/png": "[encoded data removed]",
      "text/plain": [
       "<Figure size 576x360 with 1 Axes>"
      ]
     },
     "metadata": {
      "needs_background": "light"
     },
     "output_type": "display_data"
    }
   ],
   "source": [
    "# generate a scatterplot for number of discharges vs. excess rate of readmissions\n",
    "# lists work better with matplotlib scatterplot function\n",
    "x = [a for a in clean_hospital_read_df['Number of Discharges'][81:-3]] #readon for the last 81 rows was due to not having\n",
    "# , ascending = False from the assignment initially???\n",
    "y = list(clean_hospital_read_df['Excess Readmission Ratio'][81:-3])\n",
    "\n",
    "fig, ax = plt.subplots(figsize=(8,5))\n",
    "ax.scatter(x, y,alpha=0.2)\n",
    "\n",
    "ax.fill_between([0,350], 1.15, 2, facecolor='red', alpha = .15, interpolate=True)\n",
    "ax.fill_between([800,2500], .5, .95, facecolor='green', alpha = .15, interpolate=True)\n",
    "\n",
    "ax.set_xlim([0, max(x)])\n",
    "ax.set_xlabel('Number of discharges', fontsize=12)\n",
    "ax.set_ylabel('Excess rate of readmissions', fontsize=12)\n",
    "ax.set_title('Scatterplot of number of discharges vs. excess rate of readmissions', fontsize=14)\n",
    "\n",
    "ax.grid(True)\n",
    "fig.tight_layout()"
   ]
  },
  {
   "cell_type": "code",
   "execution_count": 15,
   "metadata": {},
   "outputs": [
    {
     "data": {
      "image/png": "[encoded data removed]",
      "text/plain": [
       "<Figure size 576x360 with 1 Axes>"
      ]
     },
     "metadata": {
      "needs_background": "light"
     },
     "output_type": "display_data"
    }
   ],
   "source": [
    "# generate a scatterplot for number of discharges vs. excess rate of readmissions\n",
    "# lists work better with matplotlib scatterplot function\n",
    "x = [a for a in clean_hospital_read_df['Number of Discharges'][81:-3]] #readon for the last 81 rows was due to not having\n",
    "# , ascending = False from the assignment initially???\n",
    "y = list(clean_hospital_read_df['Excess Readmission Ratio'][81:-3])\n",
    "\n",
    "fig, ax = plt.subplots(figsize=(8,5))\n",
    "ax.scatter(x, y,alpha=0.2)\n",
    "\n",
    "ax.fill_between([0,350], 1.15, 2, facecolor='red', alpha = .15, interpolate=True)\n",
    "ax.fill_between([800,2500], .5, .95, facecolor='green', alpha = .15, interpolate=True)\n",
    "\n",
    "ax.set_xlim([0, 500])\n",
    "ax.set_xlabel('Number of discharges', fontsize=12)\n",
    "ax.set_ylabel('Excess rate of readmissions', fontsize=12)\n",
    "ax.set_title('Scatterplot of number of discharges vs. excess rate of readmissions', fontsize=14)\n",
    "\n",
    "ax.grid(True)\n",
    "fig.tight_layout()"
   ]
  },
  {
   "cell_type": "markdown",
   "metadata": {},
   "source": [
    "****\n",
    "\n",
    "## Preliminary Report\n",
    "\n",
    "Read the following results/report. While you are reading it, think about if the conclusions are correct, incorrect, misleading or unfounded. Think about what you would change or what additional analyses you would perform.\n",
    "\n",
    "**A. Initial observations based on the plot above**\n",
    "+ Overall, rate of readmissions is trending down with increasing number of discharges --\n",
    "No, there is no factor of time to assess this\n",
    "\n",
    "+ With lower number of discharges, there is a greater incidence of excess rate of readmissions (area shaded red) --\n",
    "No, there is no red shaded in the area  of lower number of discharges. Therefore, not necessarily! most of the data is clumped up on the lower number of discharge but it could have any excess readmission \n",
    "ratio\n",
    "\n",
    "+ With higher number of discharges, there is a greater incidence of lower rates of readmissions (area shaded green) --\n",
    "Yes, it seems correct\n",
    "\n",
    "**B. Statistics**\n",
    "+ In hospitals/facilities with number of discharges < 100, mean excess readmission rate is 1.023 and 63% have excess readmission rate greater than 1 \n",
    "+ In hospitals/facilities with number of discharges > 1000, mean excess readmission rate is 0.978 and 44% have excess readmission rate greater than 1 \n",
    "\n",
    "**C. Conclusions**\n",
    "+ There is a significant correlation between hospital capacity (number of discharges) and readmission rates. \n",
    "+ Smaller hospitals/facilities may be lacking necessary resources to ensure quality care and prevent complications that lead to readmissions.\n",
    "\n",
    "**D. Regulatory policy recommendations**\n",
    "+ Hospitals/facilties with small capacity (< 300) should be required to demonstrate upgraded resource allocation for quality care to continue operation.\n",
    "+ Directives and incentives should be provided for consolidation of hospitals and facilities to have a smaller number of them with higher capacity and number of discharges."
   ]
  },
  {
   "cell_type": "markdown",
   "metadata": {},
   "source": [
    "****\n",
    "### Exercise\n",
    "\n",
    "Include your work on the following **in this notebook and submit to your Github account**. \n",
    "\n",
    "A. Do you agree with the above analysis and recommendations? Why or why not?\n",
    "   \n",
    "B. Provide support for your arguments and your own recommendations with a statistically sound analysis:\n",
    "\n",
    "   1. Setup an appropriate hypothesis test.\n",
    "   2. Compute and report the observed significance value (or p-value).\n",
    "   3. Report statistical significance for $\\alpha$ = .01. \n",
    "   4. Discuss statistical significance and practical significance. Do they differ here? How does this change your recommendation to the client?\n",
    "   5. Look at the scatterplot above. \n",
    "      - What are the advantages and disadvantages of using this plot to convey information?\n",
    "      - Construct another plot that conveys the same information in a more direct manner.\n",
    "\n",
    "\n",
    "\n",
    "You can compose in notebook cells using Markdown: \n",
    "+ In the control panel at the top, choose Cell > Cell Type > Markdown\n",
    "+ Markdown syntax: http://nestacms.com/docs/creating-content/markdown-cheat-sheet\n",
    "****"
   ]
  },
  {
   "cell_type": "markdown",
   "metadata": {},
   "source": [
    "Not entirely because analysis was soley based on graph. \n",
    "\n",
    "1) Initial observations is based on plot alone and not tested for statistical significance and correlation coefficient was not calculated.\n",
    "\n",
    "2) There is no \"Hypothesis test\" done  In the statistical analysis and hospital capacity was grouped only into two: number of discharges 1000. The group of 100 <=number of discharges<=1000 was left out. This means the calculated percentages of hospitals with excess readmission rate (63% and 44%) is only for the two groups missing a big chunk of the hospitals in the population.\n",
    "\n",
    "3) In the statistics part, hospital capacity was divided in two groups which can imply that small hospitals have number of discharges <100. However in the recommendation part, small capacity hospitals was defined as hospitals with number of discharges <300 which is inconsistent and can create confusion."
   ]
  },
  {
   "cell_type": "markdown",
   "metadata": {
    "collapsed": true
   },
   "source": [
    "# B. Statistics\n",
    "+ In hospitals/facilities with number of discharges < 100, mean excess readmission rate is 1.023 and 63% have excess readmission rate greater than 1\n",
    "+ In hospitals/facilities with number of discharges > 1000, mean excess readmission rate is 0.978 and 44% have excess readmission rate greater than 1"
   ]
  },
  {
   "cell_type": "markdown",
   "metadata": {
    "collapsed": true
   },
   "source": [
    "We are going to assess the following: \n",
    "+ In hospitals/facilities with number of discharges < 100, mean excess readmission rate is 1.023 and 63% have excess readmission rate greater than 1"
   ]
  },
  {
   "cell_type": "code",
   "execution_count": 17,
   "metadata": {
    "scrolled": true
   },
   "outputs": [
    {
     "data": {
      "text/html": [
       "<div>\n",
       "<style scoped>\n",
       "    .dataframe tbody tr th:only-of-type {\n",
       "        vertical-align: middle;\n",
       "    }\n",
       "\n",
       "    .dataframe tbody tr th {\n",
       "        vertical-align: top;\n",
       "    }\n",
       "\n",
       "    .dataframe thead th {\n",
       "        text-align: right;\n",
       "    }\n",
       "</style>\n",
       "<table border=\"1\" class=\"dataframe\">\n",
       "  <thead>\n",
       "    <tr style=\"text-align: right;\">\n",
       "      <th></th>\n",
       "      <th>Hospital Name</th>\n",
       "      <th>Provider Number</th>\n",
       "      <th>State</th>\n",
       "      <th>Measure Name</th>\n",
       "      <th>Number of Discharges</th>\n",
       "      <th>Footnote</th>\n",
       "      <th>Excess Readmission Ratio</th>\n",
       "      <th>Predicted Readmission Rate</th>\n",
       "      <th>Expected Readmission Rate</th>\n",
       "      <th>Number of Readmissions</th>\n",
       "      <th>Start Date</th>\n",
       "      <th>End Date</th>\n",
       "    </tr>\n",
       "  </thead>\n",
       "  <tbody>\n",
       "    <tr>\n",
       "      <th>200</th>\n",
       "      <td>SAINT JOSEPH REGIONAL MEDICAL CENTER - PLYMOUTH</td>\n",
       "      <td>150076</td>\n",
       "      <td>IN</td>\n",
       "      <td>READM-30-HIP-KNEE-HRRP</td>\n",
       "      <td>99</td>\n",
       "      <td>NaN</td>\n",
       "      <td>1.2348</td>\n",
       "      <td>7.2</td>\n",
       "      <td>5.8</td>\n",
       "      <td>11.0</td>\n",
       "      <td>07/01/2010</td>\n",
       "      <td>06/30/2013</td>\n",
       "    </tr>\n",
       "    <tr>\n",
       "      <th>2722</th>\n",
       "      <td>ADVOCATE TRINITY HOSPITAL</td>\n",
       "      <td>140048</td>\n",
       "      <td>IL</td>\n",
       "      <td>READM-30-AMI-HRRP</td>\n",
       "      <td>99</td>\n",
       "      <td>NaN</td>\n",
       "      <td>1.0671</td>\n",
       "      <td>20.6</td>\n",
       "      <td>19.3</td>\n",
       "      <td>24.0</td>\n",
       "      <td>07/01/2010</td>\n",
       "      <td>06/30/2013</td>\n",
       "    </tr>\n",
       "    <tr>\n",
       "      <th>4982</th>\n",
       "      <td>MILFORD REGIONAL MEDICAL CENTER</td>\n",
       "      <td>220090</td>\n",
       "      <td>MA</td>\n",
       "      <td>READM-30-AMI-HRRP</td>\n",
       "      <td>99</td>\n",
       "      <td>NaN</td>\n",
       "      <td>1.0248</td>\n",
       "      <td>21.8</td>\n",
       "      <td>21.3</td>\n",
       "      <td>23.0</td>\n",
       "      <td>07/01/2010</td>\n",
       "      <td>06/30/2013</td>\n",
       "    </tr>\n",
       "    <tr>\n",
       "      <th>7560</th>\n",
       "      <td>BERWICK HOSPITAL CENTER</td>\n",
       "      <td>390072</td>\n",
       "      <td>PA</td>\n",
       "      <td>READM-30-PN-HRRP</td>\n",
       "      <td>99</td>\n",
       "      <td>NaN</td>\n",
       "      <td>0.9878</td>\n",
       "      <td>16.9</td>\n",
       "      <td>17.1</td>\n",
       "      <td>16.0</td>\n",
       "      <td>07/01/2010</td>\n",
       "      <td>06/30/2013</td>\n",
       "    </tr>\n",
       "    <tr>\n",
       "      <th>4449</th>\n",
       "      <td>LAKE MARTIN COMMUNITY HOSPITAL</td>\n",
       "      <td>10052</td>\n",
       "      <td>AL</td>\n",
       "      <td>READM-30-PN-HRRP</td>\n",
       "      <td>99</td>\n",
       "      <td>NaN</td>\n",
       "      <td>1.0337</td>\n",
       "      <td>18.2</td>\n",
       "      <td>17.6</td>\n",
       "      <td>20.0</td>\n",
       "      <td>07/01/2010</td>\n",
       "      <td>06/30/2013</td>\n",
       "    </tr>\n",
       "  </tbody>\n",
       "</table>\n",
       "</div>"
      ],
      "text/plain": [
       "                                        Hospital Name  Provider Number State  \\\n",
       "200   SAINT JOSEPH REGIONAL MEDICAL CENTER - PLYMOUTH           150076    IN   \n",
       "2722                        ADVOCATE TRINITY HOSPITAL           140048    IL   \n",
       "4982                  MILFORD REGIONAL MEDICAL CENTER           220090    MA   \n",
       "7560                          BERWICK HOSPITAL CENTER           390072    PA   \n",
       "4449                   LAKE MARTIN COMMUNITY HOSPITAL            10052    AL   \n",
       "\n",
       "                Measure Name  Number of Discharges  Footnote  \\\n",
       "200   READM-30-HIP-KNEE-HRRP                    99       NaN   \n",
       "2722       READM-30-AMI-HRRP                    99       NaN   \n",
       "4982       READM-30-AMI-HRRP                    99       NaN   \n",
       "7560        READM-30-PN-HRRP                    99       NaN   \n",
       "4449        READM-30-PN-HRRP                    99       NaN   \n",
       "\n",
       "      Excess Readmission Ratio  Predicted Readmission Rate  \\\n",
       "200                     1.2348                         7.2   \n",
       "2722                    1.0671                        20.6   \n",
       "4982                    1.0248                        21.8   \n",
       "7560                    0.9878                        16.9   \n",
       "4449                    1.0337                        18.2   \n",
       "\n",
       "      Expected Readmission Rate  Number of Readmissions  Start Date  \\\n",
       "200                         5.8                    11.0  07/01/2010   \n",
       "2722                       19.3                    24.0  07/01/2010   \n",
       "4982                       21.3                    23.0  07/01/2010   \n",
       "7560                       17.1                    16.0  07/01/2010   \n",
       "4449                       17.6                    20.0  07/01/2010   \n",
       "\n",
       "        End Date  \n",
       "200   06/30/2013  \n",
       "2722  06/30/2013  \n",
       "4982  06/30/2013  \n",
       "7560  06/30/2013  \n",
       "4449  06/30/2013  "
      ]
     },
     "execution_count": 17,
     "metadata": {},
     "output_type": "execute_result"
    }
   ],
   "source": [
    "clean_hospital_read_df[clean_hospital_read_df['Number of Discharges'] < 100].tail()\n"
   ]
  },
  {
   "cell_type": "code",
   "execution_count": 18,
   "metadata": {},
   "outputs": [
    {
     "data": {
      "text/plain": [
       "16857   NaN\n",
       "14582   NaN\n",
       "15606   NaN\n",
       "15615   NaN\n",
       "14551   NaN\n",
       "Name: Excess Readmission Ratio, dtype: float64"
      ]
     },
     "execution_count": 18,
     "metadata": {},
     "output_type": "execute_result"
    }
   ],
   "source": [
    "clean_hospital_read_df[clean_hospital_read_df['Number of Discharges'] < 100]['Excess Readmission Ratio'].head()\n",
    "#reset_index(drop=True)    "
   ]
  },
  {
   "cell_type": "code",
   "execution_count": 19,
   "metadata": {},
   "outputs": [
    {
     "data": {
      "text/plain": [
       "1832    1.0914\n",
       "1699    1.0961\n",
       "1774    1.0934\n",
       "1853    1.0908\n",
       "1290    1.1123\n",
       "Name: Excess Readmission Ratio, dtype: float64"
      ]
     },
     "execution_count": 19,
     "metadata": {},
     "output_type": "execute_result"
    }
   ],
   "source": [
    "clean_hospital_read_df[\"Excess Readmission Ratio\"][(clean_hospital_read_df[\"Number of Discharges\"] < 100)].dropna().head()\n",
    "#Excess Readmission Ratio, Length: 1188, dtype: float64\n",
    "#reset_index(drop=True)"
   ]
  },
  {
   "cell_type": "code",
   "execution_count": 20,
   "metadata": {},
   "outputs": [
    {
     "data": {
      "text/html": [
       "<div>\n",
       "<style scoped>\n",
       "    .dataframe tbody tr th:only-of-type {\n",
       "        vertical-align: middle;\n",
       "    }\n",
       "\n",
       "    .dataframe tbody tr th {\n",
       "        vertical-align: top;\n",
       "    }\n",
       "\n",
       "    .dataframe thead th {\n",
       "        text-align: right;\n",
       "    }\n",
       "</style>\n",
       "<table border=\"1\" class=\"dataframe\">\n",
       "  <thead>\n",
       "    <tr style=\"text-align: right;\">\n",
       "      <th></th>\n",
       "      <th>Number of Discharges</th>\n",
       "      <th>Excess Readmission Ratio</th>\n",
       "    </tr>\n",
       "  </thead>\n",
       "  <tbody>\n",
       "    <tr>\n",
       "      <th>1832</th>\n",
       "      <td>25</td>\n",
       "      <td>1.0914</td>\n",
       "    </tr>\n",
       "    <tr>\n",
       "      <th>1699</th>\n",
       "      <td>27</td>\n",
       "      <td>1.0961</td>\n",
       "    </tr>\n",
       "    <tr>\n",
       "      <th>1774</th>\n",
       "      <td>28</td>\n",
       "      <td>1.0934</td>\n",
       "    </tr>\n",
       "    <tr>\n",
       "      <th>1853</th>\n",
       "      <td>29</td>\n",
       "      <td>1.0908</td>\n",
       "    </tr>\n",
       "    <tr>\n",
       "      <th>1290</th>\n",
       "      <td>30</td>\n",
       "      <td>1.1123</td>\n",
       "    </tr>\n",
       "  </tbody>\n",
       "</table>\n",
       "</div>"
      ],
      "text/plain": [
       "      Number of Discharges  Excess Readmission Ratio\n",
       "1832                    25                    1.0914\n",
       "1699                    27                    1.0961\n",
       "1774                    28                    1.0934\n",
       "1853                    29                    1.0908\n",
       "1290                    30                    1.1123"
      ]
     },
     "execution_count": 20,
     "metadata": {},
     "output_type": "execute_result"
    }
   ],
   "source": [
    "clean_hospital_read_df[['Number of Discharges','Excess Readmission Ratio']].dropna().head()"
   ]
  },
  {
   "cell_type": "code",
   "execution_count": 21,
   "metadata": {},
   "outputs": [
    {
     "data": {
      "text/plain": [
       "Index(['Hospital Name', 'Provider Number', 'State', 'Measure Name',\n",
       "       'Number of Discharges', 'Footnote', 'Excess Readmission Ratio',\n",
       "       'Predicted Readmission Rate', 'Expected Readmission Rate',\n",
       "       'Number of Readmissions', 'Start Date', 'End Date'],\n",
       "      dtype='object')"
      ]
     },
     "execution_count": 21,
     "metadata": {},
     "output_type": "execute_result"
    }
   ],
   "source": [
    "clean_hospital_read_df.columns #['Number of Discharges','Excess Readmission Ratio']"
   ]
  },
  {
   "cell_type": "code",
   "execution_count": 22,
   "metadata": {},
   "outputs": [],
   "source": [
    "df = clean_hospital_read_df[['Number of Discharges','Excess Readmission Ratio']].dropna()"
   ]
  },
  {
   "cell_type": "code",
   "execution_count": 23,
   "metadata": {},
   "outputs": [
    {
     "name": "stdout",
     "output_type": "stream",
     "text": [
      "      Number of Discharges  Excess Readmission Ratio\n",
      "1832                    25                    1.0914\n",
      "1699                    27                    1.0961\n",
      "1774                    28                    1.0934\n",
      "1853                    29                    1.0908\n",
      "1290                    30                    1.1123\n"
     ]
    }
   ],
   "source": [
    "print(df.head())"
   ]
  },
  {
   "cell_type": "code",
   "execution_count": 24,
   "metadata": {},
   "outputs": [
    {
     "name": "stdout",
     "output_type": "stream",
     "text": [
      "Index(['Number of Discharges', 'Excess Readmission Ratio'], dtype='object')\n"
     ]
    }
   ],
   "source": [
    "print(df.columns)"
   ]
  },
  {
   "cell_type": "code",
   "execution_count": 25,
   "metadata": {},
   "outputs": [
    {
     "data": {
      "text/plain": [
       "0"
      ]
     },
     "execution_count": 25,
     "metadata": {},
     "output_type": "execute_result"
    }
   ],
   "source": [
    "sum(df.columns.isna())"
   ]
  },
  {
   "cell_type": "code",
   "execution_count": 26,
   "metadata": {},
   "outputs": [
    {
     "data": {
      "text/plain": [
       "1.0226183501683506"
      ]
     },
     "execution_count": 26,
     "metadata": {},
     "output_type": "execute_result"
    }
   ],
   "source": [
    "np.mean(df[\"Excess Readmission Ratio\"][(df[\"Number of Discharges\"] < 100)])\n"
   ]
  },
  {
   "cell_type": "code",
   "execution_count": 27,
   "metadata": {
    "scrolled": true
   },
   "outputs": [
    {
     "data": {
      "text/plain": [
       "count    1188.000000\n",
       "mean        1.022618\n",
       "std         0.057979\n",
       "min         0.893500\n",
       "25%         0.984900\n",
       "50%         1.017750\n",
       "75%         1.052925\n",
       "max         1.495300\n",
       "Name: Excess Readmission Ratio, dtype: float64"
      ]
     },
     "execution_count": 27,
     "metadata": {},
     "output_type": "execute_result"
    }
   ],
   "source": [
    "df[\"Excess Readmission Ratio\"][(df[\"Number of Discharges\"] < 100)].describe()\n",
    "#what does the count mean here? 1188? total no of observations. total no of rows"
   ]
  },
  {
   "cell_type": "markdown",
   "metadata": {},
   "source": [
    "Having calculated the above cell, we see that the Number of Dischares of less than 100 has a mean access Readmission Ratio of 1.023"
   ]
  },
  {
   "cell_type": "code",
   "execution_count": 28,
   "metadata": {},
   "outputs": [
    {
     "data": {
      "text/plain": [
       "2082526"
      ]
     },
     "execution_count": 28,
     "metadata": {},
     "output_type": "execute_result"
    }
   ],
   "source": [
    "sum(df['Number of Discharges'][(df[\"Excess Readmission Ratio\"] > 1)])\n",
    "# what does this mean?  this the total number of discharges for which ERR >1"
   ]
  },
  {
   "cell_type": "code",
   "execution_count": 29,
   "metadata": {},
   "outputs": [
    {
     "data": {
      "text/plain": [
       "4201765"
      ]
     },
     "execution_count": 29,
     "metadata": {},
     "output_type": "execute_result"
    }
   ],
   "source": [
    "sum(df['Number of Discharges'])"
   ]
  },
  {
   "cell_type": "code",
   "execution_count": 30,
   "metadata": {},
   "outputs": [
    {
     "data": {
      "text/plain": [
       "0.4956312406809995"
      ]
     },
     "execution_count": 30,
     "metadata": {},
     "output_type": "execute_result"
    }
   ],
   "source": [
    "sum(df['Number of Discharges'][(df[\"Excess Readmission Ratio\"] > 1)])/sum(df['Number of Discharges'])"
   ]
  },
  {
   "cell_type": "markdown",
   "metadata": {},
   "source": [
    "The above calculations show 50% of the Number of Discharges has Excess Readmission Ratio of larger than 1"
   ]
  },
  {
   "cell_type": "code",
   "execution_count": 31,
   "metadata": {},
   "outputs": [
    {
     "data": {
      "text/plain": [
       "2116399"
      ]
     },
     "execution_count": 31,
     "metadata": {},
     "output_type": "execute_result"
    }
   ],
   "source": [
    "sum(df['Number of Discharges'][(df[\"Excess Readmission Ratio\"] < 1)])"
   ]
  },
  {
   "cell_type": "code",
   "execution_count": 32,
   "metadata": {},
   "outputs": [
    {
     "data": {
      "text/plain": [
       "0.5036928528844427"
      ]
     },
     "execution_count": 32,
     "metadata": {},
     "output_type": "execute_result"
    }
   ],
   "source": [
    "sum(df['Number of Discharges'][(df[\"Excess Readmission Ratio\"] < 1)])/sum(df['Number of Discharges'])"
   ]
  },
  {
   "cell_type": "code",
   "execution_count": 33,
   "metadata": {},
   "outputs": [
    {
     "data": {
      "text/plain": [
       "count    1188.000000\n",
       "mean        1.022618\n",
       "std         0.057979\n",
       "min         0.893500\n",
       "25%         0.984900\n",
       "50%         1.017750\n",
       "75%         1.052925\n",
       "max         1.495300\n",
       "Name: Excess Readmission Ratio, dtype: float64"
      ]
     },
     "execution_count": 33,
     "metadata": {},
     "output_type": "execute_result"
    }
   ],
   "source": [
    "df_s = df[\"Excess Readmission Ratio\"][(df[\"Number of Discharges\"] < 100)] #second one is the filter and the ERR is my metric\n",
    "df_s.describe()  #count is how many rows are in the series"
   ]
  },
  {
   "cell_type": "code",
   "execution_count": 34,
   "metadata": {},
   "outputs": [
    {
     "name": "stdout",
     "output_type": "stream",
     "text": [
      "1832     1.0914\n",
      "1699     1.0961\n",
      "1774     1.0934\n",
      "1853     1.0908\n",
      "1290     1.1123\n",
      "1602     1.0992\n",
      "2048     1.0847\n",
      "2441     1.0738\n",
      "2512     1.0720\n",
      "2825     1.0651\n",
      "3828     1.0444\n",
      "5125     1.0228\n",
      "3312     1.0548\n",
      "2378     1.0756\n",
      "2670     1.0683\n",
      "2944     1.0622\n",
      "1238     1.1149\n",
      "1395     1.1082\n",
      "3145     1.0581\n",
      "3207     1.0570\n",
      "1471     1.1043\n",
      "1838     1.0912\n",
      "4092     1.0398\n",
      "2252     1.0784\n",
      "3087     1.0593\n",
      "4317     1.0359\n",
      "5309     1.0203\n",
      "2952     1.0621\n",
      "3406     1.0530\n",
      "738      1.1468\n",
      "          ...  \n",
      "6793     0.9981\n",
      "1504     1.1029\n",
      "10683    0.9426\n",
      "10373    0.9484\n",
      "10034    0.9538\n",
      "10000    0.9544\n",
      "960      1.1317\n",
      "1586     1.1002\n",
      "11659    0.9218\n",
      "3417     1.0528\n",
      "7318     0.9913\n",
      "7503     0.9886\n",
      "7911     0.9834\n",
      "7005     0.9953\n",
      "8043     0.9815\n",
      "12012    0.9125\n",
      "8191     0.9797\n",
      "3088     1.0592\n",
      "3638     1.0478\n",
      "4332     1.0357\n",
      "8481     0.9761\n",
      "8739     0.9724\n",
      "8308     0.9781\n",
      "11697    0.9209\n",
      "5742     1.0137\n",
      "200      1.2348\n",
      "2722     1.0671\n",
      "4982     1.0248\n",
      "7560     0.9878\n",
      "4449     1.0337\n",
      "Name: Excess Readmission Ratio, Length: 1188, dtype: float64\n"
     ]
    }
   ],
   "source": [
    "print(df_s)"
   ]
  },
  {
   "cell_type": "code",
   "execution_count": 35,
   "metadata": {},
   "outputs": [
    {
     "data": {
      "text/plain": [
       "1214.8706000000004"
      ]
     },
     "execution_count": 35,
     "metadata": {},
     "output_type": "execute_result"
    }
   ],
   "source": [
    "sum(df_s)  #what does this mean? is this the sum of all ERR for hospitals of no of dischrges <100"
   ]
  },
  {
   "cell_type": "code",
   "execution_count": 36,
   "metadata": {},
   "outputs": [
    {
     "data": {
      "text/plain": [
       "1188"
      ]
     },
     "execution_count": 36,
     "metadata": {},
     "output_type": "execute_result"
    }
   ],
   "source": [
    "len(df_s) # no of observ"
   ]
  },
  {
   "cell_type": "code",
   "execution_count": 37,
   "metadata": {},
   "outputs": [
    {
     "data": {
      "text/plain": [
       "751"
      ]
     },
     "execution_count": 37,
     "metadata": {},
     "output_type": "execute_result"
    }
   ],
   "source": [
    "len(df_s[(df[\"Excess Readmission Ratio\"] > 1)])"
   ]
  },
  {
   "cell_type": "code",
   "execution_count": 38,
   "metadata": {},
   "outputs": [
    {
     "data": {
      "text/plain": [
       "11497"
      ]
     },
     "execution_count": 38,
     "metadata": {},
     "output_type": "execute_result"
    }
   ],
   "source": [
    "len(df[\"Number of Discharges\"] < 100)  # what does this number mean? creates true and false "
   ]
  },
  {
   "cell_type": "code",
   "execution_count": 39,
   "metadata": {},
   "outputs": [],
   "source": [
    "value_s = len(df_s[(df[\"Excess Readmission Ratio\"] > 1)])/len(df_s)"
   ]
  },
  {
   "cell_type": "code",
   "execution_count": 40,
   "metadata": {},
   "outputs": [
    {
     "name": "stdout",
     "output_type": "stream",
     "text": [
      "0.6321548821548821\n"
     ]
    }
   ],
   "source": [
    "print(value_s)"
   ]
  },
  {
   "cell_type": "markdown",
   "metadata": {},
   "source": [
    "The above calculations verify that 63% of the population in the less than 100 number of discharges has  excess readmission rate \n",
    "of greater than 1. "
   ]
  },
  {
   "cell_type": "markdown",
   "metadata": {},
   "source": [
    "We are now going to assess the following: \n",
    "    \n",
    "+ In hospitals/facilities with number of discharges > 1000, mean excess readmission rate is 0.978 and 44% have excess readmission rate greater than 1"
   ]
  },
  {
   "cell_type": "code",
   "execution_count": 41,
   "metadata": {},
   "outputs": [
    {
     "data": {
      "text/plain": [
       "0.9783354211663071"
      ]
     },
     "execution_count": 41,
     "metadata": {},
     "output_type": "execute_result"
    }
   ],
   "source": [
    "np.mean(df[\"Excess Readmission Ratio\"][(df[\"Number of Discharges\"] > 1000)])\n"
   ]
  },
  {
   "cell_type": "markdown",
   "metadata": {},
   "source": [
    "The above statement about hospitals/facilities with number of discharges > 1000, mean excess readmission rate is 0.978 is correct. Now let's verify the rest of the original statement"
   ]
  },
  {
   "cell_type": "code",
   "execution_count": 42,
   "metadata": {},
   "outputs": [
    {
     "data": {
      "text/plain": [
       "count    463.000000\n",
       "mean       0.978335\n",
       "std        0.120007\n",
       "min        0.549500\n",
       "25%        0.907900\n",
       "50%        0.986400\n",
       "75%        1.057100\n",
       "max        1.454300\n",
       "Name: Excess Readmission Ratio, dtype: float64"
      ]
     },
     "execution_count": 42,
     "metadata": {},
     "output_type": "execute_result"
    }
   ],
   "source": [
    "df_l = df[\"Excess Readmission Ratio\"][(df[\"Number of Discharges\"] > 1000)]\n",
    "df_l.describe()"
   ]
  },
  {
   "cell_type": "code",
   "execution_count": 43,
   "metadata": {},
   "outputs": [
    {
     "name": "stdout",
     "output_type": "stream",
     "text": [
      "0.4449244060475162\n"
     ]
    }
   ],
   "source": [
    "value_l = len(df_l[(df[\"Excess Readmission Ratio\"] > 1)])/len(df_l)\n",
    "print(value_l)"
   ]
  },
  {
   "cell_type": "markdown",
   "metadata": {},
   "source": [
    "The above few cells verify both that the hospitals/facilities with number of discharges > 1000, mean excess readmission rate is 0.978 and 44% have excess readmission rate greater than 1"
   ]
  }
 ],
 "metadata": {
  "anaconda-cloud": {},
  "kernelspec": {
   "display_name": "Python 3",
   "language": "python",
   "name": "python3"
  },
  "language_info": {
   "codemirror_mode": {
    "name": "ipython",
    "version": 3
   },
   "file_extension": ".py",
   "mimetype": "text/x-python",
   "name": "python",
   "nbconvert_exporter": "python",
   "pygments_lexer": "ipython3",
   "version": "3.7.1"
  }
 },
 "nbformat": 4,
 "nbformat_minor": 1
}
