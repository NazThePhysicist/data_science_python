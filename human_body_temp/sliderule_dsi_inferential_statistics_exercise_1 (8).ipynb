{
 "cells": [
  {
   "cell_type": "markdown",
   "metadata": {},
   "source": [
    "# What is the True Normal Human Body Temperature? \n",
    "\n",
    "#### Background\n",
    "\n",
    "The mean normal body temperature was held to be 37$^{\\circ}$C or 98.6$^{\\circ}$F for more than 120 years since it was first conceptualized and reported by Carl Wunderlich in a famous 1868 book. But, is this value statistically correct?"
   ]
  },
  {
   "cell_type": "markdown",
   "metadata": {},
   "source": [
    "<h3>Exercises</h3>\n",
    "\n",
    "<p>In this exercise, you will analyze a dataset of human body temperatures and employ the concepts of hypothesis testing, confidence intervals, and statistical significance.</p>\n",
    "\n",
    "<p>Answer the following questions <b>in this notebook below and submit to your Github account</b>.</p> \n",
    "\n",
    "<ol>\n",
    "<li>  Is the distribution of body temperatures normal? \n",
    "    <ul>\n",
    "    <li> Although this is not a requirement for the Central Limit Theorem to hold (read the introduction on Wikipedia's page about the CLT carefully: https://en.wikipedia.org/wiki/Central_limit_theorem), it gives us some peace of mind that the population may also be normally distributed if we assume that this sample is representative of the population.\n",
    "    <li> Think about the way you're going to check for the normality of the distribution. Graphical methods are usually used first, but there are also other ways: https://en.wikipedia.org/wiki/Normality_test\n",
    "    </ul>\n",
    "<li>  Is the sample size large? Are the observations independent?\n",
    "    <ul>\n",
    "    <li> Remember that this is a condition for the Central Limit Theorem, and hence the statistical tests we are using, to apply.\n",
    "    </ul>\n",
    "<li>  Is the true population mean really 98.6 degrees F?\n",
    "    <ul>\n",
    "    <li> First, try a bootstrap hypothesis test.\n",
    "    <li> Now, let's try frequentist statistical testing. Would you use a one-sample or two-sample test? Why?\n",
    "    <li> In this situation, is it appropriate to use the $t$ or $z$ statistic? \n",
    "    <li> Now try using the other test. How is the result be different? Why?\n",
    "    </ul>\n",
    "<li>  Draw a small sample of size 10 from the data and repeat both frequentist tests. \n",
    "    <ul>\n",
    "    <li> Which one is the correct one to use? \n",
    "    <li> What do you notice? What does this tell you about the difference in application of the $t$ and $z$ statistic?\n",
    "    </ul>\n",
    "<li>  At what temperature should we consider someone's temperature to be \"abnormal\"?\n",
    "    <ul>\n",
    "    <li> As in the previous example, try calculating everything using the boostrap approach, as well as the frequentist approach.\n",
    "    <li> Start by computing the margin of error and confidence interval. When calculating the confidence interval, keep in mind that you should use the appropriate formula for one draw, and not N draws.\n",
    "    </ul>\n",
    "<li>  Is there a significant difference between males and females in normal temperature?\n",
    "    <ul>\n",
    "    <li> What testing approach did you use and why?\n",
    "    <li> Write a story with your conclusion in the context of the original problem.\n",
    "    </ul>\n",
    "</ol>\n",
    "\n",
    "You can include written notes in notebook cells using Markdown: \n",
    "   - In the control panel at the top, choose Cell > Cell Type > Markdown\n",
    "   - Markdown syntax: http://nestacms.com/docs/creating-content/markdown-cheat-sheet\n",
    "\n",
    "#### Resources\n",
    "\n",
    "+ Information and data sources: http://www.amstat.org/publications/jse/datasets/normtemp.txt, http://www.amstat.org/publications/jse/jse_data_archive.htm\n",
    "+ Markdown syntax: http://nestacms.com/docs/creating-content/markdown-cheat-sheet\n",
    "\n",
    "****"
   ]
  },
  {
   "cell_type": "code",
   "execution_count": 227,
   "metadata": {},
   "outputs": [],
   "source": [
    "import pandas as pd\n",
    "import numpy as np\n",
    "import matplotlib.pylab as plt\n",
    "import seaborn as sns\n",
    "from scipy.stats import norm \n",
    "from scipy import stats \n",
    "df = pd.read_csv('data/human_body_temperature.csv')"
   ]
  },
  {
   "cell_type": "code",
   "execution_count": 228,
   "metadata": {},
   "outputs": [
    {
     "data": {
      "text/plain": [
       "130"
      ]
     },
     "execution_count": 228,
     "metadata": {},
     "output_type": "execute_result"
    }
   ],
   "source": [
    "# Your work here. Is the distribution of body temperatures normal?\n",
    "# Is the sample size large? Are the observations independent? Yes, sample size > 30 and is considered large \n",
    "# and the observations are taken separately.\n",
    "len(df)"
   ]
  },
  {
   "cell_type": "code",
   "execution_count": 229,
   "metadata": {},
   "outputs": [
    {
     "data": {
      "text/plain": [
       "130"
      ]
     },
     "execution_count": 229,
     "metadata": {},
     "output_type": "execute_result"
    }
   ],
   "source": [
    "len(df.temperature) \n",
    "# Observations can be considered independent as 130 is obviously less than 10% of the population at large. \n",
    "# A sample size of 130 is well over the the threshold of 30 (n>30) needed for the Central Limit Theorem to apply. "
   ]
  },
  {
   "cell_type": "code",
   "execution_count": 230,
   "metadata": {},
   "outputs": [
    {
     "data": {
      "text/plain": [
       "Index(['temperature', 'gender', 'heart_rate'], dtype='object')"
      ]
     },
     "execution_count": 230,
     "metadata": {},
     "output_type": "execute_result"
    }
   ],
   "source": [
    "df.columns"
   ]
  },
  {
   "cell_type": "code",
   "execution_count": 231,
   "metadata": {},
   "outputs": [
    {
     "data": {
      "text/plain": [
       "pandas.core.frame.DataFrame"
      ]
     },
     "execution_count": 231,
     "metadata": {},
     "output_type": "execute_result"
    }
   ],
   "source": [
    "type(df)"
   ]
  },
  {
   "cell_type": "code",
   "execution_count": 232,
   "metadata": {},
   "outputs": [
    {
     "data": {
      "text/plain": [
       "<bound method NDFrame.describe of      temperature gender  heart_rate\n",
       "0           99.3      F        68.0\n",
       "1           98.4      F        81.0\n",
       "2           97.8      M        73.0\n",
       "3           99.2      F        66.0\n",
       "4           98.0      F        73.0\n",
       "5           99.2      M        83.0\n",
       "6           98.0      M        71.0\n",
       "7           98.8      M        78.0\n",
       "8           98.4      F        84.0\n",
       "9           98.6      F        86.0\n",
       "10          98.8      F        89.0\n",
       "11          96.7      F        62.0\n",
       "12          98.2      M        72.0\n",
       "13          98.7      F        79.0\n",
       "14          97.8      F        77.0\n",
       "15          98.8      F        83.0\n",
       "16          98.3      F        79.0\n",
       "17          98.2      M        64.0\n",
       "18          97.2      F        68.0\n",
       "19          99.4      M        70.0\n",
       "20          98.3      F        78.0\n",
       "21          98.2      M        71.0\n",
       "22          98.6      M        70.0\n",
       "23          98.4      M        68.0\n",
       "24          97.8      M        65.0\n",
       "25          98.0      F        87.0\n",
       "26          97.8      F        62.0\n",
       "27          98.2      F        69.0\n",
       "28          98.4      F        73.0\n",
       "29          98.1      M        67.0\n",
       "..           ...    ...         ...\n",
       "100         99.0      M        81.0\n",
       "101         98.5      M        68.0\n",
       "102         98.0      F        78.0\n",
       "103         99.4      F        77.0\n",
       "104         97.6      M        69.0\n",
       "105         96.7      M        71.0\n",
       "106         97.0      M        80.0\n",
       "107         98.6      M        66.0\n",
       "108         98.7      F        72.0\n",
       "109         97.3      M        69.0\n",
       "110         98.8      F        69.0\n",
       "111         98.0      F        89.0\n",
       "112         98.2      F        64.0\n",
       "113         99.1      F        74.0\n",
       "114         99.0      M        79.0\n",
       "115         98.0      M        64.0\n",
       "116        100.8      F        77.0\n",
       "117         97.8      F        71.0\n",
       "118         98.7      M        78.0\n",
       "119         98.4      F        74.0\n",
       "120         97.7      F        84.0\n",
       "121         97.9      F        68.0\n",
       "122         99.0      F        81.0\n",
       "123         97.2      F        66.0\n",
       "124         97.5      M        75.0\n",
       "125         96.3      M        70.0\n",
       "126         97.7      M        77.0\n",
       "127         98.2      F        73.0\n",
       "128         97.9      M        72.0\n",
       "129         98.7      F        59.0\n",
       "\n",
       "[130 rows x 3 columns]>"
      ]
     },
     "execution_count": 232,
     "metadata": {},
     "output_type": "execute_result"
    }
   ],
   "source": [
    "df.describe"
   ]
  },
  {
   "cell_type": "code",
   "execution_count": 233,
   "metadata": {},
   "outputs": [
    {
     "data": {
      "text/plain": [
       "count    130.000000\n",
       "mean      98.249231\n",
       "std        0.733183\n",
       "min       96.300000\n",
       "25%       97.800000\n",
       "50%       98.300000\n",
       "75%       98.700000\n",
       "max      100.800000\n",
       "Name: temperature, dtype: float64"
      ]
     },
     "execution_count": 233,
     "metadata": {},
     "output_type": "execute_result"
    }
   ],
   "source": [
    "df.temperature.describe()"
   ]
  },
  {
   "cell_type": "code",
   "execution_count": 234,
   "metadata": {},
   "outputs": [],
   "source": [
    "n_bins = np.sqrt(len(df.temperature))  \n",
    "int(n_bins)\n",
    "temp = df.temperature"
   ]
  },
  {
   "cell_type": "code",
   "execution_count": 235,
   "metadata": {},
   "outputs": [
    {
     "data": {
      "image/png": "[encoded data removed]",
      "text/plain": [
       "<Figure size 432x288 with 1 Axes>"
      ]
     },
     "metadata": {
      "needs_background": "light"
     },
     "output_type": "display_data"
    }
   ],
   "source": [
    "plt.hist(temp, bins = int(n_bins), density=False)  # density = True it gives you a normalized score \n",
    "plt.xlabel('Temperature in F')\n",
    "plt.ylabel('Frequency')\n",
    "plt.title('Dirstibution of Body Temperature')\n",
    "#plt.axis([95, 105, 0, 1])\n",
    "#x = np.linspace(np.min(temp) - 1, np.max(temp) + 1, 100, endpoint=True)\n",
    "#x = np.linspace(norm.ppf(0.01), norm.ppf(0.99), 100)\n",
    "#plt.plot(x, norm.pdf(x), 'r-', lw=5, alpha=0.6, label='norm pdf')\n",
    "#npdf=norm(98.249231,0.733183)\n",
    "#plt.plot( npdf.pdf(range(int(np.min(temp)) - 1,int(np.max(temp)) + 1)),  lw=2) #range(0,100),\n",
    "plt.show()\n",
    "\n",
    "# x = np.linspace(0,600) \n",
    "#h = plt.plot(x, rv.pdf(x), lw=2)"
   ]
  },
  {
   "cell_type": "code",
   "execution_count": 236,
   "metadata": {},
   "outputs": [
    {
     "data": {
      "text/plain": [
       "<matplotlib.axes._subplots.AxesSubplot at 0x1f0f8eaa710>"
      ]
     },
     "execution_count": 236,
     "metadata": {},
     "output_type": "execute_result"
    },
    {
     "data": {
      "image/png": "[encoded data removed]",
      "text/plain": [
       "<Figure size 432x288 with 1 Axes>"
      ]
     },
     "metadata": {
      "needs_background": "light"
     },
     "output_type": "display_data"
    }
   ],
   "source": [
    "sns.distplot(temp, hist=True, kde=True, bins=int(n_bins), color = 'darkblue', hist_kws={'edgecolor':'black'}, \n",
    "             kde_kws={'linewidth': 4}) "
   ]
  },
  {
   "cell_type": "code",
   "execution_count": 237,
   "metadata": {},
   "outputs": [
    {
     "name": "stdout",
     "output_type": "stream",
     "text": [
      "The mean of the sample is: 98.24923076923078\n",
      "The standard deviation of the sample is: 0.7303577789050377\n"
     ]
    }
   ],
   "source": [
    "mu = np.mean(temp) \n",
    "sigma =np.std(temp)\n",
    "print('The mean of the sample is: ' + str(mu))\n",
    "print('The standard deviation of the sample is: '+ str(sigma))"
   ]
  },
  {
   "cell_type": "code",
   "execution_count": 238,
   "metadata": {},
   "outputs": [],
   "source": [
    "import numpy as np\n",
    "from statsmodels.distributions.empirical_distribution import ECDF\n",
    "import matplotlib.pyplot as plt\n"
   ]
  },
  {
   "cell_type": "code",
   "execution_count": 239,
   "metadata": {},
   "outputs": [
    {
     "data": {
      "image/png": "[encoded data removed]",
      "text/plain": [
       "<Figure size 432x288 with 1 Axes>"
      ]
     },
     "metadata": {
      "needs_background": "light"
     },
     "output_type": "display_data"
    }
   ],
   "source": [
    "# to check if the data is normally distributed or not, we need to check the data against Q-Q plot as well as Cumulative density plot \n",
    "# QQ Plot\n",
    "from numpy.random import seed\n",
    "from numpy.random import randn\n",
    "from statsmodels.graphics.gofplots import qqplot\n",
    "#from matplotlib import pyplot\n",
    "import pylab\n",
    "# seed the random number generator\n",
    "seed(4)\n",
    "# generate univariate observations\n",
    "#data = 5 * randn(100) + 50\n",
    "# q-q plot\n",
    "#plt.title('Quantiles Confirming the Normal Distribution of Body Temperatures', fontsize=18)\n",
    "qqplot(temp, line='s')\n",
    "plt.show()"
   ]
  },
  {
   "cell_type": "code",
   "execution_count": 240,
   "metadata": {},
   "outputs": [
    {
     "data": {
      "text/plain": [
       "((array([-2.55445479, -2.22902648, -2.0419783 , -1.90719589, -1.80015121,\n",
       "         -1.71047373, -1.63275826, -1.56381343, -1.50159038, -1.44469181,\n",
       "         -1.39212017, -1.3431372 , -1.29718048, -1.2538112 , -1.21268003,\n",
       "         -1.17350409, -1.13605091, -1.10012698, -1.06556939, -1.03223961,\n",
       "         -1.00001877, -0.96880405, -0.93850586, -0.90904562, -0.88035396,\n",
       "         -0.85236935, -0.82503685, -0.79830725, -0.77213622, -0.74648367,\n",
       "         -0.72131321, -0.69659166, -0.67228871, -0.64837651, -0.62482945,\n",
       "         -0.60162387, -0.57873784, -0.55615102, -0.53384444, -0.51180041,\n",
       "         -0.49000234, -0.46843466, -0.44708273, -0.42593273, -0.40497157,\n",
       "         -0.38418687, -0.36356684, -0.34310027, -0.32277642, -0.30258504,\n",
       "         -0.28251629, -0.2625607 , -0.24270913, -0.22295275, -0.20328303,\n",
       "         -0.18369165, -0.16417053, -0.14471177, -0.12530767, -0.10595063,\n",
       "         -0.08663321, -0.06734807, -0.04808795, -0.02884566, -0.00961403,\n",
       "          0.00961403,  0.02884566,  0.04808795,  0.06734807,  0.08663321,\n",
       "          0.10595063,  0.12530767,  0.14471177,  0.16417053,  0.18369165,\n",
       "          0.20328303,  0.22295275,  0.24270913,  0.2625607 ,  0.28251629,\n",
       "          0.30258504,  0.32277642,  0.34310027,  0.36356684,  0.38418687,\n",
       "          0.40497157,  0.42593273,  0.44708273,  0.46843466,  0.49000234,\n",
       "          0.51180041,  0.53384444,  0.55615102,  0.57873784,  0.60162387,\n",
       "          0.62482945,  0.64837651,  0.67228871,  0.69659166,  0.72131321,\n",
       "          0.74648367,  0.77213622,  0.79830725,  0.82503685,  0.85236935,\n",
       "          0.88035396,  0.90904562,  0.93850586,  0.96880405,  1.00001877,\n",
       "          1.03223961,  1.06556939,  1.10012698,  1.13605091,  1.17350409,\n",
       "          1.21268003,  1.2538112 ,  1.29718048,  1.3431372 ,  1.39212017,\n",
       "          1.44469181,  1.50159038,  1.56381343,  1.63275826,  1.71047373,\n",
       "          1.80015121,  1.90719589,  2.0419783 ,  2.22902648,  2.55445479]),\n",
       "  array([ 96.3,  96.4,  96.7,  96.7,  96.8,  96.9,  97. ,  97.1,  97.1,\n",
       "          97.1,  97.2,  97.2,  97.2,  97.3,  97.4,  97.4,  97.4,  97.4,\n",
       "          97.4,  97.5,  97.5,  97.6,  97.6,  97.6,  97.6,  97.7,  97.7,\n",
       "          97.7,  97.8,  97.8,  97.8,  97.8,  97.8,  97.8,  97.8,  97.9,\n",
       "          97.9,  97.9,  97.9,  97.9,  98. ,  98. ,  98. ,  98. ,  98. ,\n",
       "          98. ,  98. ,  98. ,  98. ,  98. ,  98. ,  98.1,  98.1,  98.1,\n",
       "          98.2,  98.2,  98.2,  98.2,  98.2,  98.2,  98.2,  98.2,  98.2,\n",
       "          98.2,  98.3,  98.3,  98.3,  98.3,  98.3,  98.4,  98.4,  98.4,\n",
       "          98.4,  98.4,  98.4,  98.4,  98.4,  98.4,  98.5,  98.5,  98.5,\n",
       "          98.6,  98.6,  98.6,  98.6,  98.6,  98.6,  98.6,  98.6,  98.6,\n",
       "          98.6,  98.7,  98.7,  98.7,  98.7,  98.7,  98.7,  98.7,  98.7,\n",
       "          98.8,  98.8,  98.8,  98.8,  98.8,  98.8,  98.8,  98.8,  98.8,\n",
       "          98.8,  98.9,  98.9,  99. ,  99. ,  99. ,  99. ,  99. ,  99.1,\n",
       "          99.1,  99.1,  99.2,  99.2,  99.2,  99.3,  99.3,  99.4,  99.4,\n",
       "          99.5,  99.9, 100. , 100.8])),\n",
       " (0.7360312365506642, 98.24923076923078, 0.9915720036585683))"
      ]
     },
     "execution_count": 240,
     "metadata": {},
     "output_type": "execute_result"
    },
    {
     "data": {
      "image/png": "[encoded data removed]",
      "text/plain": [
       "<Figure size 432x288 with 1 Axes>"
      ]
     },
     "metadata": {
      "needs_background": "light"
     },
     "output_type": "display_data"
    }
   ],
   "source": [
    "stats.probplot(temp, dist='norm', plot=pylab)"
   ]
  },
  {
   "cell_type": "code",
   "execution_count": 241,
   "metadata": {},
   "outputs": [
    {
     "name": "stdout",
     "output_type": "stream",
     "text": [
      "98.24923076923078\n",
      "0.7303577789050377\n"
     ]
    },
    {
     "data": {
      "image/png": "[encoded data removed]",
      "text/plain": [
       "<Figure size 432x288 with 1 Axes>"
      ]
     },
     "metadata": {
      "needs_background": "light"
     },
     "output_type": "display_data"
    }
   ],
   "source": [
    "mean = np.mean(temp)\n",
    "print(mean)\n",
    "std = np.std(temp)\n",
    "print(std)  \n",
    "samples = np.random.normal(mean, std, size = 10000) \n",
    "ecdf_temp = ECDF(samples)\n",
    "plt.plot(ecdf_temp.x,ecdf_temp.y, marker= '.', linestyle = 'none', color = 'r')\n",
    "ecdf_data = ECDF(temp)\n",
    "plt.plot(ecdf_data.x,ecdf_data.y, marker= '.', linestyle = 'none', color = 'g')\n",
    "plt.legend(('Theoretical Normal Distribution', 'Empirical Data'), loc='lower right')\n",
    "plt.title('CDF of Theoretical and Emporical Distributions of Body Temperatures', fontsize=18)\n",
    "plt.show()"
   ]
  },
  {
   "cell_type": "code",
   "execution_count": 242,
   "metadata": {},
   "outputs": [
    {
     "data": {
      "text/plain": [
       "temperature    0\n",
       "gender         0\n",
       "heart_rate     0\n",
       "dtype: int64"
      ]
     },
     "execution_count": 242,
     "metadata": {},
     "output_type": "execute_result"
    }
   ],
   "source": [
    "df.isnull().sum()"
   ]
  },
  {
   "cell_type": "code",
   "execution_count": 243,
   "metadata": {
    "scrolled": true
   },
   "outputs": [
    {
     "data": {
      "text/html": [
       "<div>\n",
       "<style scoped>\n",
       "    .dataframe tbody tr th:only-of-type {\n",
       "        vertical-align: middle;\n",
       "    }\n",
       "\n",
       "    .dataframe tbody tr th {\n",
       "        vertical-align: top;\n",
       "    }\n",
       "\n",
       "    .dataframe thead th {\n",
       "        text-align: right;\n",
       "    }\n",
       "</style>\n",
       "<table border=\"1\" class=\"dataframe\">\n",
       "  <thead>\n",
       "    <tr style=\"text-align: right;\">\n",
       "      <th></th>\n",
       "      <th>temperature</th>\n",
       "      <th>gender</th>\n",
       "      <th>heart_rate</th>\n",
       "    </tr>\n",
       "  </thead>\n",
       "  <tbody>\n",
       "    <tr>\n",
       "      <th>0</th>\n",
       "      <td>99.3</td>\n",
       "      <td>F</td>\n",
       "      <td>68.0</td>\n",
       "    </tr>\n",
       "    <tr>\n",
       "      <th>1</th>\n",
       "      <td>98.4</td>\n",
       "      <td>F</td>\n",
       "      <td>81.0</td>\n",
       "    </tr>\n",
       "    <tr>\n",
       "      <th>2</th>\n",
       "      <td>97.8</td>\n",
       "      <td>M</td>\n",
       "      <td>73.0</td>\n",
       "    </tr>\n",
       "    <tr>\n",
       "      <th>3</th>\n",
       "      <td>99.2</td>\n",
       "      <td>F</td>\n",
       "      <td>66.0</td>\n",
       "    </tr>\n",
       "    <tr>\n",
       "      <th>4</th>\n",
       "      <td>98.0</td>\n",
       "      <td>F</td>\n",
       "      <td>73.0</td>\n",
       "    </tr>\n",
       "  </tbody>\n",
       "</table>\n",
       "</div>"
      ],
      "text/plain": [
       "   temperature gender  heart_rate\n",
       "0         99.3      F        68.0\n",
       "1         98.4      F        81.0\n",
       "2         97.8      M        73.0\n",
       "3         99.2      F        66.0\n",
       "4         98.0      F        73.0"
      ]
     },
     "execution_count": 243,
     "metadata": {},
     "output_type": "execute_result"
    }
   ],
   "source": [
    "df.head()"
   ]
  },
  {
   "cell_type": "code",
   "execution_count": 244,
   "metadata": {},
   "outputs": [],
   "source": [
    "#Is the true population mean really 98.6 degrees F? \n",
    "#First, try a bootstrap hypothesis test. \n",
    "# H_0 : mean = 98.6\n",
    "# H_a : mean != 98.6 \n",
    "#Now, let's try frequentist statistical testing. Would you use a one-sample or two-sample test? Why? \n",
    "# One Sample test since we are not  comparing the means of the treatment and control groups \n",
    "# and it's just one mean value that we are trying to veirfy the Hypothese about. \n",
    "# In other words, we are comparing one set of data to a single number and not comparing two sets of data\n",
    "#In this situation, is it appropriate to use the  𝑡  or  𝑧  statistic?  t b/c the population mean is unknown\n",
    "# The general rule of thumb for when to use a t score is when your sample: Has a sample size below 30, \n",
    "# Has an unknown population standard deviation so we use t statistic. \n",
    "#Now try using the other test. How is the result be different? Why? "
   ]
  },
  {
   "cell_type": "code",
   "execution_count": 245,
   "metadata": {},
   "outputs": [
    {
     "data": {
      "text/plain": [
       "-5.475925202078116"
      ]
     },
     "execution_count": 245,
     "metadata": {},
     "output_type": "execute_result"
    }
   ],
   "source": [
    "z_val=(mean-98.6)/(std/(len(temp)**0.5))\n",
    "z_val"
   ]
  },
  {
   "cell_type": "code",
   "execution_count": 246,
   "metadata": {},
   "outputs": [
    {
     "name": "stdout",
     "output_type": "stream",
     "text": [
      "z-statistic has a z_val of: -5.475925202078116\n",
      "z-statistic has a p_val of: 4.3523151658821886e-08\n"
     ]
    }
   ],
   "source": [
    "# Probability that True Mean is within 5.45 std of 98.25 F\n",
    "p_val = stats.norm.cdf(t_val)*2  # this means that the cumulative distribution of the being z-val is p_val\n",
    "print('z-statistic has a z_val of: ' + str(z_val))\n",
    "print('z-statistic has a p_val of: ' + str(p_val))"
   ]
  },
  {
   "cell_type": "code",
   "execution_count": 247,
   "metadata": {},
   "outputs": [
    {
     "name": "stdout",
     "output_type": "stream",
     "text": [
      "We reject H_0 and the true population mean is not 98.6 F.\n"
     ]
    }
   ],
   "source": [
    "if p_val < 0.01: \n",
    "    print('We reject H_0 and the true population mean is not 98.6 F.')\n",
    "else:\n",
    "        print('Fail to reject H_0')\n",
    "    "
   ]
  },
  {
   "cell_type": "code",
   "execution_count": 248,
   "metadata": {},
   "outputs": [
    {
     "name": "stdout",
     "output_type": "stream",
     "text": [
      "0.9999999782384241\n"
     ]
    }
   ],
   "source": [
    "print(stats.norm.sf(z_val))  #does this mean the area under the graph of the distribution under the mean is 0.9999???"
   ]
  },
  {
   "cell_type": "code",
   "execution_count": 249,
   "metadata": {},
   "outputs": [
    {
     "name": "stdout",
     "output_type": "stream",
     "text": [
      "The t-statistic is: -5.4548232923645195and the p-value is: 2.4106320415561276e-07\n"
     ]
    }
   ],
   "source": [
    "t_test = stats.ttest_1samp(temp, 98.6) #nan_policy='propagate' axis=0\n",
    "print('The t-statistic is: ' + str(t_test[0]) + 'and the p-value is: ' +  str(t_test[1]) )"
   ]
  },
  {
   "cell_type": "code",
   "execution_count": 250,
   "metadata": {},
   "outputs": [
    {
     "name": "stdout",
     "output_type": "stream",
     "text": [
      "[99.  98.7 97.6 98.  98.9 98.2 99.4 97.3 97.8 98.6 98.2 97.6 99.  97.9\n",
      " 97.7 98.5 99.3 98.2 98.8 97.8 98.3 97.1 97.4 98.  98.5 97.7 99.2 99.\n",
      " 98.  98.8 96.8 98.9 98.8 99.  98.6 98.8 98.4 98.8 99.  97.1 97.6 99.1\n",
      " 97.6 98.6 98.3 98.4 98.  96.3 98.2 99.9 98.2 98.8 98.4 97.6 98.4 97.4\n",
      " 98.6 96.3 98.6 99.  98.  98.2 98.4 98.6 98.2 98.2 98.7 99.1 98.6 98.2\n",
      " 98.8 99.3 97.6 98.4 97.7 97.6 97.6 98.5 98.5 98.7 97.7 97.1 99.5 97.4\n",
      " 98.6 98.4 99.  98.8 98.8 98.4 98.4 99.2 99.  98.8 98.  98.8 96.7 98.5\n",
      " 98.  98.5 98.  98.3 99.2 99.  98.1 99.1 97.8 98.6 98.4 98.4 97.9 98.2\n",
      " 97.6 98.2 98.2 98.4 97.1 98.  97.6 99.2 97.8 97.9 98.2 98.  99.5 97.9\n",
      " 98.4 98.7 98.  97.8]\n",
      "98.4\n",
      "0.6498065255982429\n",
      "98.29230769230769\n"
     ]
    }
   ],
   "source": [
    "#Try a bootstrap hypothesis test. #this is not bootstrap, is it? this is just a permutation of the sample I initially have had\n",
    "np.random.seed(4)\n",
    "bs_sample = np.random.choice(temp, size = 130)\n",
    "bs_med = np.median(bs_sample)\n",
    "bs_std = np.std(bs_sample)\n",
    "bs_mean = np.mean(bs_sample)\n",
    "print(bs_sample)\n",
    "print(bs_med)\n",
    "print(bs_std)\n",
    "print(bs_mean)"
   ]
  },
  {
   "cell_type": "code",
   "execution_count": 251,
   "metadata": {},
   "outputs": [
    {
     "data": {
      "text/plain": [
       "98.2623076923077"
      ]
     },
     "execution_count": 251,
     "metadata": {},
     "output_type": "execute_result"
    }
   ],
   "source": [
    "def bootstrap_replicate_1d(temp, func):      # am I using this anywhere in this assignment at all?\n",
    "     \"\"\"Generate bootstrap replicate of 1D data.\"\"\"   # this func gives the mean of a sample of temperaturs since we need\n",
    "                                                      # a lot of the samles, the next chuck (with a for loop) makes it  \n",
    "     bs_sample = np.random.choice(temp, len(temp))\n",
    "     return func(bs_sample) \n",
    "bootstrap_replicate_1d(temp, np.mean) "
   ]
  },
  {
   "cell_type": "code",
   "execution_count": 252,
   "metadata": {},
   "outputs": [
    {
     "name": "stderr",
     "output_type": "stream",
     "text": [
      "C:\\Users\\Nazanin\\Anaconda3\\lib\\site-packages\\matplotlib\\axes\\_axes.py:6521: MatplotlibDeprecationWarning: \n",
      "The 'normed' kwarg was deprecated in Matplotlib 2.1 and will be removed in 3.1. Use 'density' instead.\n",
      "  alternative=\"'density'\", removal=\"3.1\")\n"
     ]
    },
    {
     "data": {
      "image/png": "[encoded data removed]",
      "text/plain": [
       "<Figure size 432x288 with 1 Axes>"
      ]
     },
     "metadata": {
      "needs_background": "light"
     },
     "output_type": "display_data"
    }
   ],
   "source": [
    " bs_replicates = np.empty(10000)\n",
    "for i in range(10000):\n",
    "    bs_replicates[i] = bootstrap_replicate_1d(temp, np.mean)\n",
    "                                                      #here, should I add return bs_replocates? \n",
    "                                                       # return is when you return a function \n",
    "plt.hist(bs_replicates, bins=30, normed=True)\n",
    "plt.xlabel('mean Body Temperature (F)')\n",
    "plt.ylabel('PDF')                                  # what are the axes? x is the mean of the 10000 samples, y axis? \n",
    "plt.show()"
   ]
  },
  {
   "cell_type": "code",
   "execution_count": 28,
   "metadata": {},
   "outputs": [],
   "source": [
    "def draw_bs_reps(temp, func, size=1):     #don't know what is this one chunk is good for? Also, why size = 1(default argument)\n",
    "    \"\"\"Draw bootstrap replicates.\"\"\"\n",
    "\n",
    "    # Initialize array of replicates: bs_replicates\n",
    "    bs_replicates = np.empty(size)\n",
    "\n",
    "    # Generate replicates\n",
    "    for i in range(size):\n",
    "        bs_replicates[i] = bootstrap_replicate_1d(temp, func)  #or np.mean instead of func?\n",
    "\n",
    "    return bs_replicates\n"
   ]
  },
  {
   "cell_type": "code",
   "execution_count": 253,
   "metadata": {},
   "outputs": [
    {
     "name": "stdout",
     "output_type": "stream",
     "text": [
      "The p_value of the bootstrap method is: 0.0\n",
      "[98.08538077 98.41461923]\n",
      "We reject H_0 and the true population mean is not 98.6 F.\n"
     ]
    }
   ],
   "source": [
    "p_value_bs = np.sum(bs_replicates >= 98.6)/10000\n",
    "print('The p_value of the bootstrap method is: ' + str(p_value_bs))\n",
    "conf_int = np.percentile(bs_replicates, [0.5, 99.5]) \n",
    "print(conf_int)    # 98.6 is not in the 99% confidence interval so the p-value is much less than the alphs of 0.01 and we can\n",
    "                   # reject the Null Hypothosis\n",
    "if p_value_bs < 0.01: \n",
    "    print('We reject H_0 and the true population mean is not 98.6 F.')\n",
    "else:\n",
    "        print('Fail to reject H_0')    \n",
    "    "
   ]
  },
  {
   "cell_type": "code",
   "execution_count": 167,
   "metadata": {},
   "outputs": [
    {
     "name": "stdout",
     "output_type": "stream",
     "text": [
      "0.06405661469519336\n",
      "0.06380863626134425\n"
     ]
    },
    {
     "name": "stderr",
     "output_type": "stream",
     "text": [
      "C:\\Users\\Nazanin\\Anaconda3\\lib\\site-packages\\matplotlib\\axes\\_axes.py:6521: MatplotlibDeprecationWarning: \n",
      "The 'normed' kwarg was deprecated in Matplotlib 2.1 and will be removed in 3.1. Use 'density' instead.\n",
      "  alternative=\"'density'\", removal=\"3.1\")\n"
     ]
    },
    {
     "data": {
      "image/png": "[encoded data removed]",
      "text/plain": [
       "<Figure size 432x288 with 1 Axes>"
      ]
     },
     "metadata": {
      "needs_background": "light"
     },
     "output_type": "display_data"
    }
   ],
   "source": [
    "#bs_replicates = \n",
    "\n",
    "# Compute and print SEM\n",
    "sem = np.std(temp) / np.sqrt(len(temp))\n",
    "print(sem)\n",
    "\n",
    "# Compute and print standard deviation of bootstrap replicates\n",
    "bs_std = np.std(bs_replicates)\n",
    "print(bs_std)\n",
    "\n",
    "# Make a histogram of the results\n",
    "plt.hist(bs_replicates, bins=50, normed=True)\n",
    "plt.xlabel('Human Body Temperature (F)')\n",
    "plt.ylabel('PDF')\n",
    "\n",
    "# Show the plot\n",
    "plt.show()"
   ]
  },
  {
   "cell_type": "code",
   "execution_count": 254,
   "metadata": {},
   "outputs": [
    {
     "name": "stdout",
     "output_type": "stream",
     "text": [
      "[98.08538077 98.41461923]\n"
     ]
    }
   ],
   "source": [
    "conf_int = np.percentile(bs_replicates, [0.5, 99.5]) \n",
    "print(conf_int)"
   ]
  },
  {
   "cell_type": "code",
   "execution_count": 255,
   "metadata": {},
   "outputs": [],
   "source": [
    "#Draw a small sample of size 10 from the data and repeat both frequentist tests.\n",
    "#Which one is the correct one to use?\n",
    "#What do you notice? What does this tell you about the difference in application of the  𝑡  and  𝑧  statistic?"
   ]
  },
  {
   "cell_type": "code",
   "execution_count": 256,
   "metadata": {},
   "outputs": [
    {
     "name": "stdout",
     "output_type": "stream",
     "text": [
      "[98.3 97.6 99.9 98.6 97.7 98.6 98.6 97.3 99.  98.2]\n",
      "The t-statistic is: -0.9227385558939308and the p-value is: 0.3802157952307399\n"
     ]
    }
   ],
   "source": [
    "np.random.seed(44)     # t statistic does not have enough evidence to reject the H_0\n",
    "temp_ssample = np.random.choice(temp, size = 10)\n",
    "print(temp_ssample)\n",
    "# t-statistic \n",
    "t_stest = stats.ttest_1samp(temp_ssample, 98.6) #nan_policy='propagate' axis=0\n",
    "print('The t-statistic is: ' + str(t_stest[0]) + 'and the p-value is: ' +  str(t_stest[1]) )"
   ]
  },
  {
   "cell_type": "code",
   "execution_count": 257,
   "metadata": {},
   "outputs": [
    {
     "name": "stdout",
     "output_type": "stream",
     "text": [
      "z-statistic has a z_val of: -0.9726518404931364\n",
      "z-statistic has a p_val of: 0.3307263683089995\n"
     ]
    }
   ],
   "source": [
    "# z-statistic \n",
    "z_sval=(np.mean(temp_ssample)-98.6)/(np.std(temp_ssample)/(len(temp_ssample)**0.5))\n",
    "z_sval\n",
    "# Probability that True Mean is within 5.45 std of 98.25 F\n",
    "p_sval = stats.norm.cdf(z_sval)*2    # should it be multiplied 2? yes, since it's 2 tailed \n",
    "#p_sval = stats.norm.cdf(z_sval)  # this means that the cumulative distribution of the being 5.48 std is p_val\n",
    "print('z-statistic has a z_val of: ' + str(z_sval))\n",
    "print('z-statistic has a p_val of: ' + str(p_sval))"
   ]
  },
  {
   "cell_type": "code",
   "execution_count": 258,
   "metadata": {},
   "outputs": [
    {
     "name": "stdout",
     "output_type": "stream",
     "text": [
      "Fail to reject H_0\n"
     ]
    }
   ],
   "source": [
    "if p_sval < 0.01: \n",
    "    print('We reject H_0 and the true population mean is not 98.6 F.')\n",
    "else:\n",
    "        print('Fail to reject H_0')      # WEIRD RESULT for both t and z statistic!!!!\n",
    "    "
   ]
  },
  {
   "cell_type": "code",
   "execution_count": 259,
   "metadata": {},
   "outputs": [],
   "source": [
    "#At what temperature should we consider someone's temperature to be \"abnormal\"?\n",
    "#As in the previous example, try calculating everything using the boostrap approach, as well as the frequentist approach.\n",
    "#Start by computing the margin of error and confidence interval. When calculating the confidence interval, \n",
    "#keep in mind that you should use the appropriate formula for one draw, and not N draws."
   ]
  },
  {
   "cell_type": "code",
   "execution_count": 260,
   "metadata": {},
   "outputs": [],
   "source": [
    "#moe = z_val * (std/np.sqrt(130))\n",
    "#print(moe)"
   ]
  },
  {
   "cell_type": "code",
   "execution_count": 261,
   "metadata": {},
   "outputs": [
    {
     "name": "stdout",
     "output_type": "stream",
     "text": [
      "(96.81775582674824, 99.68070571171332)\n"
     ]
    }
   ],
   "source": [
    "#The 95% confidence interval for a single draw (n=1) from a normal distribution with mean mu and std deviation: \n",
    "confidence_int = stats.norm.interval(0.95, loc=mean, scale=std)  # is this correct? a student got it and others got other answers\n",
    "#conf_int = np.percentile(bs_replicates, [0.5, 99.5]) \n",
    "# I used n = 1 here since it's individual stats rather than / np.sqrt(len(temp))\n",
    "print(confidence_int)"
   ]
  },
  {
   "cell_type": "code",
   "execution_count": 262,
   "metadata": {},
   "outputs": [
    {
     "name": "stdout",
     "output_type": "stream",
     "text": [
      "The critical z-value is: 1.431501246653874\n",
      "The 95% confidence interval is between: [99.68073202 96.81772952] so a body temperature outside of the confidence interval is considered abnormal.\n"
     ]
    }
   ],
   "source": [
    "z_crit = 1.96 * std\n",
    "ci = np.array([mean + z_crit,  mean - z_crit])\n",
    "print('The critical z-value is: '+ str(z_crit))\n",
    "print('The 95% confidence interval is between: '+ str(ci) + ' so a body temperature outside of the confidence interval is considered abnormal.')"
   ]
  },
  {
   "cell_type": "code",
   "execution_count": 263,
   "metadata": {},
   "outputs": [
    {
     "name": "stdout",
     "output_type": "stream",
     "text": [
      "The p_value through the bootstrap method is: 0.0\n",
      "The 95% confidence interval through the bootstrap method is: (96.81775582674824, 99.68070571171332)\n"
     ]
    }
   ],
   "source": [
    "#Try a bootstrap hypothesis test.  \n",
    "#np.random.seed(444)\n",
    "bs_replicates_abn = np.empty(10000)\n",
    "for i in range(10000):\n",
    "    bs_replicates_abn[i] = bootstrap_replicate_1d(temp, np.mean)\n",
    "                                    \n",
    "\n",
    "p_value_bs = np.sum(bs_replicates_abn >= 98.6)/10000\n",
    "bs_confident_int_abn = stats.norm.interval(0.95, loc=mean, scale=std) #np.percentile(bs_replicates_abn, [2.5,97.5])\n",
    "                                                                     #how come if I do above the CI are so different??!!!\n",
    "#bs = draw_bs_reps(temp, np.mean, size=10000)\n",
    "print('The p_value through the bootstrap method is: ' + str(p_value_bs))  \n",
    "print('The 95% confidence interval through the bootstrap method is: ' + str(bs_confident_int_abn))"
   ]
  },
  {
   "cell_type": "code",
   "execution_count": 264,
   "metadata": {},
   "outputs": [
    {
     "data": {
      "text/html": [
       "<div>\n",
       "<style scoped>\n",
       "    .dataframe tbody tr th:only-of-type {\n",
       "        vertical-align: middle;\n",
       "    }\n",
       "\n",
       "    .dataframe tbody tr th {\n",
       "        vertical-align: top;\n",
       "    }\n",
       "\n",
       "    .dataframe thead th {\n",
       "        text-align: right;\n",
       "    }\n",
       "</style>\n",
       "<table border=\"1\" class=\"dataframe\">\n",
       "  <thead>\n",
       "    <tr style=\"text-align: right;\">\n",
       "      <th></th>\n",
       "      <th>temperature</th>\n",
       "      <th>gender</th>\n",
       "      <th>heart_rate</th>\n",
       "    </tr>\n",
       "  </thead>\n",
       "  <tbody>\n",
       "    <tr>\n",
       "      <th>0</th>\n",
       "      <td>99.3</td>\n",
       "      <td>F</td>\n",
       "      <td>68.0</td>\n",
       "    </tr>\n",
       "    <tr>\n",
       "      <th>1</th>\n",
       "      <td>98.4</td>\n",
       "      <td>F</td>\n",
       "      <td>81.0</td>\n",
       "    </tr>\n",
       "    <tr>\n",
       "      <th>2</th>\n",
       "      <td>97.8</td>\n",
       "      <td>M</td>\n",
       "      <td>73.0</td>\n",
       "    </tr>\n",
       "    <tr>\n",
       "      <th>3</th>\n",
       "      <td>99.2</td>\n",
       "      <td>F</td>\n",
       "      <td>66.0</td>\n",
       "    </tr>\n",
       "    <tr>\n",
       "      <th>4</th>\n",
       "      <td>98.0</td>\n",
       "      <td>F</td>\n",
       "      <td>73.0</td>\n",
       "    </tr>\n",
       "  </tbody>\n",
       "</table>\n",
       "</div>"
      ],
      "text/plain": [
       "   temperature gender  heart_rate\n",
       "0         99.3      F        68.0\n",
       "1         98.4      F        81.0\n",
       "2         97.8      M        73.0\n",
       "3         99.2      F        66.0\n",
       "4         98.0      F        73.0"
      ]
     },
     "execution_count": 264,
     "metadata": {},
     "output_type": "execute_result"
    }
   ],
   "source": [
    "#Is there a significant difference between males and females in normal temperature?\n",
    "#What testing approach did you use and why? Null Hypo  --> H_0: D = 0 (D = difference between mean temp of male and female)\n",
    "                                                          # H_a : D != 0. \n",
    "#Write a story with your conclusion in the context of the original problem.\n",
    "df.head()       "
   ]
  },
  {
   "cell_type": "code",
   "execution_count": 265,
   "metadata": {},
   "outputs": [
    {
     "name": "stdout",
     "output_type": "stream",
     "text": [
      "The mean for female body temperature is: 98.39384615384613\n",
      "The standard deviation for female body temperature is: 0.7377464486428966\n"
     ]
    }
   ],
   "source": [
    "mean_f = np.mean(df[df['gender'] == 'F'].temperature)\n",
    "std_f = np.std(df[df['gender'] == 'F'].temperature)\n",
    "print('The mean for female body temperature is: ' + str(mean_f))\n",
    "print('The standard deviation for female body temperature is: ' + str(std_f))"
   ]
  },
  {
   "cell_type": "code",
   "execution_count": 266,
   "metadata": {},
   "outputs": [
    {
     "name": "stdout",
     "output_type": "stream",
     "text": [
      "The mean for male body temperature is: 98.1046153846154\n",
      "The standard deviation for male body temperature is: 0.6933598841828696\n"
     ]
    }
   ],
   "source": [
    "mean_m = np.mean(df[df['gender'] == 'M'].temperature)\n",
    "std_m = np.std(df[df['gender'] == 'M'].temperature)\n",
    "print('The mean for male body temperature is: ' + str(mean_m))\n",
    "print('The standard deviation for male body temperature is: ' + str(std_m))"
   ]
  },
  {
   "cell_type": "code",
   "execution_count": 313,
   "metadata": {},
   "outputs": [
    {
     "name": "stdout",
     "output_type": "stream",
     "text": [
      "The mean difference bwteen female and male body temperature is: 0.289230769230727\n",
      "The standard deviation of difference bewteen female and male body temperature is: 0.12557668521231213\n"
     ]
    }
   ],
   "source": [
    "mean_d = mean_f - mean_m\n",
    "std_d = np.sqrt(std_m **2 /65+ std_f ** 2/65)  #this is the std of both std's of male and female, correct???\n",
    "print('The mean difference bwteen female and male body temperature is: ' + str(mean_d))\n",
    "print('The standard deviation of difference bewteen female and male body temperature is: ' + str(std_d))"
   ]
  },
  {
   "cell_type": "code",
   "execution_count": 268,
   "metadata": {
    "scrolled": true
   },
   "outputs": [
    {
     "data": {
      "text/plain": [
       "gender\n",
       "F    65\n",
       "M    65\n",
       "dtype: int64"
      ]
     },
     "execution_count": 268,
     "metadata": {},
     "output_type": "execute_result"
    }
   ],
   "source": [
    "df.groupby('gender').size()"
   ]
  },
  {
   "cell_type": "code",
   "execution_count": 269,
   "metadata": {},
   "outputs": [
    {
     "name": "stdout",
     "output_type": "stream",
     "text": [
      "0    99.3\n",
      "1    98.4\n",
      "3    99.2\n",
      "4    98.0\n",
      "8    98.4\n",
      "Name: temperature, dtype: float64\n"
     ]
    }
   ],
   "source": [
    "f_temp = df[df['gender'] == 'F']['temperature']\n",
    "print(f_temp.head())"
   ]
  },
  {
   "cell_type": "code",
   "execution_count": 270,
   "metadata": {},
   "outputs": [
    {
     "name": "stdout",
     "output_type": "stream",
     "text": [
      "2     97.8\n",
      "5     99.2\n",
      "6     98.0\n",
      "7     98.8\n",
      "12    98.2\n",
      "Name: temperature, dtype: float64\n"
     ]
    }
   ],
   "source": [
    "m_temp = df[df['gender'] == 'M']['temperature']\n",
    "print(m_temp.head())"
   ]
  },
  {
   "cell_type": "code",
   "execution_count": 271,
   "metadata": {},
   "outputs": [
    {
     "data": {
      "image/png": "[encoded data removed]",
      "text/plain": [
       "<Figure size 432x288 with 1 Axes>"
      ]
     },
     "metadata": {
      "needs_background": "light"
     },
     "output_type": "display_data"
    },
    {
     "data": {
      "image/png": "[encoded data removed]",
      "text/plain": [
       "<Figure size 432x288 with 1 Axes>"
      ]
     },
     "metadata": {
      "needs_background": "light"
     },
     "output_type": "display_data"
    }
   ],
   "source": [
    "n_bins_f = np.sqrt(65)  \n",
    "int(n_bins_f)\n",
    "plt.subplots(1,1)\n",
    "plt.hist(f_temp, bins = int(n_bins_f), density=True)  \n",
    "plt.xlabel('Temperature (F)')\n",
    "plt.ylabel('Frequency')\n",
    "plt.title('Dirstibution of Female Body Temperature')\n",
    "#plt.axis([95, 105, 0, 1])\n",
    "#x = np.linspace(np.min(f_temp) - 1, np.max(f_temp) + 1, 50, endpoint=True)\n",
    "#x = np.linspace(norm.ppf(0.01), norm.ppf(0.99), 100)\n",
    "#plt.plot(x, norm.pdf(x), 'r-', lw=5, alpha=0.6, label='norm pdf')\n",
    "#npdf=norm(98.249231,0.733183)\n",
    "#plt.plot( npdf.pdf(range(int(np.min(temp)) - 1,int(np.max(temp)) + 1)),  lw=2) #range(0,100),\n",
    "plt.subplots(1,0)\n",
    "plt.hist(m_temp, bins = int(n_bins_f), density=True)  \n",
    "plt.xlabel('Temperature in F')\n",
    "plt.ylabel('Frequency')\n",
    "plt.title('Dirstibution of Male Body Temperature')\n",
    "#plt.axis([95, 105, 0, 1])\n",
    "#x = np.linspace(np.min(m_temp) - 1, np.max(m_temp) + 1, 50, endpoint=True)\n",
    "plt.show()"
   ]
  },
  {
   "cell_type": "code",
   "execution_count": 272,
   "metadata": {},
   "outputs": [
    {
     "data": {
      "text/plain": [
       "<matplotlib.axes._subplots.AxesSubplot at 0x1f0f8a6da90>"
      ]
     },
     "execution_count": 272,
     "metadata": {},
     "output_type": "execute_result"
    },
    {
     "data": {
      "image/png": "[encoded data removed]",
      "text/plain": [
       "<Figure size 432x288 with 1 Axes>"
      ]
     },
     "metadata": {
      "needs_background": "light"
     },
     "output_type": "display_data"
    }
   ],
   "source": [
    "sns.boxplot(x = 'gender', y = 'temperature', data=df)"
   ]
  },
  {
   "cell_type": "code",
   "execution_count": 273,
   "metadata": {},
   "outputs": [
    {
     "data": {
      "image/png": "[encoded data removed]",
      "text/plain": [
       "<Figure size 432x288 with 1 Axes>"
      ]
     },
     "metadata": {
      "needs_background": "light"
     },
     "output_type": "display_data"
    }
   ],
   "source": [
    "#samples = np.random.normal(mean, std, size = 10000) #what does it mean when we put mean and std in the 1st and 2nd arguments\n",
    "ecdf_temp_m = ECDF(m_temp)\n",
    "plt.plot(ecdf_temp_m.x,ecdf_temp_m.y, marker= '.', linestyle = 'none', color = 'r')\n",
    "ecdf_temp_f = ECDF(f_temp)\n",
    "plt.plot(ecdf_temp_f.x,ecdf_temp_f.y, marker= '.', linestyle = 'none', color = 'g')\n",
    "#temp_norm = np.random.normal(np.mean(temp), np.std(temp), 100000)\n",
    "#ecdf = ECDF(temp_norm)\n",
    "#ecdf = ECDF(data)\n",
    "#plt.plot(ecdf.x,ecdf.y)\n",
    "plt.legend(('Male Body Temperature', 'Female Body Temperature'), loc='lower right')\n",
    "plt.title('CDF of Female and Make Body Temperature Distribution', fontsize=18)\n",
    "plt.show()"
   ]
  },
  {
   "cell_type": "code",
   "execution_count": 274,
   "metadata": {},
   "outputs": [],
   "source": [
    "#t test "
   ]
  },
  {
   "cell_type": "code",
   "execution_count": 314,
   "metadata": {},
   "outputs": [
    {
     "name": "stdout",
     "output_type": "stream",
     "text": [
      "2.3032202891940123\n"
     ]
    }
   ],
   "source": [
    "z_val_d=(mean_d- 0)/(std_d)\n",
    "print(z_val_d)      # t score b/c we did a t test but then how about the next cell for the t-test???"
   ]
  },
  {
   "cell_type": "code",
   "execution_count": 292,
   "metadata": {},
   "outputs": [
    {
     "name": "stdout",
     "output_type": "stream",
     "text": [
      "[ 96.4  98.7  96.8  97.7  98.   98.   97.9  99.1  99.   97.8  98.4  98.\n",
      "  98.1  98.1  99.1  97.6  99.   98.2  98.7  99.4  97.6  98.8  98.4  98.2\n",
      "  97.2  99.2  96.8 100.8  98.   98.7  98.1  97.4  98.8  98.   98.8  98.4\n",
      "  98.2  99.4  97.7  97.8  99.   99.2  97.2  98.3  98.4  99.3  98.6  98.4\n",
      "  99.1  98.   99.   98.3  99.4  98.2  98.4  98.3  99.2  99.   99.2  98.1\n",
      "  98.9  98.3  98.6  98.2  97.9]\n",
      "The t-statistic is: -0.09291803301356745and the p-value is: 0.9262589402186184\n"
     ]
    }
   ],
   "source": [
    "np.random.seed(44)     \n",
    "temp_fsample = np.random.choice(f_temp, 65)\n",
    "print(temp_fsample)\n",
    "# t-statistic \n",
    "t_ftest = stats.ttest_1samp(temp_fsample, 98.39) #nan_policy='propagate' axis=0 98.39 is pop mean for female temp \n",
    "print('The t-statistic is: ' + str(t_ftest[0]) + 'and the p-value is: ' +  str(t_ftest[1]) )"
   ]
  },
  {
   "cell_type": "code",
   "execution_count": 293,
   "metadata": {},
   "outputs": [
    {
     "name": "stdout",
     "output_type": "stream",
     "text": [
      "[98.2 98.8 98.6 98.  98.3 98.4 97.4 97.  98.  97.8 97.6 98.6 98.5 98.6\n",
      " 98.6 99.  97.4 98.8 97.  97.6 98.5 98.8 98.  98.6 98.7 98.  98.1 97.1\n",
      " 98.8 97.4 98.2 98.2 98.  97.1 99.  97.3 97.3 99.  97.7 97.8 99.2 98.9\n",
      " 98.5 97.3 98.  98.6 98.6 98.3 98.2 97.8 97.2 98.6 99.  98.  96.9 98.\n",
      " 97.  97.8 97.1 98.4 98.7 98.2 97.8 97.5 98.4]\n",
      "The t-statistic is: -0.140436911793233and the p-value is: 0.8887558614983592\n"
     ]
    }
   ],
   "source": [
    "np.random.seed(40)     \n",
    "temp_msample = np.random.choice(m_temp, 65)\n",
    "print(temp_msample)\n",
    "# t-statistic \n",
    "t_mtest = stats.ttest_1samp(temp_msample, 98.1) #nan_policy='propagate' axis=0 98.1 is pop mean for male temp \n",
    "print('The t-statistic is: ' + str(t_mtest[0]) + 'and the p-value is: ' +  str(t_mtest[1]) )"
   ]
  },
  {
   "cell_type": "code",
   "execution_count": 297,
   "metadata": {},
   "outputs": [],
   "source": [
    " bs_replicates_f = np.empty(10000)\n",
    "for i in range(10000):\n",
    "    bs_replicates_f[i] = bootstrap_replicate_1d(f_temp, np.mean)\n",
    "                   "
   ]
  },
  {
   "cell_type": "code",
   "execution_count": 319,
   "metadata": {},
   "outputs": [
    {
     "name": "stdout",
     "output_type": "stream",
     "text": [
      "Female Body Temperature p-value is: 0.0147\n",
      "Female Body Temperature 95% confidence interval is: (96.94788968478372, 99.83980262290854)\n",
      "1.6448536269514722\n"
     ]
    }
   ],
   "source": [
    "p_value_f = np.sum(bs_replicates_f>= 98.6)/10000   # not sure what to have for >= inside the sum()  ?????\n",
    "bs_confident_f = stats.norm.interval(0.95, loc=mean_f, scale=std_f)\n",
    "z_critical_f = stats.norm.ppf(q = 0.95)\n",
    "print('Female Body Temperature p-value is: ' + str(p_value_f))\n",
    "print('Female Body Temperature 95% confidence interval is: ' + str(bs_confident_f))\n",
    "print(z_critical_f)"
   ]
  },
  {
   "cell_type": "code",
   "execution_count": 311,
   "metadata": {},
   "outputs": [
    {
     "name": "stdout",
     "output_type": "stream",
     "text": [
      "0.15051428020605384\n"
     ]
    }
   ],
   "source": [
    "moe_f = z_critical_f * (std_f/np.sqrt(65))\n",
    "print(moe_f)"
   ]
  },
  {
   "cell_type": "code",
   "execution_count": 318,
   "metadata": {},
   "outputs": [
    {
     "name": "stdout",
     "output_type": "stream",
     "text": [
      "Male Body Temperature p-value is: 0.0\n",
      "Male Body Temperature 95% confidence interval is: (96.74565498329211, 99.46357578593869)\n",
      "1.6448536269514722\n"
     ]
    }
   ],
   "source": [
    " bs_replicates_m = np.empty(10000)\n",
    "for i in range(10000):\n",
    "    bs_replicates_m[i] = bootstrap_replicate_1d(m_temp, np.mean)\n",
    "p_value_m = np.sum(bs_replicates_m >= 98.6)/10000\n",
    "bs_confident_m = stats.norm.interval(0.95, loc=mean_m, scale=std_m)\n",
    "z_critical_m = stats.norm.ppf(q = 0.95)\n",
    "print('Male Body Temperature p-value is: ' + str(p_value_m))\n",
    "print('Male Body Temperature 95% confidence interval is: ' + str(bs_confident_m))\n",
    "print(z_critical_m)"
   ]
  },
  {
   "cell_type": "code",
   "execution_count": 312,
   "metadata": {},
   "outputs": [
    {
     "name": "stdout",
     "output_type": "stream",
     "text": [
      "0.14145857846352414\n"
     ]
    }
   ],
   "source": [
    "moe_m = z_critical_m * (std_m/np.sqrt(65))\n",
    "print(moe_m)"
   ]
  },
  {
   "cell_type": "code",
   "execution_count": 322,
   "metadata": {},
   "outputs": [
    {
     "name": "stdout",
     "output_type": "stream",
     "text": [
      "Ttest_indResult(statistic=2.285434538165611, pvalue=0.023938264182934196)\n"
     ]
    }
   ],
   "source": [
    "result = stats.ttest_ind(f_temp, m_temp, equal_var=False)   # for 2 independent samples \n",
    "print(result)"
   ]
  },
  {
   "cell_type": "code",
   "execution_count": 324,
   "metadata": {},
   "outputs": [
    {
     "name": "stdout",
     "output_type": "stream",
     "text": [
      "Ttest_indResult(statistic=230.3305157165124, pvalue=0.0)\n"
     ]
    }
   ],
   "source": [
    "result_bs = stats.ttest_ind(bs_replicates_f, bs_replicates_m, equal_var=True)\n",
    "print(result_bs)"
   ]
  },
  {
   "cell_type": "code",
   "execution_count": 306,
   "metadata": {},
   "outputs": [
    {
     "name": "stdout",
     "output_type": "stream",
     "text": [
      "0.003846153846126299\n"
     ]
    }
   ],
   "source": [
    "#margin of error for female body temp:    # is this correct in any way?????\n",
    "z_f=(np.mean(f_temp)-98.39)\n",
    "#z_f = (mean_f -)/(std_f/np.sqrt(65))\n",
    "print(z_f)"
   ]
  },
  {
   "cell_type": "code",
   "execution_count": 217,
   "metadata": {},
   "outputs": [
    {
     "data": {
      "text/plain": [
       "0.011439639934792151"
      ]
     },
     "execution_count": 217,
     "metadata": {},
     "output_type": "execute_result"
    }
   ],
   "source": [
    "# stats.t.sf(z_val_d, 130-2)   # p-value  Should I use this?! "
   ]
  },
  {
   "cell_type": "code",
   "execution_count": 295,
   "metadata": {},
   "outputs": [
    {
     "name": "stdout",
     "output_type": "stream",
     "text": [
      "z-statistic has a z_value of: 2.3032202891940123\n",
      "z-statistic has a p_value of: 1.9787335481698707\n"
     ]
    }
   ],
   "source": [
    "p_val_d = stats.norm.cdf(z_val_d)*2 # this means that the cumulative distribution of the being 5.48 std is p_val \n",
    "print('z-statistic has a z_value of: ' + str(z_val_d)) \n",
    "print('z-statistic has a p_value of: ' + str(p_val_d))"
   ]
  }
 ],
 "metadata": {
  "kernelspec": {
   "display_name": "Python 3",
   "language": "python",
   "name": "python3"
  },
  "language_info": {
   "codemirror_mode": {
    "name": "ipython",
    "version": 3
   },
   "file_extension": ".py",
   "mimetype": "text/x-python",
   "name": "python",
   "nbconvert_exporter": "python",
   "pygments_lexer": "ipython3",
   "version": "3.7.1"
  }
 },
 "nbformat": 4,
 "nbformat_minor": 1
}
